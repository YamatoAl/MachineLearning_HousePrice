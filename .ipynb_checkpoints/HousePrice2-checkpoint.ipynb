{
 "cells": [
  {
   "cell_type": "code",
   "execution_count": 1,
   "metadata": {},
   "outputs": [],
   "source": [
    "#import 套件\n",
    "#import 資料\n",
    "#特徵工程\n",
    "#train ==> logic regression, svm ...\n",
    "#提交"
   ]
  },
  {
   "cell_type": "code",
   "execution_count": 2,
   "metadata": {},
   "outputs": [],
   "source": [
    "#套件\n",
    "import pandas as pd\n",
    "import numpy as np\n",
    "import random as rnd\n",
    "\n",
    "#繪圖\n",
    "import matplotlib.pyplot as plt\n",
    "import seaborn as sns\n",
    "\n",
    "#演算法\n",
    "from sklearn.neighbors import KNeighborsClassifier\n",
    "from sklearn.linear_model import LogisticRegression\n",
    "from sklearn.naive_bayes import GaussianNB\n",
    "from sklearn.linear_model import Perceptron\n",
    "from sklearn.linear_model import SGDClassifier\n",
    "from sklearn import svm"
   ]
  },
  {
   "cell_type": "code",
   "execution_count": 3,
   "metadata": {},
   "outputs": [],
   "source": [
    "train_df=pd.read_csv('train.csv')\n",
    "test_df=pd.read_csv('test.csv')\n",
    "combine=[train_df,test_df]"
   ]
  },
  {
   "cell_type": "code",
   "execution_count": 4,
   "metadata": {},
   "outputs": [
    {
     "name": "stdout",
     "output_type": "stream",
     "text": [
      "<class 'pandas.core.frame.DataFrame'>\n",
      "RangeIndex: 1460 entries, 0 to 1459\n",
      "Data columns (total 81 columns):\n",
      "Id               1460 non-null int64\n",
      "MSSubClass       1460 non-null int64\n",
      "MSZoning         1460 non-null object\n",
      "LotFrontage      1201 non-null float64\n",
      "LotArea          1460 non-null int64\n",
      "Street           1460 non-null object\n",
      "Alley            91 non-null object\n",
      "LotShape         1460 non-null object\n",
      "LandContour      1460 non-null object\n",
      "Utilities        1460 non-null object\n",
      "LotConfig        1460 non-null object\n",
      "LandSlope        1460 non-null object\n",
      "Neighborhood     1460 non-null object\n",
      "Condition1       1460 non-null object\n",
      "Condition2       1460 non-null object\n",
      "BldgType         1460 non-null object\n",
      "HouseStyle       1460 non-null object\n",
      "OverallQual      1460 non-null int64\n",
      "OverallCond      1460 non-null int64\n",
      "YearBuilt        1460 non-null int64\n",
      "YearRemodAdd     1460 non-null int64\n",
      "RoofStyle        1460 non-null object\n",
      "RoofMatl         1460 non-null object\n",
      "Exterior1st      1460 non-null object\n",
      "Exterior2nd      1460 non-null object\n",
      "MasVnrType       1452 non-null object\n",
      "MasVnrArea       1452 non-null float64\n",
      "ExterQual        1460 non-null object\n",
      "ExterCond        1460 non-null object\n",
      "Foundation       1460 non-null object\n",
      "BsmtQual         1423 non-null object\n",
      "BsmtCond         1423 non-null object\n",
      "BsmtExposure     1422 non-null object\n",
      "BsmtFinType1     1423 non-null object\n",
      "BsmtFinSF1       1460 non-null int64\n",
      "BsmtFinType2     1422 non-null object\n",
      "BsmtFinSF2       1460 non-null int64\n",
      "BsmtUnfSF        1460 non-null int64\n",
      "TotalBsmtSF      1460 non-null int64\n",
      "Heating          1460 non-null object\n",
      "HeatingQC        1460 non-null object\n",
      "CentralAir       1460 non-null object\n",
      "Electrical       1459 non-null object\n",
      "1stFlrSF         1460 non-null int64\n",
      "2ndFlrSF         1460 non-null int64\n",
      "LowQualFinSF     1460 non-null int64\n",
      "GrLivArea        1460 non-null int64\n",
      "BsmtFullBath     1460 non-null int64\n",
      "BsmtHalfBath     1460 non-null int64\n",
      "FullBath         1460 non-null int64\n",
      "HalfBath         1460 non-null int64\n",
      "BedroomAbvGr     1460 non-null int64\n",
      "KitchenAbvGr     1460 non-null int64\n",
      "KitchenQual      1460 non-null object\n",
      "TotRmsAbvGrd     1460 non-null int64\n",
      "Functional       1460 non-null object\n",
      "Fireplaces       1460 non-null int64\n",
      "FireplaceQu      770 non-null object\n",
      "GarageType       1379 non-null object\n",
      "GarageYrBlt      1379 non-null float64\n",
      "GarageFinish     1379 non-null object\n",
      "GarageCars       1460 non-null int64\n",
      "GarageArea       1460 non-null int64\n",
      "GarageQual       1379 non-null object\n",
      "GarageCond       1379 non-null object\n",
      "PavedDrive       1460 non-null object\n",
      "WoodDeckSF       1460 non-null int64\n",
      "OpenPorchSF      1460 non-null int64\n",
      "EnclosedPorch    1460 non-null int64\n",
      "3SsnPorch        1460 non-null int64\n",
      "ScreenPorch      1460 non-null int64\n",
      "PoolArea         1460 non-null int64\n",
      "PoolQC           7 non-null object\n",
      "Fence            281 non-null object\n",
      "MiscFeature      54 non-null object\n",
      "MiscVal          1460 non-null int64\n",
      "MoSold           1460 non-null int64\n",
      "YrSold           1460 non-null int64\n",
      "SaleType         1460 non-null object\n",
      "SaleCondition    1460 non-null object\n",
      "SalePrice        1460 non-null int64\n",
      "dtypes: float64(3), int64(35), object(43)\n",
      "memory usage: 924.0+ KB\n"
     ]
    }
   ],
   "source": [
    "train_df.info()"
   ]
  },
  {
   "cell_type": "code",
   "execution_count": 5,
   "metadata": {
    "scrolled": true
   },
   "outputs": [
    {
     "data": {
      "text/plain": [
       "Index(['Id', 'MSSubClass', 'MSZoning', 'LotFrontage', 'LotArea', 'Street',\n",
       "       'Alley', 'LotShape', 'LandContour', 'Utilities', 'LotConfig',\n",
       "       'LandSlope', 'Neighborhood', 'Condition1', 'Condition2', 'BldgType',\n",
       "       'HouseStyle', 'OverallQual', 'OverallCond', 'YearBuilt', 'YearRemodAdd',\n",
       "       'RoofStyle', 'RoofMatl', 'Exterior1st', 'Exterior2nd', 'MasVnrType',\n",
       "       'MasVnrArea', 'ExterQual', 'ExterCond', 'Foundation', 'BsmtQual',\n",
       "       'BsmtCond', 'BsmtExposure', 'BsmtFinType1', 'BsmtFinSF1',\n",
       "       'BsmtFinType2', 'BsmtFinSF2', 'BsmtUnfSF', 'TotalBsmtSF', 'Heating',\n",
       "       'HeatingQC', 'CentralAir', 'Electrical', '1stFlrSF', '2ndFlrSF',\n",
       "       'LowQualFinSF', 'GrLivArea', 'BsmtFullBath', 'BsmtHalfBath', 'FullBath',\n",
       "       'HalfBath', 'BedroomAbvGr', 'KitchenAbvGr', 'KitchenQual',\n",
       "       'TotRmsAbvGrd', 'Functional', 'Fireplaces', 'FireplaceQu', 'GarageType',\n",
       "       'GarageYrBlt', 'GarageFinish', 'GarageCars', 'GarageArea', 'GarageQual',\n",
       "       'GarageCond', 'PavedDrive', 'WoodDeckSF', 'OpenPorchSF',\n",
       "       'EnclosedPorch', '3SsnPorch', 'ScreenPorch', 'PoolArea', 'PoolQC',\n",
       "       'Fence', 'MiscFeature', 'MiscVal', 'MoSold', 'YrSold', 'SaleType',\n",
       "       'SaleCondition', 'SalePrice'],\n",
       "      dtype='object')"
      ]
     },
     "execution_count": 5,
     "metadata": {},
     "output_type": "execute_result"
    }
   ],
   "source": [
    "train_df.columns"
   ]
  },
  {
   "cell_type": "code",
   "execution_count": 6,
   "metadata": {},
   "outputs": [],
   "source": [
    "for dataset in combine:\n",
    "    dataset['TotalBsmtSF']=dataset['TotalBsmtSF'].fillna(0)\n",
    "    dataset['GarageCars']=dataset['GarageCars'].fillna(0)\n",
    "    dataset['GarageArea']=dataset['GarageArea'].fillna(0)\n",
    "    dataset['GrLivArea']=dataset['GrLivArea'].fillna(0)\n",
    "    dataset['FullBath']=dataset['FullBath'].fillna(0)\n",
    "    dataset['HalfBath']=dataset['HalfBath'].fillna(0)\n",
    "    dataset['BsmtFullBath']=dataset['BsmtFullBath'].fillna(0)\n",
    "    dataset['BsmtHalfBath']=dataset['BsmtHalfBath'].fillna(0)"
   ]
  },
  {
   "cell_type": "code",
   "execution_count": 7,
   "metadata": {},
   "outputs": [],
   "source": [
    "for dataset in combine:\n",
    "    dataset['Bath']=dataset['FullBath']+dataset['HalfBath']+dataset['BsmtFullBath']+dataset['BsmtHalfBath']"
   ]
  },
  {
   "cell_type": "code",
   "execution_count": 8,
   "metadata": {},
   "outputs": [],
   "source": [
    "train_df=train_df.drop(['Id','MSSubClass', 'MSZoning', 'LotFrontage', 'LotArea', 'Street',\n",
    "       'Alley', 'LotShape', 'LandContour', 'Utilities', 'LotConfig',\n",
    "       'LandSlope', 'Neighborhood', 'Condition1', 'Condition2', 'BldgType',\n",
    "       'HouseStyle', 'OverallCond', 'YearRemodAdd',\n",
    "       'RoofStyle', 'RoofMatl', 'Exterior1st', 'Exterior2nd', 'MasVnrType',\n",
    "       'MasVnrArea', 'ExterQual', 'ExterCond', 'Foundation', 'BsmtQual',\n",
    "       'BsmtCond', 'BsmtExposure', 'BsmtFinType1', 'BsmtFinSF1',\n",
    "       'BsmtFinType2', 'BsmtFinSF2', 'BsmtUnfSF', 'Heating',\n",
    "       'HeatingQC', 'CentralAir', 'Electrical', '1stFlrSF', '2ndFlrSF',\n",
    "       'LowQualFinSF', 'BsmtFullBath', 'BsmtHalfBath', 'FullBath',\n",
    "       'HalfBath', 'BedroomAbvGr', 'KitchenAbvGr', 'KitchenQual',\n",
    "       'Functional', 'Fireplaces', 'FireplaceQu', 'GarageType',\n",
    "       'GarageYrBlt', 'GarageFinish', 'GarageQual',\n",
    "       'GarageCond', 'PavedDrive', 'WoodDeckSF', 'OpenPorchSF',\n",
    "       'EnclosedPorch', '3SsnPorch', 'ScreenPorch', 'PoolArea', 'PoolQC',\n",
    "       'Fence', 'MiscFeature', 'MiscVal', 'MoSold', 'YrSold', 'SaleType',\n",
    "       'SaleCondition'],axis=1)\n",
    "test_df=test_df.drop(['MSSubClass', 'MSZoning', 'LotFrontage', 'LotArea', 'Street',\n",
    "       'Alley', 'LotShape', 'LandContour', 'Utilities', 'LotConfig',\n",
    "       'LandSlope', 'Neighborhood', 'Condition1', 'Condition2', 'BldgType',\n",
    "       'HouseStyle', 'OverallCond', 'YearRemodAdd',\n",
    "       'RoofStyle', 'RoofMatl', 'Exterior1st', 'Exterior2nd', 'MasVnrType',\n",
    "       'MasVnrArea', 'ExterQual', 'ExterCond', 'Foundation', 'BsmtQual',\n",
    "       'BsmtCond', 'BsmtExposure', 'BsmtFinType1', 'BsmtFinSF1',\n",
    "       'BsmtFinType2', 'BsmtFinSF2', 'BsmtUnfSF', 'Heating',\n",
    "       'HeatingQC', 'CentralAir', 'Electrical', '1stFlrSF', '2ndFlrSF',\n",
    "       'LowQualFinSF', 'BsmtFullBath', 'BsmtHalfBath', 'FullBath',\n",
    "       'HalfBath', 'BedroomAbvGr', 'KitchenAbvGr', 'KitchenQual',\n",
    "       'Functional', 'Fireplaces', 'FireplaceQu', 'GarageType',\n",
    "       'GarageYrBlt', 'GarageFinish', 'GarageQual',\n",
    "       'GarageCond', 'PavedDrive', 'WoodDeckSF', 'OpenPorchSF',\n",
    "       'EnclosedPorch', '3SsnPorch', 'ScreenPorch', 'PoolArea', 'PoolQC',\n",
    "       'Fence', 'MiscFeature', 'MiscVal', 'MoSold', 'YrSold', 'SaleType',\n",
    "       'SaleCondition'],axis=1)\n",
    "combine=[train_df,test_df]"
   ]
  },
  {
   "cell_type": "code",
   "execution_count": 9,
   "metadata": {},
   "outputs": [
    {
     "data": {
      "text/plain": [
       "Index(['OverallQual', 'YearBuilt', 'TotalBsmtSF', 'GrLivArea', 'TotRmsAbvGrd',\n",
       "       'GarageCars', 'GarageArea', 'SalePrice', 'Bath'],\n",
       "      dtype='object')"
      ]
     },
     "execution_count": 9,
     "metadata": {},
     "output_type": "execute_result"
    }
   ],
   "source": [
    "train_df.columns"
   ]
  },
  {
   "cell_type": "code",
   "execution_count": 10,
   "metadata": {},
   "outputs": [
    {
     "data": {
      "text/plain": [
       "YearBuilt\n",
       "1872     1\n",
       "1875     1\n",
       "1880     4\n",
       "1882     1\n",
       "1885     2\n",
       "1890     2\n",
       "1892     2\n",
       "1893     1\n",
       "1898     1\n",
       "1900    10\n",
       "1904     1\n",
       "1905     1\n",
       "1906     1\n",
       "1908     2\n",
       "1910    17\n",
       "1911     1\n",
       "1912     3\n",
       "1913     1\n",
       "1914     7\n",
       "1915    10\n",
       "1916     8\n",
       "1917     1\n",
       "1918     7\n",
       "1919     3\n",
       "1920    30\n",
       "1921     6\n",
       "1922     8\n",
       "1923     7\n",
       "1924     7\n",
       "1925    16\n",
       "        ..\n",
       "1981     5\n",
       "1982     6\n",
       "1983     4\n",
       "1984     9\n",
       "1985     5\n",
       "1986     5\n",
       "1987     3\n",
       "1988    11\n",
       "1989     3\n",
       "1990    12\n",
       "1991     5\n",
       "1992    13\n",
       "1993    17\n",
       "1994    19\n",
       "1995    18\n",
       "1996    15\n",
       "1997    14\n",
       "1998    25\n",
       "1999    25\n",
       "2000    24\n",
       "2001    20\n",
       "2002    23\n",
       "2003    45\n",
       "2004    54\n",
       "2005    64\n",
       "2006    67\n",
       "2007    49\n",
       "2008    23\n",
       "2009    18\n",
       "2010     1\n",
       "Length: 112, dtype: int64"
      ]
     },
     "execution_count": 10,
     "metadata": {},
     "output_type": "execute_result"
    }
   ],
   "source": [
    "train_df[[\"YearBuilt\",\"SalePrice\"]].groupby([\"YearBuilt\"],as_index=False).size()"
   ]
  },
  {
   "cell_type": "code",
   "execution_count": 11,
   "metadata": {},
   "outputs": [],
   "source": [
    "for dataset in combine:\n",
    "    dataset[\"YearBuilt\"] = 2010-dataset[\"YearBuilt\"]"
   ]
  },
  {
   "cell_type": "code",
   "execution_count": 12,
   "metadata": {},
   "outputs": [],
   "source": [
    "#for dataset in combine:    \n",
    "#    dataset.loc[ dataset['TotalBsmtSF'] <= 672, 'TotalBsmtSF'] = 0\n",
    "#    dataset.loc[(dataset['TotalBsmtSF'] > 672) & (dataset['TotalBsmtSF'] <= 796), 'TotalBsmtSF'] = 1\n",
    "#    dataset.loc[(dataset['TotalBsmtSF'] > 796) & (dataset['TotalBsmtSF'] <= 884), 'TotalBsmtSF'] = 2\n",
    "#    dataset.loc[(dataset['TotalBsmtSF'] > 884) & (dataset['TotalBsmtSF'] <= 992), 'TotalBsmtSF'] = 3\n",
    "#    dataset.loc[(dataset['TotalBsmtSF'] > 992) & (dataset['TotalBsmtSF'] <= 1116), 'TotalBsmtSF'] = 4\n",
    "#    dataset.loc[(dataset['TotalBsmtSF'] > 1116) & (dataset['TotalBsmtSF'] <= 1299), 'TotalBsmtSF'] = 5\n",
    "#    dataset.loc[(dataset['TotalBsmtSF'] > 1299) & (dataset['TotalBsmtSF'] <= 1542), 'TotalBsmtSF'] = 6\n",
    "#    dataset.loc[ dataset['TotalBsmtSF'] > 1542, 'TotalBsmtSF'] = 7"
   ]
  },
  {
   "cell_type": "code",
   "execution_count": 13,
   "metadata": {},
   "outputs": [],
   "source": [
    "#for dataset in combine:    \n",
    "#    dataset.loc[ dataset['GrLivArea'] <= 954, 'GrLivArea'] = 0\n",
    "#    dataset.loc[(dataset['GrLivArea'] > 954) & (dataset['GrLivArea'] <= 1130), 'GrLivArea'] = 1\n",
    "#    dataset.loc[(dataset['GrLivArea'] > 1130) & (dataset['GrLivArea'] <= 1305), 'GrLivArea'] = 2\n",
    "#    dataset.loc[(dataset['GrLivArea'] > 1305) & (dataset['GrLivArea'] <= 1464), 'GrLivArea'] = 3\n",
    "#    dataset.loc[(dataset['GrLivArea'] > 1464) & (dataset['GrLivArea'] <= 1620), 'GrLivArea'] = 4\n",
    "#    dataset.loc[(dataset['GrLivArea'] > 1620) & (dataset['GrLivArea'] <= 1777), 'GrLivArea'] = 5\n",
    "#    dataset.loc[(dataset['GrLivArea'] > 1777) & (dataset['GrLivArea'] <= 2080), 'GrLivArea'] = 6\n",
    "#    dataset.loc[ dataset['GrLivArea'] > 2080, 'GrLivArea'] = 7"
   ]
  },
  {
   "cell_type": "code",
   "execution_count": 14,
   "metadata": {},
   "outputs": [],
   "source": [
    "#for dataset in combine:    \n",
    "#    dataset.loc[ dataset['GarageArea'] <= 256, 'GarageArea'] = 0\n",
    "#    dataset.loc[(dataset['GarageArea'] > 256) & (dataset['GarageArea'] <= 335), 'GarageArea'] = 1\n",
    "#    dataset.loc[(dataset['GarageArea'] > 335) & (dataset['GarageArea'] <= 430), 'GarageArea'] = 2\n",
    "#    dataset.loc[(dataset['GarageArea'] > 430) & (dataset['GarageArea'] <= 480), 'GarageArea'] = 3\n",
    "#    dataset.loc[(dataset['GarageArea'] > 480) & (dataset['GarageArea'] <= 528), 'GarageArea'] = 4\n",
    "#    dataset.loc[(dataset['GarageArea'] > 528) & (dataset['GarageArea'] <= 576), 'GarageArea'] = 5\n",
    "#    dataset.loc[(dataset['GarageArea'] > 576) & (dataset['GarageArea'] <= 702), 'GarageArea'] = 6\n",
    "#    dataset.loc[ dataset['GarageArea'] > 702, 'GarageArea'] = 7"
   ]
  },
  {
   "cell_type": "code",
   "execution_count": 15,
   "metadata": {},
   "outputs": [
    {
     "name": "stdout",
     "output_type": "stream",
     "text": [
      "<class 'pandas.core.frame.DataFrame'>\n",
      "RangeIndex: 1460 entries, 0 to 1459\n",
      "Data columns (total 9 columns):\n",
      "OverallQual     1460 non-null int64\n",
      "YearBuilt       1460 non-null int64\n",
      "TotalBsmtSF     1460 non-null int64\n",
      "GrLivArea       1460 non-null int64\n",
      "TotRmsAbvGrd    1460 non-null int64\n",
      "GarageCars      1460 non-null int64\n",
      "GarageArea      1460 non-null int64\n",
      "SalePrice       1460 non-null int64\n",
      "Bath            1460 non-null int64\n",
      "dtypes: int64(9)\n",
      "memory usage: 102.7 KB\n"
     ]
    }
   ],
   "source": [
    "train_df.info()"
   ]
  },
  {
   "cell_type": "code",
   "execution_count": 16,
   "metadata": {},
   "outputs": [],
   "source": [
    "for dataset in combine:\n",
    "    dataset['OverallQual']=dataset['OverallQual'].astype('float32')\n",
    "    dataset['YearBuilt']=dataset['YearBuilt'].astype('float32')\n",
    "    dataset['TotalBsmtSF']=dataset['TotalBsmtSF'].astype('float32')\n",
    "    dataset['TotRmsAbvGrd']=dataset['TotRmsAbvGrd'].astype('float32')\n",
    "    dataset['GarageCars']=dataset['GarageCars'].astype('float32')\n",
    "    dataset['GarageArea']=dataset['GarageArea'].astype('float32')\n",
    "    dataset['GrLivArea']=dataset['GrLivArea'].astype('float32')\n",
    "    dataset['Bath']=dataset['Bath'].astype('float32')\n"
   ]
  },
  {
   "cell_type": "code",
   "execution_count": 17,
   "metadata": {},
   "outputs": [],
   "source": [
    "train_df['SalePrice']=train_df['SalePrice'].astype('float32')"
   ]
  },
  {
   "cell_type": "code",
   "execution_count": 18,
   "metadata": {
    "scrolled": true
   },
   "outputs": [],
   "source": [
    "X_train = train_df.drop(\"SalePrice\",axis=1)\n",
    "Y_train = train_df[\"SalePrice\"]\n",
    "X_test = test_df.drop(\"Id\",axis=1).copy()"
   ]
  },
  {
   "cell_type": "code",
   "execution_count": 19,
   "metadata": {
    "scrolled": true
   },
   "outputs": [
    {
     "name": "stderr",
     "output_type": "stream",
     "text": [
      "Using TensorFlow backend.\n"
     ]
    }
   ],
   "source": [
    "import keras\n",
    "from keras import models\n",
    "from keras.models import Sequential\n",
    "from keras.layers import Dense\n",
    "\n",
    "model = Sequential()\n",
    "model.add(Dense(1, input_dim=8, batch_size=1))\n",
    "model.compile(optimizer='rmsprop',\n",
    "              loss='mse',\n",
    "              metrics=['mae'])"
   ]
  },
  {
   "cell_type": "code",
   "execution_count": 20,
   "metadata": {},
   "outputs": [],
   "source": [
    "#導入權重(如果存在)\n",
    "import os\n",
    "\n",
    "if os.path.exists('weight2'):\n",
    "    model.load_weights('weight2')"
   ]
  },
  {
   "cell_type": "code",
   "execution_count": 21,
   "metadata": {},
   "outputs": [
    {
     "name": "stdout",
     "output_type": "stream",
     "text": [
      "Epoch 1/2\n",
      "1460/1460 [==============================] - 3s 2ms/step - loss: 1841409233.9373 - mean_absolute_error: 26193.1179\n",
      "Epoch 2/2\n",
      "1460/1460 [==============================] - 3s 2ms/step - loss: 1841443351.0902 - mean_absolute_error: 26193.6197\n"
     ]
    },
    {
     "data": {
      "text/plain": [
       "array([[136475.67],\n",
       "       [162053.52],\n",
       "       [195243.58],\n",
       "       ...,\n",
       "       [167524.66],\n",
       "       [110493.64],\n",
       "       [236056.95]], dtype=float32)"
      ]
     },
     "execution_count": 21,
     "metadata": {},
     "output_type": "execute_result"
    }
   ],
   "source": [
    "# 訓練模型\n",
    "model.fit(X_train, Y_train, epochs=2, batch_size=1)\n",
    "classes = model.predict(X_test, batch_size=1)\n",
    "classes"
   ]
  },
  {
   "cell_type": "code",
   "execution_count": 22,
   "metadata": {},
   "outputs": [],
   "source": [
    "#儲存權重\n",
    "model.get_weights()\n",
    "model.save_weights('weight2')"
   ]
  },
  {
   "cell_type": "code",
   "execution_count": 23,
   "metadata": {},
   "outputs": [
    {
     "data": {
      "text/plain": [
       "(1, 1459)"
      ]
     },
     "execution_count": 23,
     "metadata": {},
     "output_type": "execute_result"
    }
   ],
   "source": [
    "classes.T.shape"
   ]
  },
  {
   "cell_type": "code",
   "execution_count": 24,
   "metadata": {},
   "outputs": [],
   "source": [
    "price=classes.T"
   ]
  },
  {
   "cell_type": "code",
   "execution_count": 25,
   "metadata": {},
   "outputs": [],
   "source": [
    "submission = pd.DataFrame({\n",
    "        \"Id\": test_df[\"Id\"],\n",
    "        \"SalePrice\": price[0]\n",
    "    })\n",
    "submission.to_csv('submissionk'\n",
    "                  +\".csv\", \n",
    "                  index=False)\n",
    "#files.download('submission.csv')"
   ]
  },
  {
   "cell_type": "code",
   "execution_count": 26,
   "metadata": {},
   "outputs": [
    {
     "data": {
      "text/plain": [
       "42.74"
      ]
     },
     "execution_count": 26,
     "metadata": {},
     "output_type": "execute_result"
    }
   ],
   "source": [
    "clf = GaussianNB()\n",
    "clf.fit(X_train,Y_train)\n",
    "Y_pred_clf = clf.predict(X_test)\n",
    "acc_clf = round(clf.score(X_train,Y_train)*100,2)\n",
    "acc_clf"
   ]
  },
  {
   "cell_type": "code",
   "execution_count": 27,
   "metadata": {},
   "outputs": [
    {
     "ename": "NameError",
     "evalue": "name 'files' is not defined",
     "output_type": "error",
     "traceback": [
      "\u001b[1;31m---------------------------------------------------------------------------\u001b[0m",
      "\u001b[1;31mNameError\u001b[0m                                 Traceback (most recent call last)",
      "\u001b[1;32m<ipython-input-27-f317da3d58ff>\u001b[0m in \u001b[0;36m<module>\u001b[1;34m()\u001b[0m\n\u001b[0;32m      6\u001b[0m                   \u001b[1;33m+\u001b[0m\u001b[1;34m\".csv\"\u001b[0m\u001b[1;33m,\u001b[0m\u001b[1;33m\u001b[0m\u001b[0m\n\u001b[0;32m      7\u001b[0m                   index=False)\n\u001b[1;32m----> 8\u001b[1;33m \u001b[0mfiles\u001b[0m\u001b[1;33m.\u001b[0m\u001b[0mdownload\u001b[0m\u001b[1;33m(\u001b[0m\u001b[1;34m'submission.csv'\u001b[0m\u001b[1;33m)\u001b[0m\u001b[1;33m\u001b[0m\u001b[0m\n\u001b[0m",
      "\u001b[1;31mNameError\u001b[0m: name 'files' is not defined"
     ]
    }
   ],
   "source": [
    "submission = pd.DataFrame({\n",
    "        \"Id\": test_df[\"Id\"],\n",
    "        \"SalePrice\": Y_pred_clf\n",
    "    })\n",
    "submission.to_csv('submission2'\n",
    "                  +\".csv\", \n",
    "                  index=False)\n",
    "#files.download('submission.csv')"
   ]
  }
 ],
 "metadata": {
  "kernelspec": {
   "display_name": "Python 3",
   "language": "python",
   "name": "python3"
  },
  "language_info": {
   "codemirror_mode": {
    "name": "ipython",
    "version": 3
   },
   "file_extension": ".py",
   "mimetype": "text/x-python",
   "name": "python",
   "nbconvert_exporter": "python",
   "pygments_lexer": "ipython3",
   "version": "3.6.6"
  }
 },
 "nbformat": 4,
 "nbformat_minor": 2
}
