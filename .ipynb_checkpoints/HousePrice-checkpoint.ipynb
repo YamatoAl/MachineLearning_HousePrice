{
 "cells": [
  {
   "cell_type": "code",
   "execution_count": 1,
   "metadata": {
    "colab": {
     "autoexec": {
      "startup": false,
      "wait_interval": 0
     }
    },
    "colab_type": "code",
    "id": "mBmERF-qlC2Z"
   },
   "outputs": [],
   "source": [
    "#import 套件\n",
    "#import 資料\n",
    "#特徵工程\n",
    "#train ==> logic regression, svm ...\n",
    "#提交"
   ]
  },
  {
   "cell_type": "code",
   "execution_count": 2,
   "metadata": {
    "colab": {
     "autoexec": {
      "startup": false,
      "wait_interval": 0
     }
    },
    "colab_type": "code",
    "id": "hd080qLZlJDH"
   },
   "outputs": [],
   "source": [
    "#套件\n",
    "import pandas as pd\n",
    "import numpy as np\n",
    "import random as rnd\n",
    "\n",
    "#繪圖\n",
    "import matplotlib.pyplot as plt\n",
    "import seaborn as sns\n",
    "\n",
    "#演算法\n",
    "from sklearn.neighbors import KNeighborsClassifier\n",
    "from sklearn.linear_model import LogisticRegression\n",
    "from sklearn.naive_bayes import GaussianNB\n",
    "from sklearn.linear_model import Perceptron\n",
    "from sklearn.linear_model import SGDClassifier\n",
    "from sklearn import svm"
   ]
  },
  {
   "cell_type": "code",
   "execution_count": 3,
   "metadata": {
    "colab": {
     "autoexec": {
      "startup": false,
      "wait_interval": 0
     }
    },
    "colab_type": "code",
    "id": "JT8DuKq8lLN_"
   },
   "outputs": [],
   "source": [
    "#from google.colab import files\n",
    "#uploaded=files.upload()"
   ]
  },
  {
   "cell_type": "code",
   "execution_count": 4,
   "metadata": {
    "colab": {
     "autoexec": {
      "startup": false,
      "wait_interval": 0
     }
    },
    "colab_type": "code",
    "id": "RUtAPUVllXff"
   },
   "outputs": [],
   "source": [
    "train_df=pd.read_csv('train.csv')\n",
    "test_df=pd.read_csv('test.csv')\n",
    "combine=[train_df,test_df]"
   ]
  },
  {
   "cell_type": "code",
   "execution_count": 5,
   "metadata": {
    "colab": {
     "autoexec": {
      "startup": false,
      "wait_interval": 0
     },
     "base_uri": "https://localhost:8080/",
     "height": 244
    },
    "colab_type": "code",
    "executionInfo": {
     "elapsed": 666,
     "status": "ok",
     "timestamp": 1532412717247,
     "user": {
      "displayName": "Yamato Lu",
      "photoUrl": "//lh3.googleusercontent.com/-C7dAorJ3yz8/AAAAAAAAAAI/AAAAAAAACkI/gj_5lhLTdCQ/s50-c-k-no/photo.jpg",
      "userId": "112499826195748670972"
     },
     "user_tz": -480
    },
    "id": "D2p9T_kqmMvG",
    "outputId": "593468b5-9ced-4551-fd5e-d1b08f4935dd"
   },
   "outputs": [
    {
     "data": {
      "text/html": [
       "<div>\n",
       "<style scoped>\n",
       "    .dataframe tbody tr th:only-of-type {\n",
       "        vertical-align: middle;\n",
       "    }\n",
       "\n",
       "    .dataframe tbody tr th {\n",
       "        vertical-align: top;\n",
       "    }\n",
       "\n",
       "    .dataframe thead th {\n",
       "        text-align: right;\n",
       "    }\n",
       "</style>\n",
       "<table border=\"1\" class=\"dataframe\">\n",
       "  <thead>\n",
       "    <tr style=\"text-align: right;\">\n",
       "      <th></th>\n",
       "      <th>Id</th>\n",
       "      <th>MSSubClass</th>\n",
       "      <th>MSZoning</th>\n",
       "      <th>LotFrontage</th>\n",
       "      <th>LotArea</th>\n",
       "      <th>Street</th>\n",
       "      <th>Alley</th>\n",
       "      <th>LotShape</th>\n",
       "      <th>LandContour</th>\n",
       "      <th>Utilities</th>\n",
       "      <th>...</th>\n",
       "      <th>PoolArea</th>\n",
       "      <th>PoolQC</th>\n",
       "      <th>Fence</th>\n",
       "      <th>MiscFeature</th>\n",
       "      <th>MiscVal</th>\n",
       "      <th>MoSold</th>\n",
       "      <th>YrSold</th>\n",
       "      <th>SaleType</th>\n",
       "      <th>SaleCondition</th>\n",
       "      <th>SalePrice</th>\n",
       "    </tr>\n",
       "  </thead>\n",
       "  <tbody>\n",
       "    <tr>\n",
       "      <th>0</th>\n",
       "      <td>1</td>\n",
       "      <td>60</td>\n",
       "      <td>RL</td>\n",
       "      <td>65.0</td>\n",
       "      <td>8450</td>\n",
       "      <td>Pave</td>\n",
       "      <td>NaN</td>\n",
       "      <td>Reg</td>\n",
       "      <td>Lvl</td>\n",
       "      <td>AllPub</td>\n",
       "      <td>...</td>\n",
       "      <td>0</td>\n",
       "      <td>NaN</td>\n",
       "      <td>NaN</td>\n",
       "      <td>NaN</td>\n",
       "      <td>0</td>\n",
       "      <td>2</td>\n",
       "      <td>2008</td>\n",
       "      <td>WD</td>\n",
       "      <td>Normal</td>\n",
       "      <td>208500</td>\n",
       "    </tr>\n",
       "    <tr>\n",
       "      <th>1</th>\n",
       "      <td>2</td>\n",
       "      <td>20</td>\n",
       "      <td>RL</td>\n",
       "      <td>80.0</td>\n",
       "      <td>9600</td>\n",
       "      <td>Pave</td>\n",
       "      <td>NaN</td>\n",
       "      <td>Reg</td>\n",
       "      <td>Lvl</td>\n",
       "      <td>AllPub</td>\n",
       "      <td>...</td>\n",
       "      <td>0</td>\n",
       "      <td>NaN</td>\n",
       "      <td>NaN</td>\n",
       "      <td>NaN</td>\n",
       "      <td>0</td>\n",
       "      <td>5</td>\n",
       "      <td>2007</td>\n",
       "      <td>WD</td>\n",
       "      <td>Normal</td>\n",
       "      <td>181500</td>\n",
       "    </tr>\n",
       "    <tr>\n",
       "      <th>2</th>\n",
       "      <td>3</td>\n",
       "      <td>60</td>\n",
       "      <td>RL</td>\n",
       "      <td>68.0</td>\n",
       "      <td>11250</td>\n",
       "      <td>Pave</td>\n",
       "      <td>NaN</td>\n",
       "      <td>IR1</td>\n",
       "      <td>Lvl</td>\n",
       "      <td>AllPub</td>\n",
       "      <td>...</td>\n",
       "      <td>0</td>\n",
       "      <td>NaN</td>\n",
       "      <td>NaN</td>\n",
       "      <td>NaN</td>\n",
       "      <td>0</td>\n",
       "      <td>9</td>\n",
       "      <td>2008</td>\n",
       "      <td>WD</td>\n",
       "      <td>Normal</td>\n",
       "      <td>223500</td>\n",
       "    </tr>\n",
       "    <tr>\n",
       "      <th>3</th>\n",
       "      <td>4</td>\n",
       "      <td>70</td>\n",
       "      <td>RL</td>\n",
       "      <td>60.0</td>\n",
       "      <td>9550</td>\n",
       "      <td>Pave</td>\n",
       "      <td>NaN</td>\n",
       "      <td>IR1</td>\n",
       "      <td>Lvl</td>\n",
       "      <td>AllPub</td>\n",
       "      <td>...</td>\n",
       "      <td>0</td>\n",
       "      <td>NaN</td>\n",
       "      <td>NaN</td>\n",
       "      <td>NaN</td>\n",
       "      <td>0</td>\n",
       "      <td>2</td>\n",
       "      <td>2006</td>\n",
       "      <td>WD</td>\n",
       "      <td>Abnorml</td>\n",
       "      <td>140000</td>\n",
       "    </tr>\n",
       "    <tr>\n",
       "      <th>4</th>\n",
       "      <td>5</td>\n",
       "      <td>60</td>\n",
       "      <td>RL</td>\n",
       "      <td>84.0</td>\n",
       "      <td>14260</td>\n",
       "      <td>Pave</td>\n",
       "      <td>NaN</td>\n",
       "      <td>IR1</td>\n",
       "      <td>Lvl</td>\n",
       "      <td>AllPub</td>\n",
       "      <td>...</td>\n",
       "      <td>0</td>\n",
       "      <td>NaN</td>\n",
       "      <td>NaN</td>\n",
       "      <td>NaN</td>\n",
       "      <td>0</td>\n",
       "      <td>12</td>\n",
       "      <td>2008</td>\n",
       "      <td>WD</td>\n",
       "      <td>Normal</td>\n",
       "      <td>250000</td>\n",
       "    </tr>\n",
       "  </tbody>\n",
       "</table>\n",
       "<p>5 rows × 81 columns</p>\n",
       "</div>"
      ],
      "text/plain": [
       "   Id  MSSubClass MSZoning  LotFrontage  LotArea Street Alley LotShape  \\\n",
       "0   1          60       RL         65.0     8450   Pave   NaN      Reg   \n",
       "1   2          20       RL         80.0     9600   Pave   NaN      Reg   \n",
       "2   3          60       RL         68.0    11250   Pave   NaN      IR1   \n",
       "3   4          70       RL         60.0     9550   Pave   NaN      IR1   \n",
       "4   5          60       RL         84.0    14260   Pave   NaN      IR1   \n",
       "\n",
       "  LandContour Utilities    ...     PoolArea PoolQC Fence MiscFeature MiscVal  \\\n",
       "0         Lvl    AllPub    ...            0    NaN   NaN         NaN       0   \n",
       "1         Lvl    AllPub    ...            0    NaN   NaN         NaN       0   \n",
       "2         Lvl    AllPub    ...            0    NaN   NaN         NaN       0   \n",
       "3         Lvl    AllPub    ...            0    NaN   NaN         NaN       0   \n",
       "4         Lvl    AllPub    ...            0    NaN   NaN         NaN       0   \n",
       "\n",
       "  MoSold YrSold  SaleType  SaleCondition  SalePrice  \n",
       "0      2   2008        WD         Normal     208500  \n",
       "1      5   2007        WD         Normal     181500  \n",
       "2      9   2008        WD         Normal     223500  \n",
       "3      2   2006        WD        Abnorml     140000  \n",
       "4     12   2008        WD         Normal     250000  \n",
       "\n",
       "[5 rows x 81 columns]"
      ]
     },
     "execution_count": 5,
     "metadata": {},
     "output_type": "execute_result"
    }
   ],
   "source": [
    "train_df.head()"
   ]
  },
  {
   "cell_type": "code",
   "execution_count": 6,
   "metadata": {
    "colab": {
     "autoexec": {
      "startup": false,
      "wait_interval": 0
     },
     "base_uri": "https://localhost:8080/",
     "height": 2906
    },
    "colab_type": "code",
    "executionInfo": {
     "elapsed": 806,
     "status": "ok",
     "timestamp": 1532412718669,
     "user": {
      "displayName": "Yamato Lu",
      "photoUrl": "//lh3.googleusercontent.com/-C7dAorJ3yz8/AAAAAAAAAAI/AAAAAAAACkI/gj_5lhLTdCQ/s50-c-k-no/photo.jpg",
      "userId": "112499826195748670972"
     },
     "user_tz": -480
    },
    "id": "9vLeBscHlpvW",
    "outputId": "f3cd4b68-67dc-451f-edcc-2039cda9c035"
   },
   "outputs": [
    {
     "name": "stdout",
     "output_type": "stream",
     "text": [
      "<class 'pandas.core.frame.DataFrame'>\n",
      "RangeIndex: 1460 entries, 0 to 1459\n",
      "Data columns (total 81 columns):\n",
      "Id               1460 non-null int64\n",
      "MSSubClass       1460 non-null int64\n",
      "MSZoning         1460 non-null object\n",
      "LotFrontage      1201 non-null float64\n",
      "LotArea          1460 non-null int64\n",
      "Street           1460 non-null object\n",
      "Alley            91 non-null object\n",
      "LotShape         1460 non-null object\n",
      "LandContour      1460 non-null object\n",
      "Utilities        1460 non-null object\n",
      "LotConfig        1460 non-null object\n",
      "LandSlope        1460 non-null object\n",
      "Neighborhood     1460 non-null object\n",
      "Condition1       1460 non-null object\n",
      "Condition2       1460 non-null object\n",
      "BldgType         1460 non-null object\n",
      "HouseStyle       1460 non-null object\n",
      "OverallQual      1460 non-null int64\n",
      "OverallCond      1460 non-null int64\n",
      "YearBuilt        1460 non-null int64\n",
      "YearRemodAdd     1460 non-null int64\n",
      "RoofStyle        1460 non-null object\n",
      "RoofMatl         1460 non-null object\n",
      "Exterior1st      1460 non-null object\n",
      "Exterior2nd      1460 non-null object\n",
      "MasVnrType       1452 non-null object\n",
      "MasVnrArea       1452 non-null float64\n",
      "ExterQual        1460 non-null object\n",
      "ExterCond        1460 non-null object\n",
      "Foundation       1460 non-null object\n",
      "BsmtQual         1423 non-null object\n",
      "BsmtCond         1423 non-null object\n",
      "BsmtExposure     1422 non-null object\n",
      "BsmtFinType1     1423 non-null object\n",
      "BsmtFinSF1       1460 non-null int64\n",
      "BsmtFinType2     1422 non-null object\n",
      "BsmtFinSF2       1460 non-null int64\n",
      "BsmtUnfSF        1460 non-null int64\n",
      "TotalBsmtSF      1460 non-null int64\n",
      "Heating          1460 non-null object\n",
      "HeatingQC        1460 non-null object\n",
      "CentralAir       1460 non-null object\n",
      "Electrical       1459 non-null object\n",
      "1stFlrSF         1460 non-null int64\n",
      "2ndFlrSF         1460 non-null int64\n",
      "LowQualFinSF     1460 non-null int64\n",
      "GrLivArea        1460 non-null int64\n",
      "BsmtFullBath     1460 non-null int64\n",
      "BsmtHalfBath     1460 non-null int64\n",
      "FullBath         1460 non-null int64\n",
      "HalfBath         1460 non-null int64\n",
      "BedroomAbvGr     1460 non-null int64\n",
      "KitchenAbvGr     1460 non-null int64\n",
      "KitchenQual      1460 non-null object\n",
      "TotRmsAbvGrd     1460 non-null int64\n",
      "Functional       1460 non-null object\n",
      "Fireplaces       1460 non-null int64\n",
      "FireplaceQu      770 non-null object\n",
      "GarageType       1379 non-null object\n",
      "GarageYrBlt      1379 non-null float64\n",
      "GarageFinish     1379 non-null object\n",
      "GarageCars       1460 non-null int64\n",
      "GarageArea       1460 non-null int64\n",
      "GarageQual       1379 non-null object\n",
      "GarageCond       1379 non-null object\n",
      "PavedDrive       1460 non-null object\n",
      "WoodDeckSF       1460 non-null int64\n",
      "OpenPorchSF      1460 non-null int64\n",
      "EnclosedPorch    1460 non-null int64\n",
      "3SsnPorch        1460 non-null int64\n",
      "ScreenPorch      1460 non-null int64\n",
      "PoolArea         1460 non-null int64\n",
      "PoolQC           7 non-null object\n",
      "Fence            281 non-null object\n",
      "MiscFeature      54 non-null object\n",
      "MiscVal          1460 non-null int64\n",
      "MoSold           1460 non-null int64\n",
      "YrSold           1460 non-null int64\n",
      "SaleType         1460 non-null object\n",
      "SaleCondition    1460 non-null object\n",
      "SalePrice        1460 non-null int64\n",
      "dtypes: float64(3), int64(35), object(43)\n",
      "memory usage: 924.0+ KB\n",
      "-----------------------------------\n",
      "<class 'pandas.core.frame.DataFrame'>\n",
      "RangeIndex: 1459 entries, 0 to 1458\n",
      "Data columns (total 80 columns):\n",
      "Id               1459 non-null int64\n",
      "MSSubClass       1459 non-null int64\n",
      "MSZoning         1455 non-null object\n",
      "LotFrontage      1232 non-null float64\n",
      "LotArea          1459 non-null int64\n",
      "Street           1459 non-null object\n",
      "Alley            107 non-null object\n",
      "LotShape         1459 non-null object\n",
      "LandContour      1459 non-null object\n",
      "Utilities        1457 non-null object\n",
      "LotConfig        1459 non-null object\n",
      "LandSlope        1459 non-null object\n",
      "Neighborhood     1459 non-null object\n",
      "Condition1       1459 non-null object\n",
      "Condition2       1459 non-null object\n",
      "BldgType         1459 non-null object\n",
      "HouseStyle       1459 non-null object\n",
      "OverallQual      1459 non-null int64\n",
      "OverallCond      1459 non-null int64\n",
      "YearBuilt        1459 non-null int64\n",
      "YearRemodAdd     1459 non-null int64\n",
      "RoofStyle        1459 non-null object\n",
      "RoofMatl         1459 non-null object\n",
      "Exterior1st      1458 non-null object\n",
      "Exterior2nd      1458 non-null object\n",
      "MasVnrType       1443 non-null object\n",
      "MasVnrArea       1444 non-null float64\n",
      "ExterQual        1459 non-null object\n",
      "ExterCond        1459 non-null object\n",
      "Foundation       1459 non-null object\n",
      "BsmtQual         1415 non-null object\n",
      "BsmtCond         1414 non-null object\n",
      "BsmtExposure     1415 non-null object\n",
      "BsmtFinType1     1417 non-null object\n",
      "BsmtFinSF1       1458 non-null float64\n",
      "BsmtFinType2     1417 non-null object\n",
      "BsmtFinSF2       1458 non-null float64\n",
      "BsmtUnfSF        1458 non-null float64\n",
      "TotalBsmtSF      1458 non-null float64\n",
      "Heating          1459 non-null object\n",
      "HeatingQC        1459 non-null object\n",
      "CentralAir       1459 non-null object\n",
      "Electrical       1459 non-null object\n",
      "1stFlrSF         1459 non-null int64\n",
      "2ndFlrSF         1459 non-null int64\n",
      "LowQualFinSF     1459 non-null int64\n",
      "GrLivArea        1459 non-null int64\n",
      "BsmtFullBath     1457 non-null float64\n",
      "BsmtHalfBath     1457 non-null float64\n",
      "FullBath         1459 non-null int64\n",
      "HalfBath         1459 non-null int64\n",
      "BedroomAbvGr     1459 non-null int64\n",
      "KitchenAbvGr     1459 non-null int64\n",
      "KitchenQual      1458 non-null object\n",
      "TotRmsAbvGrd     1459 non-null int64\n",
      "Functional       1457 non-null object\n",
      "Fireplaces       1459 non-null int64\n",
      "FireplaceQu      729 non-null object\n",
      "GarageType       1383 non-null object\n",
      "GarageYrBlt      1381 non-null float64\n",
      "GarageFinish     1381 non-null object\n",
      "GarageCars       1458 non-null float64\n",
      "GarageArea       1458 non-null float64\n",
      "GarageQual       1381 non-null object\n",
      "GarageCond       1381 non-null object\n",
      "PavedDrive       1459 non-null object\n",
      "WoodDeckSF       1459 non-null int64\n",
      "OpenPorchSF      1459 non-null int64\n",
      "EnclosedPorch    1459 non-null int64\n",
      "3SsnPorch        1459 non-null int64\n",
      "ScreenPorch      1459 non-null int64\n",
      "PoolArea         1459 non-null int64\n",
      "PoolQC           3 non-null object\n",
      "Fence            290 non-null object\n",
      "MiscFeature      51 non-null object\n",
      "MiscVal          1459 non-null int64\n",
      "MoSold           1459 non-null int64\n",
      "YrSold           1459 non-null int64\n",
      "SaleType         1458 non-null object\n",
      "SaleCondition    1459 non-null object\n",
      "dtypes: float64(11), int64(26), object(43)\n",
      "memory usage: 912.0+ KB\n"
     ]
    }
   ],
   "source": [
    "train_df.info()\n",
    "print(\"-----------------------------------\")\n",
    "test_df.info()"
   ]
  },
  {
   "cell_type": "code",
   "execution_count": 7,
   "metadata": {},
   "outputs": [
    {
     "data": {
      "text/plain": [
       "180921.19589041095"
      ]
     },
     "execution_count": 7,
     "metadata": {},
     "output_type": "execute_result"
    }
   ],
   "source": [
    "train_df['SalePrice'].mean()"
   ]
  },
  {
   "cell_type": "code",
   "execution_count": 8,
   "metadata": {
    "colab": {
     "autoexec": {
      "startup": false,
      "wait_interval": 0
     }
    },
    "colab_type": "code",
    "id": "DwRCGpXxmnq3"
   },
   "outputs": [],
   "source": [
    "#train_df[[\"MSSubClass\",\"SalePrice\"]].groupby([\"MSSubClass\"],as_index=False).mean()#.sort_values(by=\"SalePrice\",ascending=False)"
   ]
  },
  {
   "cell_type": "code",
   "execution_count": 9,
   "metadata": {
    "colab": {
     "autoexec": {
      "startup": false,
      "wait_interval": 0
     }
    },
    "colab_type": "code",
    "id": "RV9m671tnGwu"
   },
   "outputs": [],
   "source": [
    "for dataset in combine:    \n",
    "    dataset.loc[ dataset['MSSubClass'] <= 20, 'MSSubClass'] = 0\n",
    "    dataset.loc[(dataset['MSSubClass'] > 21) & (dataset['MSSubClass'] <= 30), 'MSSubClass'] = 1\n",
    "    dataset.loc[(dataset['MSSubClass'] > 31) & (dataset['MSSubClass'] <= 40), 'MSSubClass'] = 2\n",
    "    dataset.loc[(dataset['MSSubClass'] > 41) & (dataset['MSSubClass'] <= 45), 'MSSubClass'] = 3\n",
    "    dataset.loc[(dataset['MSSubClass'] > 46) & (dataset['MSSubClass'] <= 50), 'MSSubClass'] = 4\n",
    "    dataset.loc[(dataset['MSSubClass'] > 51) & (dataset['MSSubClass'] <= 60), 'MSSubClass'] = 5\n",
    "    dataset.loc[(dataset['MSSubClass'] > 61) & (dataset['MSSubClass'] <= 70), 'MSSubClass'] = 6\n",
    "    dataset.loc[(dataset['MSSubClass'] > 71) & (dataset['MSSubClass'] <= 75), 'MSSubClass'] = 7\n",
    "    dataset.loc[(dataset['MSSubClass'] > 76) & (dataset['MSSubClass'] <= 80), 'MSSubClass'] = 8\n",
    "    dataset.loc[(dataset['MSSubClass'] > 81) & (dataset['MSSubClass'] <= 85), 'MSSubClass'] = 9\n",
    "    dataset.loc[(dataset['MSSubClass'] > 86) & (dataset['MSSubClass'] <= 90), 'MSSubClass'] = 10\n",
    "    dataset.loc[(dataset['MSSubClass'] > 91) & (dataset['MSSubClass'] <= 120), 'MSSubClass'] = 11\n",
    "    dataset.loc[(dataset['MSSubClass'] > 121) & (dataset['MSSubClass'] <= 160), 'MSSubClass'] = 12\n",
    "    dataset.loc[(dataset['MSSubClass'] > 161) & (dataset['MSSubClass'] <= 180), 'MSSubClass'] = 13\n",
    "    dataset.loc[ dataset['MSSubClass'] > 181, 'MSSubClass'] = 14"
   ]
  },
  {
   "cell_type": "code",
   "execution_count": 10,
   "metadata": {
    "colab": {
     "autoexec": {
      "startup": false,
      "wait_interval": 0
     }
    },
    "colab_type": "code",
    "id": "EbyU0A4lohmP"
   },
   "outputs": [],
   "source": [
    "#train_df[[\"MSZoning\",\"SalePrice\"]].groupby([\"MSZoning\"],as_index=False).mean().sort_values(by=\"SalePrice\",ascending=False)\n",
    "#train_df[[\"MSZoning\",\"SalePrice\"]].groupby([\"MSZoning\"],as_index=False).size()"
   ]
  },
  {
   "cell_type": "code",
   "execution_count": 11,
   "metadata": {
    "colab": {
     "autoexec": {
      "startup": false,
      "wait_interval": 0
     }
    },
    "colab_type": "code",
    "id": "JMNTEAOZCQCb"
   },
   "outputs": [],
   "source": [
    "for dataset in combine:\n",
    "  dataset['MSZoning']=dataset['MSZoning'].fillna(\"C (all)\")"
   ]
  },
  {
   "cell_type": "code",
   "execution_count": 12,
   "metadata": {
    "colab": {
     "autoexec": {
      "startup": false,
      "wait_interval": 0
     }
    },
    "colab_type": "code",
    "id": "XI8pxWQlpVaH"
   },
   "outputs": [],
   "source": [
    "for dataset in combine:\n",
    "  dataset['MSZoning']=dataset['MSZoning'].map({\"FV\":4,\"RL\":3,\"RH\":2,\"RM\":1,\"C (all)\":0})"
   ]
  },
  {
   "cell_type": "code",
   "execution_count": 13,
   "metadata": {
    "colab": {
     "autoexec": {
      "startup": false,
      "wait_interval": 0
     }
    },
    "colab_type": "code",
    "id": "7GkSDOJmTQtL"
   },
   "outputs": [],
   "source": [
    "#train_df[[\"LotFrontage\",\"SalePrice\"]].groupby([\"LotFrontage\"],as_index=False).mean().sort_values(by=\"SalePrice\",ascending=False)"
   ]
  },
  {
   "cell_type": "code",
   "execution_count": 14,
   "metadata": {
    "colab": {
     "autoexec": {
      "startup": false,
      "wait_interval": 0
     }
    },
    "colab_type": "code",
    "id": "hsQdbWEFT4-5"
   },
   "outputs": [],
   "source": [
    "for dataset in combine:\n",
    "  dataset['LotFrontage']=dataset['LotFrontage'].fillna(0)"
   ]
  },
  {
   "cell_type": "code",
   "execution_count": 15,
   "metadata": {
    "colab": {
     "autoexec": {
      "startup": false,
      "wait_interval": 0
     },
     "base_uri": "https://localhost:8080/",
     "height": 166
    },
    "colab_type": "code",
    "executionInfo": {
     "elapsed": 619,
     "status": "ok",
     "timestamp": 1532412726391,
     "user": {
      "displayName": "Yamato Lu",
      "photoUrl": "//lh3.googleusercontent.com/-C7dAorJ3yz8/AAAAAAAAAAI/AAAAAAAACkI/gj_5lhLTdCQ/s50-c-k-no/photo.jpg",
      "userId": "112499826195748670972"
     },
     "user_tz": -480
    },
    "id": "CSHElgngTk_M",
    "outputId": "1db75e03-df1e-404c-d2c8-833bd4952688"
   },
   "outputs": [
    {
     "data": {
      "text/html": [
       "<div>\n",
       "<style scoped>\n",
       "    .dataframe tbody tr th:only-of-type {\n",
       "        vertical-align: middle;\n",
       "    }\n",
       "\n",
       "    .dataframe tbody tr th {\n",
       "        vertical-align: top;\n",
       "    }\n",
       "\n",
       "    .dataframe thead th {\n",
       "        text-align: right;\n",
       "    }\n",
       "</style>\n",
       "<table border=\"1\" class=\"dataframe\">\n",
       "  <thead>\n",
       "    <tr style=\"text-align: right;\">\n",
       "      <th></th>\n",
       "      <th>LotFrontageBand</th>\n",
       "      <th>SalePrice</th>\n",
       "    </tr>\n",
       "  </thead>\n",
       "  <tbody>\n",
       "    <tr>\n",
       "      <th>0</th>\n",
       "      <td>(-0.001, 42.0]</td>\n",
       "      <td>172274.384196</td>\n",
       "    </tr>\n",
       "    <tr>\n",
       "      <th>1</th>\n",
       "      <td>(42.0, 63.0]</td>\n",
       "      <td>147048.965147</td>\n",
       "    </tr>\n",
       "    <tr>\n",
       "      <th>2</th>\n",
       "      <td>(63.0, 79.0]</td>\n",
       "      <td>179784.752044</td>\n",
       "    </tr>\n",
       "    <tr>\n",
       "      <th>3</th>\n",
       "      <td>(79.0, 313.0]</td>\n",
       "      <td>226883.793201</td>\n",
       "    </tr>\n",
       "  </tbody>\n",
       "</table>\n",
       "</div>"
      ],
      "text/plain": [
       "  LotFrontageBand      SalePrice\n",
       "0  (-0.001, 42.0]  172274.384196\n",
       "1    (42.0, 63.0]  147048.965147\n",
       "2    (63.0, 79.0]  179784.752044\n",
       "3   (79.0, 313.0]  226883.793201"
      ]
     },
     "execution_count": 15,
     "metadata": {},
     "output_type": "execute_result"
    }
   ],
   "source": [
    "train_df[\"LotFrontageBand\"]=pd.qcut(train_df[\"LotFrontage\"],4)\n",
    "train_df[[\"LotFrontageBand\",\"SalePrice\"]].groupby([\"LotFrontageBand\"],as_index=False).mean()"
   ]
  },
  {
   "cell_type": "code",
   "execution_count": 16,
   "metadata": {
    "colab": {
     "autoexec": {
      "startup": false,
      "wait_interval": 0
     }
    },
    "colab_type": "code",
    "id": "pMvLx4pcT1jD"
   },
   "outputs": [],
   "source": [
    "for dataset in combine:    \n",
    "    dataset.loc[ dataset['LotFrontage'] <= 42, 'LotFrontage'] = int(0)\n",
    "    dataset.loc[(dataset['LotFrontage'] > 42) & (dataset['LotFrontage'] <= 63), 'LotFrontage'] = int(1)\n",
    "    dataset.loc[(dataset['LotFrontage'] > 63) & (dataset['LotFrontage'] <= 79), 'LotFrontage'] = int(2)\n",
    "    dataset.loc[ dataset['LotFrontage'] > 79, 'LotFrontage'] = int(4)"
   ]
  },
  {
   "cell_type": "code",
   "execution_count": 17,
   "metadata": {
    "colab": {
     "autoexec": {
      "startup": false,
      "wait_interval": 0
     }
    },
    "colab_type": "code",
    "id": "ug53vElXXOv4"
   },
   "outputs": [],
   "source": [
    "for dataset in combine:    \n",
    "    dataset['LotFrontage'] = dataset['LotFrontage'].astype('int')"
   ]
  },
  {
   "cell_type": "code",
   "execution_count": 18,
   "metadata": {
    "colab": {
     "autoexec": {
      "startup": false,
      "wait_interval": 0
     }
    },
    "colab_type": "code",
    "id": "YIgVcu0VUc9k"
   },
   "outputs": [],
   "source": [
    "train_df = train_df.drop(['LotFrontageBand'], axis=1)"
   ]
  },
  {
   "cell_type": "code",
   "execution_count": 19,
   "metadata": {
    "colab": {
     "autoexec": {
      "startup": false,
      "wait_interval": 0
     },
     "base_uri": "https://localhost:8080/",
     "height": 343
    },
    "colab_type": "code",
    "executionInfo": {
     "elapsed": 610,
     "status": "ok",
     "timestamp": 1532412732266,
     "user": {
      "displayName": "Yamato Lu",
      "photoUrl": "//lh3.googleusercontent.com/-C7dAorJ3yz8/AAAAAAAAAAI/AAAAAAAACkI/gj_5lhLTdCQ/s50-c-k-no/photo.jpg",
      "userId": "112499826195748670972"
     },
     "user_tz": -480
    },
    "id": "X7xVEW_cqYdZ",
    "outputId": "39709cf7-a26c-438a-e0c4-4d453fc4dfc4"
   },
   "outputs": [
    {
     "data": {
      "text/html": [
       "<div>\n",
       "<style scoped>\n",
       "    .dataframe tbody tr th:only-of-type {\n",
       "        vertical-align: middle;\n",
       "    }\n",
       "\n",
       "    .dataframe tbody tr th {\n",
       "        vertical-align: top;\n",
       "    }\n",
       "\n",
       "    .dataframe thead th {\n",
       "        text-align: right;\n",
       "    }\n",
       "</style>\n",
       "<table border=\"1\" class=\"dataframe\">\n",
       "  <thead>\n",
       "    <tr style=\"text-align: right;\">\n",
       "      <th></th>\n",
       "      <th>LotAreaBand</th>\n",
       "      <th>SalePrice</th>\n",
       "    </tr>\n",
       "  </thead>\n",
       "  <tbody>\n",
       "    <tr>\n",
       "      <th>0</th>\n",
       "      <td>(1299.999, 5000.0]</td>\n",
       "      <td>143150.870748</td>\n",
       "    </tr>\n",
       "    <tr>\n",
       "      <th>1</th>\n",
       "      <td>(5000.0, 7078.4]</td>\n",
       "      <td>136454.427586</td>\n",
       "    </tr>\n",
       "    <tr>\n",
       "      <th>2</th>\n",
       "      <td>(7078.4, 8063.7]</td>\n",
       "      <td>150799.287671</td>\n",
       "    </tr>\n",
       "    <tr>\n",
       "      <th>3</th>\n",
       "      <td>(8063.7, 8793.4]</td>\n",
       "      <td>153250.712329</td>\n",
       "    </tr>\n",
       "    <tr>\n",
       "      <th>4</th>\n",
       "      <td>(8793.4, 9478.5]</td>\n",
       "      <td>171056.205479</td>\n",
       "    </tr>\n",
       "    <tr>\n",
       "      <th>5</th>\n",
       "      <td>(9478.5, 10198.2]</td>\n",
       "      <td>177256.315068</td>\n",
       "    </tr>\n",
       "    <tr>\n",
       "      <th>6</th>\n",
       "      <td>(10198.2, 11066.5]</td>\n",
       "      <td>185180.356164</td>\n",
       "    </tr>\n",
       "    <tr>\n",
       "      <th>7</th>\n",
       "      <td>(11066.5, 12205.8]</td>\n",
       "      <td>206358.308219</td>\n",
       "    </tr>\n",
       "    <tr>\n",
       "      <th>8</th>\n",
       "      <td>(12205.8, 14381.7]</td>\n",
       "      <td>235112.486301</td>\n",
       "    </tr>\n",
       "    <tr>\n",
       "      <th>9</th>\n",
       "      <td>(14381.7, 215245.0]</td>\n",
       "      <td>250547.123288</td>\n",
       "    </tr>\n",
       "  </tbody>\n",
       "</table>\n",
       "</div>"
      ],
      "text/plain": [
       "           LotAreaBand      SalePrice\n",
       "0   (1299.999, 5000.0]  143150.870748\n",
       "1     (5000.0, 7078.4]  136454.427586\n",
       "2     (7078.4, 8063.7]  150799.287671\n",
       "3     (8063.7, 8793.4]  153250.712329\n",
       "4     (8793.4, 9478.5]  171056.205479\n",
       "5    (9478.5, 10198.2]  177256.315068\n",
       "6   (10198.2, 11066.5]  185180.356164\n",
       "7   (11066.5, 12205.8]  206358.308219\n",
       "8   (12205.8, 14381.7]  235112.486301\n",
       "9  (14381.7, 215245.0]  250547.123288"
      ]
     },
     "execution_count": 19,
     "metadata": {},
     "output_type": "execute_result"
    }
   ],
   "source": [
    "train_df[\"LotAreaBand\"]=pd.qcut(train_df[\"LotArea\"],10)\n",
    "train_df[[\"LotAreaBand\",\"SalePrice\"]].groupby([\"LotAreaBand\"],as_index=False).mean()"
   ]
  },
  {
   "cell_type": "code",
   "execution_count": 20,
   "metadata": {
    "colab": {
     "autoexec": {
      "startup": false,
      "wait_interval": 0
     }
    },
    "colab_type": "code",
    "id": "6WXuA3skDbKm"
   },
   "outputs": [],
   "source": [
    "for dataset in combine:    \n",
    "    dataset.loc[ dataset['LotArea'] <= 5000, 'LotArea'] = 0\n",
    "    dataset.loc[(dataset['LotArea'] > 5000) & (dataset['LotArea'] <= 7079), 'LotArea'] = 1\n",
    "    dataset.loc[(dataset['LotArea'] > 7079) & (dataset['LotArea'] <= 8064), 'LotArea'] = 2\n",
    "    dataset.loc[(dataset['LotArea'] > 8064) & (dataset['LotArea'] <= 8794), 'LotArea'] = 3\n",
    "    dataset.loc[(dataset['LotArea'] > 8794) & (dataset['LotArea'] <= 9479), 'LotArea'] = 4\n",
    "    dataset.loc[(dataset['LotArea'] > 9479) & (dataset['LotArea'] <= 10199), 'LotArea'] = 5\n",
    "    dataset.loc[(dataset['LotArea'] > 10199) & (dataset['LotArea'] <= 11067), 'LotArea'] = 6\n",
    "    dataset.loc[(dataset['LotArea'] > 11067) & (dataset['LotArea'] <= 12206), 'LotArea'] = 7\n",
    "    dataset.loc[(dataset['LotArea'] > 12206) & (dataset['LotArea'] <= 14382), 'LotArea'] = 8\n",
    "    dataset.loc[ dataset['LotArea'] > 14382, 'LotArea'] = 9"
   ]
  },
  {
   "cell_type": "code",
   "execution_count": 21,
   "metadata": {
    "colab": {
     "autoexec": {
      "startup": false,
      "wait_interval": 0
     }
    },
    "colab_type": "code",
    "id": "FeO3rfZEGKVf"
   },
   "outputs": [],
   "source": [
    "train_df = train_df.drop([\"LotAreaBand\"],axis=1)\n",
    "combine = [train_df,test_df]"
   ]
  },
  {
   "cell_type": "code",
   "execution_count": 22,
   "metadata": {
    "colab": {
     "autoexec": {
      "startup": false,
      "wait_interval": 0
     }
    },
    "colab_type": "code",
    "id": "ZNWbp6s_FfGw"
   },
   "outputs": [],
   "source": [
    "#train_df[[\"Street\",\"SalePrice\"]].groupby([\"Street\"],as_index=False).mean().sort_values(by=\"SalePrice\",ascending=False)"
   ]
  },
  {
   "cell_type": "code",
   "execution_count": 23,
   "metadata": {
    "colab": {
     "autoexec": {
      "startup": false,
      "wait_interval": 0
     }
    },
    "colab_type": "code",
    "id": "w2CAQJi_F8_u"
   },
   "outputs": [],
   "source": [
    "for dataset in combine:\n",
    "    dataset[\"Street\"] = dataset[\"Street\"].map({\"Pave\":0,\"Grvl\":1})"
   ]
  },
  {
   "cell_type": "code",
   "execution_count": 24,
   "metadata": {
    "colab": {
     "autoexec": {
      "startup": false,
      "wait_interval": 0
     }
    },
    "colab_type": "code",
    "id": "q-k2l1z3SaWi"
   },
   "outputs": [],
   "source": [
    "#train_df[[\"Alley\",\"SalePrice\"]].groupby([\"Alley\"],as_index=False).mean().sort_values(by=\"SalePrice\",ascending=False)"
   ]
  },
  {
   "cell_type": "code",
   "execution_count": 25,
   "metadata": {
    "colab": {
     "autoexec": {
      "startup": false,
      "wait_interval": 0
     }
    },
    "colab_type": "code",
    "id": "mfG77G47Sgm1"
   },
   "outputs": [],
   "source": [
    "for dataset in combine:\n",
    "    dataset[\"Alley\"] = dataset[\"Alley\"].fillna(\"NA\")"
   ]
  },
  {
   "cell_type": "code",
   "execution_count": 26,
   "metadata": {
    "colab": {
     "autoexec": {
      "startup": false,
      "wait_interval": 0
     }
    },
    "colab_type": "code",
    "id": "pNBDhXLtS0dT"
   },
   "outputs": [],
   "source": [
    "for dataset in combine:\n",
    "    dataset[\"Alley\"] = dataset[\"Alley\"].map({\"NA\":0,\"Pave\":1,\"Grvl\":2})"
   ]
  },
  {
   "cell_type": "code",
   "execution_count": 27,
   "metadata": {
    "colab": {
     "autoexec": {
      "startup": false,
      "wait_interval": 0
     }
    },
    "colab_type": "code",
    "id": "HZuEwEsCGgTn"
   },
   "outputs": [],
   "source": [
    "#train_df[[\"LotShape\",\"SalePrice\"]].groupby([\"LotShape\"],as_index=False).mean().sort_values(by=\"SalePrice\",ascending=False)"
   ]
  },
  {
   "cell_type": "code",
   "execution_count": 28,
   "metadata": {
    "colab": {
     "autoexec": {
      "startup": false,
      "wait_interval": 0
     }
    },
    "colab_type": "code",
    "id": "Jwph0fsLIoRG"
   },
   "outputs": [],
   "source": [
    "for dataset in combine:\n",
    "    dataset[\"LotShape\"] = dataset[\"LotShape\"].map({\"Reg\":0,\"IR1\":1,\"IR2\":2,\"IR3\":3})"
   ]
  },
  {
   "cell_type": "code",
   "execution_count": 29,
   "metadata": {
    "colab": {
     "autoexec": {
      "startup": false,
      "wait_interval": 0
     }
    },
    "colab_type": "code",
    "id": "XoUiV-dJKtTA"
   },
   "outputs": [],
   "source": [
    "#train_df[[\"LandContour\",\"SalePrice\"]].groupby([\"LandContour\"],as_index=False).mean().sort_values(by=\"SalePrice\",ascending=False)"
   ]
  },
  {
   "cell_type": "code",
   "execution_count": 30,
   "metadata": {
    "colab": {
     "autoexec": {
      "startup": false,
      "wait_interval": 0
     }
    },
    "colab_type": "code",
    "id": "C-uqkCAkK2HX"
   },
   "outputs": [],
   "source": [
    "for dataset in combine:\n",
    "    dataset[\"LandContour\"] = dataset[\"LandContour\"].map({\"Bnk\":0,\"Lvl\":1,\"Low\":2,\"HLS\":3})"
   ]
  },
  {
   "cell_type": "code",
   "execution_count": 31,
   "metadata": {
    "colab": {
     "autoexec": {
      "startup": false,
      "wait_interval": 0
     }
    },
    "colab_type": "code",
    "id": "mmpmQMglLGt_"
   },
   "outputs": [],
   "source": [
    "#train_df[[\"Utilities\",\"SalePrice\"]].groupby([\"Utilities\"],as_index=False).mean().sort_values(by=\"SalePrice\",ascending=False)"
   ]
  },
  {
   "cell_type": "code",
   "execution_count": 32,
   "metadata": {
    "colab": {
     "autoexec": {
      "startup": false,
      "wait_interval": 0
     }
    },
    "colab_type": "code",
    "id": "x5jQFu-3Cx0l"
   },
   "outputs": [],
   "source": [
    "for dataset in combine:\n",
    "    dataset[\"Utilities\"] = dataset[\"Utilities\"].fillna(\"NoSeWa\")"
   ]
  },
  {
   "cell_type": "code",
   "execution_count": 33,
   "metadata": {
    "colab": {
     "autoexec": {
      "startup": false,
      "wait_interval": 0
     }
    },
    "colab_type": "code",
    "id": "S6B_aCVfLSsQ"
   },
   "outputs": [],
   "source": [
    "for dataset in combine:\n",
    "    dataset[\"Utilities\"] = dataset[\"Utilities\"].map({\"NoSeWa\":0,\"AllPub\":1})"
   ]
  },
  {
   "cell_type": "code",
   "execution_count": 34,
   "metadata": {
    "colab": {
     "autoexec": {
      "startup": false,
      "wait_interval": 0
     }
    },
    "colab_type": "code",
    "id": "kgoQVXBpLrLv"
   },
   "outputs": [],
   "source": [
    "#train_df[[\"LotConfig\",\"SalePrice\"]].groupby([\"LotConfig\"],as_index=False).mean().sort_values(by=\"SalePrice\",ascending=False)"
   ]
  },
  {
   "cell_type": "code",
   "execution_count": 35,
   "metadata": {
    "colab": {
     "autoexec": {
      "startup": false,
      "wait_interval": 0
     }
    },
    "colab_type": "code",
    "id": "J1SeNSO3MfXv"
   },
   "outputs": [],
   "source": [
    "for dataset in combine:\n",
    "    dataset[\"LotConfig\"] = dataset[\"LotConfig\"].map({\"Inside\":0,\"FR2\":1,\"Corner\":2,\"FR3\":3,\"CulDSac\":4})"
   ]
  },
  {
   "cell_type": "code",
   "execution_count": 36,
   "metadata": {
    "colab": {
     "autoexec": {
      "startup": false,
      "wait_interval": 0
     }
    },
    "colab_type": "code",
    "id": "W8dwW7Y_PzW_"
   },
   "outputs": [],
   "source": [
    "#train_df[[\"LandSlope\",\"SalePrice\"]].groupby([\"LandSlope\"],as_index=False).mean().sort_values(by=\"SalePrice\",ascending=False)"
   ]
  },
  {
   "cell_type": "code",
   "execution_count": 37,
   "metadata": {
    "colab": {
     "autoexec": {
      "startup": false,
      "wait_interval": 0
     }
    },
    "colab_type": "code",
    "id": "XbZfubqSQBm5"
   },
   "outputs": [],
   "source": [
    "for dataset in combine:\n",
    "    dataset[\"LandSlope\"] = dataset[\"LandSlope\"].map({\"Gtl\":0,\"Mod\":1,\"Sev\":2})"
   ]
  },
  {
   "cell_type": "code",
   "execution_count": 38,
   "metadata": {
    "colab": {
     "autoexec": {
      "startup": false,
      "wait_interval": 0
     }
    },
    "colab_type": "code",
    "id": "KTwQKPITTpqX"
   },
   "outputs": [],
   "source": [
    "#train_df[[\"Neighborhood\",\"SalePrice\"]].groupby([\"Neighborhood\"],as_index=False).mean().sort_values(by=\"SalePrice\",ascending=False)\n",
    "#train_df[[\"Neighborhood\",\"SalePrice\"]].groupby([\"Neighborhood\"],as_index=False).size()"
   ]
  },
  {
   "cell_type": "code",
   "execution_count": 39,
   "metadata": {
    "colab": {
     "autoexec": {
      "startup": false,
      "wait_interval": 0
     }
    },
    "colab_type": "code",
    "id": "S__ubsP6a1HL"
   },
   "outputs": [],
   "source": [
    "for dataset in combine:\n",
    "    dataset[\"Neighborhood\"] = dataset[\"Neighborhood\"].map({\"MeadowV\":0,\"IDOTRR\":1,\"BrDale\":2,\"BrkSide\":3,\"Edwards\":4,\n",
    "                                                           \"OldTown\":5,\"Sawyer\":6,\"Blueste\":7,\"SWISU\":8,\"NPkVill\":9,\n",
    "                                                           \"NAmes\":10,\"Mitchel\":11,\"SawyerW\":12,\"NWAmes\":13,\"Gilbert\":14,\n",
    "                                                           \"Blmngtn\":15,\"CollgCr\":16,\"Crawfor\":17,\"ClearCr\":18,\"Somerst\":19,\n",
    "                                                           \"Veenker\":20,\"Timber\":21,\"StoneBr\":22,\"NridgHt\":23,\"NoRidge\":24})"
   ]
  },
  {
   "cell_type": "code",
   "execution_count": 40,
   "metadata": {
    "colab": {
     "autoexec": {
      "startup": false,
      "wait_interval": 0
     }
    },
    "colab_type": "code",
    "id": "anvwUE4Vdokp"
   },
   "outputs": [],
   "source": [
    "#train_df[[\"Condition1\",\"SalePrice\"]].groupby([\"Condition1\"],as_index=False).mean().sort_values(by=\"SalePrice\",ascending=False)"
   ]
  },
  {
   "cell_type": "code",
   "execution_count": 41,
   "metadata": {
    "colab": {
     "autoexec": {
      "startup": false,
      "wait_interval": 0
     }
    },
    "colab_type": "code",
    "id": "iHND84A0dzgD"
   },
   "outputs": [],
   "source": [
    "#train_df[[\"Condition2\",\"SalePrice\"]].groupby([\"Condition2\"],as_index=False).mean().sort_values(by=\"SalePrice\",ascending=False)"
   ]
  },
  {
   "cell_type": "code",
   "execution_count": 42,
   "metadata": {
    "colab": {
     "autoexec": {
      "startup": false,
      "wait_interval": 0
     }
    },
    "colab_type": "code",
    "id": "RPL12kONeN8Z"
   },
   "outputs": [],
   "source": [
    "for dataset in combine:\n",
    "    dataset[\"Condition1\"] = dataset[\"Condition1\"].map({\"Artery\":0,\"RRAe\":1,\"Feedr\":2,\"RRAn\":3,\"Norm\":4,\n",
    "                                                       \"RRNe\":5,\"RRNn\":6,\"PosN\":7,\"PosA\":8})\n",
    "for dataset in combine:\n",
    "    dataset[\"Condition2\"] = dataset[\"Condition2\"].map({\"RRNn\":0,\"Artery\":1,\"Feedr\":2,\"RRAn\":3,\"Norm\":4,\n",
    "                                                       \"RRAe\":5,\"PosN\":6,\"PosA\":7})"
   ]
  },
  {
   "cell_type": "code",
   "execution_count": 43,
   "metadata": {
    "colab": {
     "autoexec": {
      "startup": false,
      "wait_interval": 0
     }
    },
    "colab_type": "code",
    "id": "v1SHAsc1gMD7"
   },
   "outputs": [],
   "source": [
    "#train_df[[\"BldgType\",\"SalePrice\"]].groupby([\"BldgType\"],as_index=False).mean().sort_values(by=\"SalePrice\",ascending=False)"
   ]
  },
  {
   "cell_type": "code",
   "execution_count": 44,
   "metadata": {
    "colab": {
     "autoexec": {
      "startup": false,
      "wait_interval": 0
     }
    },
    "colab_type": "code",
    "id": "PLxqjPI9gTYy"
   },
   "outputs": [],
   "source": [
    "for dataset in combine:\n",
    "    dataset[\"BldgType\"] = dataset[\"BldgType\"].map({\"2fmCon\":0,\"Duplex\":1,\"Twnhs\":2,\"TwnhsE\":3,\"1Fam\":4})"
   ]
  },
  {
   "cell_type": "code",
   "execution_count": 45,
   "metadata": {
    "colab": {
     "autoexec": {
      "startup": false,
      "wait_interval": 0
     }
    },
    "colab_type": "code",
    "id": "AoxzrOCmgvuJ"
   },
   "outputs": [],
   "source": [
    "#train_df[[\"HouseStyle\",\"SalePrice\"]].groupby([\"HouseStyle\"],as_index=False).mean().sort_values(by=\"SalePrice\",ascending=False)\n",
    "#train_df[[\"HouseStyle\",\"SalePrice\"]].groupby([\"HouseStyle\"],as_index=False).size()"
   ]
  },
  {
   "cell_type": "code",
   "execution_count": 46,
   "metadata": {
    "colab": {
     "autoexec": {
      "startup": false,
      "wait_interval": 0
     }
    },
    "colab_type": "code",
    "id": "xqAfM4U3hgia"
   },
   "outputs": [],
   "source": [
    "for dataset in combine:\n",
    "    dataset[\"HouseStyle\"] = dataset[\"HouseStyle\"].map({\"1.5Unf\":0,\"SFoyer\":1,\"1.5Fin\":2,\"2.5Unf\":3,\"SLvl\":4,\"1Story\":5,\"2Story\":6,\"2.5Fin\":7})"
   ]
  },
  {
   "cell_type": "code",
   "execution_count": 47,
   "metadata": {
    "colab": {
     "autoexec": {
      "startup": false,
      "wait_interval": 0
     }
    },
    "colab_type": "code",
    "id": "Ag_lJ9h_h2Xa"
   },
   "outputs": [],
   "source": [
    "#train_df[[\"YearBuilt\",\"SalePrice\"]].groupby([\"YearBuilt\"],as_index=False).mean().sort_values(by=\"SalePrice\",ascending=False)\n",
    "#train_df[[\"YearBuilt\",\"SalePrice\"]].groupby([\"YearBuilt\"],as_index=False).size()"
   ]
  },
  {
   "cell_type": "code",
   "execution_count": 48,
   "metadata": {
    "colab": {
     "autoexec": {
      "startup": false,
      "wait_interval": 0
     }
    },
    "colab_type": "code",
    "id": "M_cBgO70iKXq"
   },
   "outputs": [],
   "source": [
    "for dataset in combine:\n",
    "    dataset[\"HouseAge\"] = 2018-dataset[\"YearBuilt\"]"
   ]
  },
  {
   "cell_type": "code",
   "execution_count": 49,
   "metadata": {
    "colab": {
     "autoexec": {
      "startup": false,
      "wait_interval": 0
     },
     "base_uri": "https://localhost:8080/",
     "height": 284
    },
    "colab_type": "code",
    "executionInfo": {
     "elapsed": 615,
     "status": "ok",
     "timestamp": 1532412770745,
     "user": {
      "displayName": "Yamato Lu",
      "photoUrl": "//lh3.googleusercontent.com/-C7dAorJ3yz8/AAAAAAAAAAI/AAAAAAAACkI/gj_5lhLTdCQ/s50-c-k-no/photo.jpg",
      "userId": "112499826195748670972"
     },
     "user_tz": -480
    },
    "id": "hWn4U5JZuv0k",
    "outputId": "8fdfdc26-5d86-4594-f75d-7f6af82bd1b8"
   },
   "outputs": [
    {
     "data": {
      "text/html": [
       "<div>\n",
       "<style scoped>\n",
       "    .dataframe tbody tr th:only-of-type {\n",
       "        vertical-align: middle;\n",
       "    }\n",
       "\n",
       "    .dataframe tbody tr th {\n",
       "        vertical-align: top;\n",
       "    }\n",
       "\n",
       "    .dataframe thead th {\n",
       "        text-align: right;\n",
       "    }\n",
       "</style>\n",
       "<table border=\"1\" class=\"dataframe\">\n",
       "  <thead>\n",
       "    <tr style=\"text-align: right;\">\n",
       "      <th></th>\n",
       "      <th>HouseAgeBand</th>\n",
       "      <th>SalePrice</th>\n",
       "    </tr>\n",
       "  </thead>\n",
       "  <tbody>\n",
       "    <tr>\n",
       "      <th>0</th>\n",
       "      <td>(7.999, 13.0]</td>\n",
       "      <td>258311.855856</td>\n",
       "    </tr>\n",
       "    <tr>\n",
       "      <th>1</th>\n",
       "      <td>(13.0, 18.0]</td>\n",
       "      <td>221211.825301</td>\n",
       "    </tr>\n",
       "    <tr>\n",
       "      <th>2</th>\n",
       "      <td>(18.0, 28.0]</td>\n",
       "      <td>228404.220859</td>\n",
       "    </tr>\n",
       "    <tr>\n",
       "      <th>3</th>\n",
       "      <td>(28.0, 45.0]</td>\n",
       "      <td>172010.705556</td>\n",
       "    </tr>\n",
       "    <tr>\n",
       "      <th>4</th>\n",
       "      <td>(45.0, 55.0]</td>\n",
       "      <td>148534.082474</td>\n",
       "    </tr>\n",
       "    <tr>\n",
       "      <th>5</th>\n",
       "      <td>(55.0, 64.0]</td>\n",
       "      <td>145524.362069</td>\n",
       "    </tr>\n",
       "    <tr>\n",
       "      <th>6</th>\n",
       "      <td>(64.0, 89.0]</td>\n",
       "      <td>134016.022222</td>\n",
       "    </tr>\n",
       "    <tr>\n",
       "      <th>7</th>\n",
       "      <td>(89.0, 146.0]</td>\n",
       "      <td>130535.917127</td>\n",
       "    </tr>\n",
       "  </tbody>\n",
       "</table>\n",
       "</div>"
      ],
      "text/plain": [
       "    HouseAgeBand      SalePrice\n",
       "0  (7.999, 13.0]  258311.855856\n",
       "1   (13.0, 18.0]  221211.825301\n",
       "2   (18.0, 28.0]  228404.220859\n",
       "3   (28.0, 45.0]  172010.705556\n",
       "4   (45.0, 55.0]  148534.082474\n",
       "5   (55.0, 64.0]  145524.362069\n",
       "6   (64.0, 89.0]  134016.022222\n",
       "7  (89.0, 146.0]  130535.917127"
      ]
     },
     "execution_count": 49,
     "metadata": {},
     "output_type": "execute_result"
    }
   ],
   "source": [
    "train_df[\"HouseAgeBand\"]=pd.qcut(train_df[\"HouseAge\"],8)\n",
    "train_df[[\"HouseAgeBand\",\"SalePrice\"]].groupby([\"HouseAgeBand\"],as_index=False).mean()"
   ]
  },
  {
   "cell_type": "code",
   "execution_count": 50,
   "metadata": {
    "colab": {
     "autoexec": {
      "startup": false,
      "wait_interval": 0
     }
    },
    "colab_type": "code",
    "id": "rG3N0IbvvC8f"
   },
   "outputs": [],
   "source": [
    "for dataset in combine:    \n",
    "    dataset.loc[ dataset['HouseAge'] <= 13, 'HouseAge'] = 0\n",
    "    dataset.loc[(dataset['HouseAge'] > 13) & (dataset['HouseAge'] <= 18), 'HouseAge'] = 1\n",
    "    dataset.loc[(dataset['HouseAge'] > 18) & (dataset['HouseAge'] <= 28), 'HouseAge'] = 2\n",
    "    dataset.loc[(dataset['HouseAge'] > 28) & (dataset['HouseAge'] <= 45), 'HouseAge'] = 3\n",
    "    dataset.loc[(dataset['HouseAge'] > 45) & (dataset['HouseAge'] <= 55), 'HouseAge'] = 4\n",
    "    dataset.loc[(dataset['HouseAge'] > 55) & (dataset['HouseAge'] <= 64), 'HouseAge'] = 5\n",
    "    dataset.loc[(dataset['HouseAge'] > 64) & (dataset['HouseAge'] <= 89), 'HouseAge'] = 6\n",
    "    dataset.loc[ dataset['HouseAge'] > 89, 'HouseAge'] = 7"
   ]
  },
  {
   "cell_type": "code",
   "execution_count": 51,
   "metadata": {
    "colab": {
     "autoexec": {
      "startup": false,
      "wait_interval": 0
     }
    },
    "colab_type": "code",
    "id": "PXnnlKuHj4vK"
   },
   "outputs": [],
   "source": [
    "train_df = train_df.drop([\"YearBuilt\",\"HouseAgeBand\"],axis=1)\n",
    "test_df = test_df.drop([\"YearBuilt\"],axis=1)\n",
    "combine = [train_df,test_df]"
   ]
  },
  {
   "cell_type": "code",
   "execution_count": 52,
   "metadata": {
    "colab": {
     "autoexec": {
      "startup": false,
      "wait_interval": 0
     }
    },
    "colab_type": "code",
    "id": "hoVzqStslDN1"
   },
   "outputs": [],
   "source": [
    "#train_df[[\"YearRemodAdd\",\"SalePrice\"]].groupby([\"YearRemodAdd\"],as_index=False).mean().sort_values(by=\"SalePrice\",ascending=False)\n",
    "#train_df[[\"YearRemodAdd\",\"SalePrice\"]].groupby([\"YearRemodAdd\"],as_index=False).size()"
   ]
  },
  {
   "cell_type": "code",
   "execution_count": 53,
   "metadata": {
    "colab": {
     "autoexec": {
      "startup": false,
      "wait_interval": 0
     }
    },
    "colab_type": "code",
    "id": "9aXok_mslWSi"
   },
   "outputs": [],
   "source": [
    "for dataset in combine:\n",
    "    dataset[\"RemodAge\"] = 2018-dataset[\"YearRemodAdd\"]"
   ]
  },
  {
   "cell_type": "code",
   "execution_count": 54,
   "metadata": {
    "colab": {
     "autoexec": {
      "startup": false,
      "wait_interval": 0
     },
     "base_uri": "https://localhost:8080/",
     "height": 284
    },
    "colab_type": "code",
    "executionInfo": {
     "elapsed": 764,
     "status": "ok",
     "timestamp": 1532412778770,
     "user": {
      "displayName": "Yamato Lu",
      "photoUrl": "//lh3.googleusercontent.com/-C7dAorJ3yz8/AAAAAAAAAAI/AAAAAAAACkI/gj_5lhLTdCQ/s50-c-k-no/photo.jpg",
      "userId": "112499826195748670972"
     },
     "user_tz": -480
    },
    "id": "lbrEYCgWvXwD",
    "outputId": "ef9d9666-f161-4057-aa9e-ac097c1c790a"
   },
   "outputs": [
    {
     "data": {
      "text/html": [
       "<div>\n",
       "<style scoped>\n",
       "    .dataframe tbody tr th:only-of-type {\n",
       "        vertical-align: middle;\n",
       "    }\n",
       "\n",
       "    .dataframe tbody tr th {\n",
       "        vertical-align: top;\n",
       "    }\n",
       "\n",
       "    .dataframe thead th {\n",
       "        text-align: right;\n",
       "    }\n",
       "</style>\n",
       "<table border=\"1\" class=\"dataframe\">\n",
       "  <thead>\n",
       "    <tr style=\"text-align: right;\">\n",
       "      <th></th>\n",
       "      <th>RemodAgeBand</th>\n",
       "      <th>SalePrice</th>\n",
       "    </tr>\n",
       "  </thead>\n",
       "  <tbody>\n",
       "    <tr>\n",
       "      <th>0</th>\n",
       "      <td>(7.999, 12.0]</td>\n",
       "      <td>242513.057851</td>\n",
       "    </tr>\n",
       "    <tr>\n",
       "      <th>1</th>\n",
       "      <td>(12.0, 14.0]</td>\n",
       "      <td>203461.288889</td>\n",
       "    </tr>\n",
       "    <tr>\n",
       "      <th>2</th>\n",
       "      <td>(14.0, 18.0]</td>\n",
       "      <td>197252.542857</td>\n",
       "    </tr>\n",
       "    <tr>\n",
       "      <th>3</th>\n",
       "      <td>(18.0, 24.0]</td>\n",
       "      <td>209764.072222</td>\n",
       "    </tr>\n",
       "    <tr>\n",
       "      <th>4</th>\n",
       "      <td>(24.0, 41.0]</td>\n",
       "      <td>177575.407035</td>\n",
       "    </tr>\n",
       "    <tr>\n",
       "      <th>5</th>\n",
       "      <td>(41.0, 51.0]</td>\n",
       "      <td>144876.169697</td>\n",
       "    </tr>\n",
       "    <tr>\n",
       "      <th>6</th>\n",
       "      <td>(51.0, 66.0]</td>\n",
       "      <td>137595.527473</td>\n",
       "    </tr>\n",
       "    <tr>\n",
       "      <th>7</th>\n",
       "      <td>(66.0, 68.0]</td>\n",
       "      <td>117738.043956</td>\n",
       "    </tr>\n",
       "  </tbody>\n",
       "</table>\n",
       "</div>"
      ],
      "text/plain": [
       "    RemodAgeBand      SalePrice\n",
       "0  (7.999, 12.0]  242513.057851\n",
       "1   (12.0, 14.0]  203461.288889\n",
       "2   (14.0, 18.0]  197252.542857\n",
       "3   (18.0, 24.0]  209764.072222\n",
       "4   (24.0, 41.0]  177575.407035\n",
       "5   (41.0, 51.0]  144876.169697\n",
       "6   (51.0, 66.0]  137595.527473\n",
       "7   (66.0, 68.0]  117738.043956"
      ]
     },
     "execution_count": 54,
     "metadata": {},
     "output_type": "execute_result"
    }
   ],
   "source": [
    "train_df[\"RemodAgeBand\"]=pd.qcut(train_df[\"RemodAge\"],8)\n",
    "train_df[[\"RemodAgeBand\",\"SalePrice\"]].groupby([\"RemodAgeBand\"],as_index=False).mean()"
   ]
  },
  {
   "cell_type": "code",
   "execution_count": 55,
   "metadata": {
    "colab": {
     "autoexec": {
      "startup": false,
      "wait_interval": 0
     }
    },
    "colab_type": "code",
    "id": "c4VJJsn9vmu3"
   },
   "outputs": [],
   "source": [
    "for dataset in combine:    \n",
    "    dataset.loc[ dataset['RemodAge'] <= 12, 'RemodAge'] = 0\n",
    "    dataset.loc[(dataset['RemodAge'] > 12) & (dataset['RemodAge'] <= 14), 'RemodAge'] = 1\n",
    "    dataset.loc[(dataset['RemodAge'] > 14) & (dataset['RemodAge'] <= 18), 'RemodAge'] = 2\n",
    "    dataset.loc[(dataset['RemodAge'] > 18) & (dataset['RemodAge'] <= 24), 'RemodAge'] = 3\n",
    "    dataset.loc[(dataset['RemodAge'] > 24) & (dataset['RemodAge'] <= 41), 'RemodAge'] = 4\n",
    "    dataset.loc[(dataset['RemodAge'] > 41) & (dataset['RemodAge'] <= 51), 'RemodAge'] = 5\n",
    "    dataset.loc[(dataset['RemodAge'] > 51) & (dataset['RemodAge'] <= 66), 'RemodAge'] = 6\n",
    "    dataset.loc[ dataset['RemodAge'] > 66, 'RemodAge'] = 7"
   ]
  },
  {
   "cell_type": "code",
   "execution_count": 56,
   "metadata": {
    "colab": {
     "autoexec": {
      "startup": false,
      "wait_interval": 0
     }
    },
    "colab_type": "code",
    "id": "-nutFrMFleqy"
   },
   "outputs": [],
   "source": [
    "train_df = train_df.drop([\"YearRemodAdd\",\"RemodAgeBand\"],axis=1)\n",
    "test_df = test_df.drop([\"YearRemodAdd\"],axis=1)\n",
    "combine = [train_df,test_df]"
   ]
  },
  {
   "cell_type": "code",
   "execution_count": 57,
   "metadata": {
    "colab": {
     "autoexec": {
      "startup": false,
      "wait_interval": 0
     }
    },
    "colab_type": "code",
    "id": "A05a7VEc_k8X"
   },
   "outputs": [],
   "source": [
    "#train_df[[\"RoofStyle\",\"SalePrice\"]].groupby([\"RoofStyle\"],as_index=False).mean().sort_values(by=\"SalePrice\",ascending=False)\n",
    "#train_df[[\"RoofStyle\",\"SalePrice\"]].groupby([\"RoofStyle\"],as_index=False).size()"
   ]
  },
  {
   "cell_type": "code",
   "execution_count": 58,
   "metadata": {
    "colab": {
     "autoexec": {
      "startup": false,
      "wait_interval": 0
     }
    },
    "colab_type": "code",
    "id": "io5jMcHu_20v"
   },
   "outputs": [],
   "source": [
    "for dataset in combine:\n",
    "    dataset[\"RoofStyle\"] = dataset[\"RoofStyle\"].map({\"Gambrel\":0,\"Gable\":1,\"Mansard\":2,\"Flat\":3,\"Hip\":4,\"Shed\":5})"
   ]
  },
  {
   "cell_type": "code",
   "execution_count": 59,
   "metadata": {
    "colab": {
     "autoexec": {
      "startup": false,
      "wait_interval": 0
     }
    },
    "colab_type": "code",
    "id": "2XRUl24hATGP"
   },
   "outputs": [],
   "source": [
    "#train_df[[\"RoofMatl\",\"SalePrice\"]].groupby([\"RoofMatl\"],as_index=False).mean().sort_values(by=\"SalePrice\",ascending=False)"
   ]
  },
  {
   "cell_type": "code",
   "execution_count": 60,
   "metadata": {
    "colab": {
     "autoexec": {
      "startup": false,
      "wait_interval": 0
     }
    },
    "colab_type": "code",
    "id": "oR4Hkp64Ae2H"
   },
   "outputs": [],
   "source": [
    "#train_df[[\"RoofMatl\",\"SalePrice\"]].groupby([\"RoofMatl\"],as_index=False).size()"
   ]
  },
  {
   "cell_type": "code",
   "execution_count": 61,
   "metadata": {
    "colab": {
     "autoexec": {
      "startup": false,
      "wait_interval": 0
     }
    },
    "colab_type": "code",
    "id": "CaqRz6dbBvLw"
   },
   "outputs": [],
   "source": [
    "for dataset in combine:\n",
    "    dataset[\"RoofMatl\"] = dataset[\"RoofMatl\"].map({\"Roll\":0,\"ClyTile\":0,\"CompShg\":1,\"Metal\":1,\"Tar&Grv\":2,\"WdShake\":3,\"Membran\":3,\"WdShngl\":4})"
   ]
  },
  {
   "cell_type": "code",
   "execution_count": 62,
   "metadata": {
    "colab": {
     "autoexec": {
      "startup": false,
      "wait_interval": 0
     }
    },
    "colab_type": "code",
    "id": "boLbvLLZESTY"
   },
   "outputs": [],
   "source": [
    "#train_df[[\"Exterior1st\",\"SalePrice\"]].groupby([\"Exterior1st\"],as_index=False).mean().sort_values(by=\"SalePrice\",ascending=False)"
   ]
  },
  {
   "cell_type": "code",
   "execution_count": 63,
   "metadata": {
    "colab": {
     "autoexec": {
      "startup": false,
      "wait_interval": 0
     }
    },
    "colab_type": "code",
    "id": "oeY0LWDmCm8-"
   },
   "outputs": [],
   "source": [
    "#train_df[[\"Exterior1st\",\"SalePrice\"]].groupby([\"Exterior1st\"],as_index=False).size()"
   ]
  },
  {
   "cell_type": "code",
   "execution_count": 64,
   "metadata": {
    "colab": {
     "autoexec": {
      "startup": false,
      "wait_interval": 0
     }
    },
    "colab_type": "code",
    "id": "tP9xRtnkC8i5"
   },
   "outputs": [],
   "source": [
    "for dataset in combine:\n",
    "    dataset[\"Exterior1st\"] = dataset[\"Exterior1st\"].fillna(\"BrkComm\")"
   ]
  },
  {
   "cell_type": "code",
   "execution_count": 65,
   "metadata": {
    "colab": {
     "autoexec": {
      "startup": false,
      "wait_interval": 0
     }
    },
    "colab_type": "code",
    "id": "tTcu4lOKIX_I"
   },
   "outputs": [],
   "source": [
    "for dataset in combine:\n",
    "    dataset[\"Exterior1st\"] = dataset[\"Exterior1st\"].map({\"BrkComm\":0,\"AsphShn\":1,\"CBlock\":1,\"AsbShng\":1,\"MetalSd\":2,\n",
    "                                                         \"Wd Sdng\":3,\"WdShing\":4,\"Stucco\":5,\"HdBoard\":6,\"Plywood\":7,\n",
    "                                                         \"BrkFace\":8,\"VinylSd\":9,\"CemntBd\":10,\"Stone\":11,\"ImStucc\":11,})"
   ]
  },
  {
   "cell_type": "code",
   "execution_count": 66,
   "metadata": {
    "colab": {
     "autoexec": {
      "startup": false,
      "wait_interval": 0
     }
    },
    "colab_type": "code",
    "id": "lVpjYHqJGno3"
   },
   "outputs": [],
   "source": [
    "#train_df[[\"Exterior2nd\",\"SalePrice\"]].groupby([\"Exterior2nd\"],as_index=False).mean().sort_values(by=\"SalePrice\",ascending=False)"
   ]
  },
  {
   "cell_type": "code",
   "execution_count": 67,
   "metadata": {
    "colab": {
     "autoexec": {
      "startup": false,
      "wait_interval": 0
     }
    },
    "colab_type": "code",
    "id": "iAcI-KM2Gai4"
   },
   "outputs": [],
   "source": [
    "#train_df[[\"Exterior2nd\",\"SalePrice\"]].groupby([\"Exterior2nd\"],as_index=False).size()"
   ]
  },
  {
   "cell_type": "code",
   "execution_count": 68,
   "metadata": {
    "colab": {
     "autoexec": {
      "startup": false,
      "wait_interval": 0
     }
    },
    "colab_type": "code",
    "id": "dcWPrgp8DEQw"
   },
   "outputs": [],
   "source": [
    "for dataset in combine:\n",
    "    dataset[\"Exterior2nd\"] = dataset[\"Exterior2nd\"].fillna(\"CBlock\")"
   ]
  },
  {
   "cell_type": "code",
   "execution_count": 69,
   "metadata": {
    "colab": {
     "autoexec": {
      "startup": false,
      "wait_interval": 0
     }
    },
    "colab_type": "code",
    "id": "U6rHinNjH4ig"
   },
   "outputs": [],
   "source": [
    "for dataset in combine:\n",
    "    dataset[\"Exterior2nd\"] = dataset[\"Exterior2nd\"].map({\"CBlock\":0,\"AsbShng\":0,\"Brk Cmn\":1,\"AsphShn\":1,\"Wd Sdng\":2,\n",
    "                                                         \"MetalSd\":3,\"Stucco\":4,\"Stone\":4,\"Wd Shng\":5,\"HdBoard\":6,\n",
    "                                                         \"Plywood\":7,\"BrkFace\":8,\"VinylSd\":9,\"CmentBd\":10,\"ImStucc\":11,\"Other\":11})"
   ]
  },
  {
   "cell_type": "code",
   "execution_count": 70,
   "metadata": {
    "colab": {
     "autoexec": {
      "startup": false,
      "wait_interval": 0
     }
    },
    "colab_type": "code",
    "id": "MA0sY3RJbVom"
   },
   "outputs": [],
   "source": [
    "#train_df[[\"MasVnrType\",\"SalePrice\"]].groupby([\"MasVnrType\"],as_index=False).mean().sort_values(by=\"SalePrice\",ascending=False)"
   ]
  },
  {
   "cell_type": "code",
   "execution_count": 71,
   "metadata": {
    "colab": {
     "autoexec": {
      "startup": false,
      "wait_interval": 0
     }
    },
    "colab_type": "code",
    "id": "8LZRixYIbydp"
   },
   "outputs": [],
   "source": [
    "for dataset in combine:\n",
    "    dataset[\"MasVnrType\"] = dataset[\"MasVnrType\"].fillna(\"None\")"
   ]
  },
  {
   "cell_type": "code",
   "execution_count": 72,
   "metadata": {
    "colab": {
     "autoexec": {
      "startup": false,
      "wait_interval": 0
     }
    },
    "colab_type": "code",
    "id": "BPjNnoO8d6-g"
   },
   "outputs": [],
   "source": [
    "for dataset in combine:\n",
    "    dataset[\"MasVnrType\"] = dataset[\"MasVnrType\"].map({\"None\":0,\"BrkCmn\":1,\"BrkFace\":2,\"Stone\":3})"
   ]
  },
  {
   "cell_type": "code",
   "execution_count": 73,
   "metadata": {
    "colab": {
     "autoexec": {
      "startup": false,
      "wait_interval": 0
     }
    },
    "colab_type": "code",
    "id": "HmbezjFSbm7g"
   },
   "outputs": [],
   "source": [
    "#train_df[[\"MasVnrArea\",\"SalePrice\"]].groupby([\"MasVnrArea\"],as_index=False).mean().sort_values(by=\"SalePrice\",ascending=False)"
   ]
  },
  {
   "cell_type": "code",
   "execution_count": 74,
   "metadata": {
    "colab": {
     "autoexec": {
      "startup": false,
      "wait_interval": 0
     }
    },
    "colab_type": "code",
    "id": "6Vh4csVOcOKi"
   },
   "outputs": [],
   "source": [
    "for dataset in combine:\n",
    "    dataset[\"MasVnrArea\"] = dataset[\"MasVnrArea\"].fillna(0)\n",
    "    dataset.loc[ dataset['MasVnrArea'] > 0, 'MasVnrArea'] = 1\n",
    "    dataset[\"MasVnrArea\"] = dataset[\"MasVnrArea\"].astype(int)"
   ]
  },
  {
   "cell_type": "code",
   "execution_count": 75,
   "metadata": {
    "colab": {
     "autoexec": {
      "startup": false,
      "wait_interval": 0
     }
    },
    "colab_type": "code",
    "id": "GMni5SZBNu9V"
   },
   "outputs": [],
   "source": [
    "#train_df[[\"ExterQual\",\"SalePrice\"]].groupby([\"ExterQual\"],as_index=False).mean().sort_values(by=\"SalePrice\",ascending=False)"
   ]
  },
  {
   "cell_type": "code",
   "execution_count": 76,
   "metadata": {
    "colab": {
     "autoexec": {
      "startup": false,
      "wait_interval": 0
     }
    },
    "colab_type": "code",
    "id": "I5F_PsPZOBtx"
   },
   "outputs": [],
   "source": [
    "for dataset in combine:\n",
    "    dataset[\"ExterQual\"] = dataset[\"ExterQual\"].map({\"Fa\":0,\"TA\":1,\"Gd\":2,\"Ex\":3})"
   ]
  },
  {
   "cell_type": "code",
   "execution_count": 77,
   "metadata": {
    "colab": {
     "autoexec": {
      "startup": false,
      "wait_interval": 0
     }
    },
    "colab_type": "code",
    "id": "khPkEVD2N1Bh"
   },
   "outputs": [],
   "source": [
    "#train_df[[\"ExterCond\",\"SalePrice\"]].groupby([\"ExterCond\"],as_index=False).mean().sort_values(by=\"SalePrice\",ascending=False)"
   ]
  },
  {
   "cell_type": "code",
   "execution_count": 78,
   "metadata": {
    "colab": {
     "autoexec": {
      "startup": false,
      "wait_interval": 0
     }
    },
    "colab_type": "code",
    "id": "YFW-V4QJOTsx"
   },
   "outputs": [],
   "source": [
    "for dataset in combine:\n",
    "    dataset[\"ExterCond\"] = dataset[\"ExterCond\"].map({\"Po\":0,\"Fa\":1,\"TA\":2,\"Gd\":3,\"Ex\":4})"
   ]
  },
  {
   "cell_type": "code",
   "execution_count": 79,
   "metadata": {
    "colab": {
     "autoexec": {
      "startup": false,
      "wait_interval": 0
     }
    },
    "colab_type": "code",
    "id": "hdjaP3xhO85H"
   },
   "outputs": [],
   "source": [
    "#train_df[[\"Foundation\",\"SalePrice\"]].groupby([\"Foundation\"],as_index=False).mean().sort_values(by=\"SalePrice\",ascending=False)"
   ]
  },
  {
   "cell_type": "code",
   "execution_count": 80,
   "metadata": {
    "colab": {
     "autoexec": {
      "startup": false,
      "wait_interval": 0
     }
    },
    "colab_type": "code",
    "id": "Wq-MEwUtPFFY"
   },
   "outputs": [],
   "source": [
    "for dataset in combine:\n",
    "    dataset[\"Foundation\"] = dataset[\"Foundation\"].map({\"Slab\":0,\"BrkTil\":1,\"CBlock\":2,\"Stone\":3,\"Wood\":4,\"PConc\":5})"
   ]
  },
  {
   "cell_type": "code",
   "execution_count": 81,
   "metadata": {
    "colab": {
     "autoexec": {
      "startup": false,
      "wait_interval": 0
     }
    },
    "colab_type": "code",
    "id": "G1NlihujpPjX"
   },
   "outputs": [],
   "source": [
    "#train_df.info()"
   ]
  },
  {
   "cell_type": "code",
   "execution_count": 82,
   "metadata": {
    "colab": {
     "autoexec": {
      "startup": false,
      "wait_interval": 0
     }
    },
    "colab_type": "code",
    "id": "ApVznOLSo-qM"
   },
   "outputs": [],
   "source": [
    "#BsmtQual\tBsmtCond\tBsmtExposure\tBsmtFinType1\tBsmtFinSF1\tBsmtFinType2\tBsmtFinSF2\tBsmtUnfSF\tTotalBsmtSF\n",
    "#train_df[[\"BsmtCond\",\"SalePrice\"]].groupby([\"BsmtCond\"],as_index=False).mean().sort_values(by=\"SalePrice\",ascending=False)"
   ]
  },
  {
   "cell_type": "code",
   "execution_count": 83,
   "metadata": {
    "colab": {
     "autoexec": {
      "startup": false,
      "wait_interval": 0
     }
    },
    "colab_type": "code",
    "id": "9Q6-S5QpnQ0-"
   },
   "outputs": [],
   "source": [
    "for dataset in combine:\n",
    "    dataset[\"BsmtQual\"] = dataset[\"BsmtQual\"].fillna(\"NA\")\n",
    "    dataset[\"BsmtCond\"] = dataset[\"BsmtCond\"].fillna(\"NA\")\n",
    "    dataset[\"BsmtExposure\"] = dataset[\"BsmtExposure\"].fillna(\"NA\")\n",
    "    dataset[\"BsmtFinType1\"] = dataset[\"BsmtFinType1\"].fillna(\"NA\")\n",
    "    dataset[\"BsmtFinType2\"] = dataset[\"BsmtFinType2\"].fillna(\"NA\")\n",
    "    dataset[\"TotalBsmtSF\"] = dataset[\"TotalBsmtSF\"].fillna(0)"
   ]
  },
  {
   "cell_type": "code",
   "execution_count": 84,
   "metadata": {
    "colab": {
     "autoexec": {
      "startup": false,
      "wait_interval": 0
     }
    },
    "colab_type": "code",
    "id": "zpKAm2H-qmBC"
   },
   "outputs": [],
   "source": [
    "for dataset in combine:\n",
    "    dataset[\"BsmtQual\"] = dataset[\"BsmtQual\"].map({\"NA\":0,\"Fa\":1,\"TA\":2,\"Gd\":3,\"Ex\":4})\n",
    "    dataset[\"BsmtCond\"] = dataset[\"BsmtCond\"].map({\"Po\":0,\"NA\":1,\"Fa\":2,\"TA\":3,\"Gd\":4}).astype(int)\n",
    "    dataset[\"BsmtExposure\"] = dataset[\"BsmtExposure\"].map({\"NA\":0,\"No\":1,\"Mn\":2,\"Av\":3,\"Gd\":4})\n",
    "    dataset[\"BsmtFinType1\"] = dataset[\"BsmtFinType1\"].map({\"NA\":0,\"Rec\":1,\"BLQ\":1,\"LwQ\":1,\"ALQ\":2,\"Unf\":2,\"GLQ\":2})\n",
    "    dataset[\"BsmtFinType2\"] = dataset[\"BsmtFinType2\"].map({\"NA\":0,\"Rec\":1,\"BLQ\":1,\"LwQ\":1,\"ALQ\":2,\"Unf\":2,\"GLQ\":2})"
   ]
  },
  {
   "cell_type": "code",
   "execution_count": 85,
   "metadata": {
    "colab": {
     "autoexec": {
      "startup": false,
      "wait_interval": 0
     },
     "base_uri": "https://localhost:8080/",
     "height": 284
    },
    "colab_type": "code",
    "executionInfo": {
     "elapsed": 722,
     "status": "ok",
     "timestamp": 1532412819725,
     "user": {
      "displayName": "Yamato Lu",
      "photoUrl": "//lh3.googleusercontent.com/-C7dAorJ3yz8/AAAAAAAAAAI/AAAAAAAACkI/gj_5lhLTdCQ/s50-c-k-no/photo.jpg",
      "userId": "112499826195748670972"
     },
     "user_tz": -480
    },
    "id": "86bzQmJIwmKK",
    "outputId": "653af602-0d8f-4dbb-d3f9-77a73957e5a2"
   },
   "outputs": [
    {
     "data": {
      "text/html": [
       "<div>\n",
       "<style scoped>\n",
       "    .dataframe tbody tr th:only-of-type {\n",
       "        vertical-align: middle;\n",
       "    }\n",
       "\n",
       "    .dataframe tbody tr th {\n",
       "        vertical-align: top;\n",
       "    }\n",
       "\n",
       "    .dataframe thead th {\n",
       "        text-align: right;\n",
       "    }\n",
       "</style>\n",
       "<table border=\"1\" class=\"dataframe\">\n",
       "  <thead>\n",
       "    <tr style=\"text-align: right;\">\n",
       "      <th></th>\n",
       "      <th>BsmtSFBand</th>\n",
       "      <th>SalePrice</th>\n",
       "    </tr>\n",
       "  </thead>\n",
       "  <tbody>\n",
       "    <tr>\n",
       "      <th>0</th>\n",
       "      <td>(-0.001, 672.0]</td>\n",
       "      <td>118998.349462</td>\n",
       "    </tr>\n",
       "    <tr>\n",
       "      <th>1</th>\n",
       "      <td>(672.0, 795.75]</td>\n",
       "      <td>150063.463687</td>\n",
       "    </tr>\n",
       "    <tr>\n",
       "      <th>2</th>\n",
       "      <td>(795.75, 883.125]</td>\n",
       "      <td>154344.830601</td>\n",
       "    </tr>\n",
       "    <tr>\n",
       "      <th>3</th>\n",
       "      <td>(883.125, 991.5]</td>\n",
       "      <td>154090.478022</td>\n",
       "    </tr>\n",
       "    <tr>\n",
       "      <th>4</th>\n",
       "      <td>(991.5, 1115.75]</td>\n",
       "      <td>168963.928571</td>\n",
       "    </tr>\n",
       "    <tr>\n",
       "      <th>5</th>\n",
       "      <td>(1115.75, 1298.25]</td>\n",
       "      <td>190973.098361</td>\n",
       "    </tr>\n",
       "    <tr>\n",
       "      <th>6</th>\n",
       "      <td>(1298.25, 1541.625]</td>\n",
       "      <td>219683.461538</td>\n",
       "    </tr>\n",
       "    <tr>\n",
       "      <th>7</th>\n",
       "      <td>(1541.625, 6110.0]</td>\n",
       "      <td>290592.459016</td>\n",
       "    </tr>\n",
       "  </tbody>\n",
       "</table>\n",
       "</div>"
      ],
      "text/plain": [
       "            BsmtSFBand      SalePrice\n",
       "0      (-0.001, 672.0]  118998.349462\n",
       "1      (672.0, 795.75]  150063.463687\n",
       "2    (795.75, 883.125]  154344.830601\n",
       "3     (883.125, 991.5]  154090.478022\n",
       "4     (991.5, 1115.75]  168963.928571\n",
       "5   (1115.75, 1298.25]  190973.098361\n",
       "6  (1298.25, 1541.625]  219683.461538\n",
       "7   (1541.625, 6110.0]  290592.459016"
      ]
     },
     "execution_count": 85,
     "metadata": {},
     "output_type": "execute_result"
    }
   ],
   "source": [
    "train_df[\"BsmtSFBand\"]=pd.qcut(train_df[\"TotalBsmtSF\"],8)\n",
    "train_df[[\"BsmtSFBand\",\"SalePrice\"]].groupby([\"BsmtSFBand\"],as_index=False).mean()"
   ]
  },
  {
   "cell_type": "code",
   "execution_count": 86,
   "metadata": {
    "colab": {
     "autoexec": {
      "startup": false,
      "wait_interval": 0
     }
    },
    "colab_type": "code",
    "id": "O6jWujH8xGwh"
   },
   "outputs": [],
   "source": [
    "for dataset in combine:    \n",
    "    dataset.loc[ dataset['TotalBsmtSF'] <= 672, 'TotalBsmtSF'] = 0\n",
    "    dataset.loc[(dataset['TotalBsmtSF'] > 672) & (dataset['TotalBsmtSF'] <= 796), 'TotalBsmtSF'] = 1\n",
    "    dataset.loc[(dataset['TotalBsmtSF'] > 796) & (dataset['TotalBsmtSF'] <= 884), 'TotalBsmtSF'] = 2\n",
    "    dataset.loc[(dataset['TotalBsmtSF'] > 884) & (dataset['TotalBsmtSF'] <= 992), 'TotalBsmtSF'] = 3\n",
    "    dataset.loc[(dataset['TotalBsmtSF'] > 992) & (dataset['TotalBsmtSF'] <= 1116), 'TotalBsmtSF'] = 4\n",
    "    dataset.loc[(dataset['TotalBsmtSF'] > 1116) & (dataset['TotalBsmtSF'] <= 1299), 'TotalBsmtSF'] = 5\n",
    "    dataset.loc[(dataset['TotalBsmtSF'] > 1299) & (dataset['TotalBsmtSF'] <= 1542), 'TotalBsmtSF'] = 6\n",
    "    dataset.loc[ dataset['TotalBsmtSF'] > 1542, 'TotalBsmtSF'] = 7"
   ]
  },
  {
   "cell_type": "code",
   "execution_count": 87,
   "metadata": {
    "colab": {
     "autoexec": {
      "startup": false,
      "wait_interval": 0
     }
    },
    "colab_type": "code",
    "id": "PyCJottMFtLP"
   },
   "outputs": [],
   "source": [
    "for dataset in combine:\n",
    "    dataset[\"TotalBsmtSF\"] = dataset[\"TotalBsmtSF\"].astype(int)"
   ]
  },
  {
   "cell_type": "code",
   "execution_count": 88,
   "metadata": {
    "colab": {
     "autoexec": {
      "startup": false,
      "wait_interval": 0
     }
    },
    "colab_type": "code",
    "id": "E8jRKwLpxndD"
   },
   "outputs": [],
   "source": [
    "train_df = train_df.drop([\"BsmtFinSF1\",\"BsmtFinSF2\",\"BsmtUnfSF\",\"BsmtSFBand\"],axis=1)\n",
    "test_df=test_df.drop([\"BsmtFinSF1\",\"BsmtFinSF2\",\"BsmtUnfSF\"],axis=1)\n",
    "combine = [train_df,test_df]"
   ]
  },
  {
   "cell_type": "code",
   "execution_count": 89,
   "metadata": {
    "colab": {
     "autoexec": {
      "startup": false,
      "wait_interval": 0
     }
    },
    "colab_type": "code",
    "id": "XbpWkJwD8UnH"
   },
   "outputs": [],
   "source": [
    "#for dataset in combine:\n",
    "#    dataset[\"Bsmt\"] = dataset[\"BsmtQual\"]+dataset[\"BsmtCond\"]+dataset[\"BsmtExposure\"]+dataset[\"BsmtFinType1\"]+dataset[\"BsmtFinType2\"]"
   ]
  },
  {
   "cell_type": "code",
   "execution_count": 90,
   "metadata": {
    "colab": {
     "autoexec": {
      "startup": false,
      "wait_interval": 0
     }
    },
    "colab_type": "code",
    "id": "MOv3FEzi8yRz"
   },
   "outputs": [],
   "source": [
    "#train_df[[\"Bsmt\",\"SalePrice\"]].groupby([\"Bsmt\"],as_index=False).mean().sort_values(by=\"SalePrice\",ascending=False)"
   ]
  },
  {
   "cell_type": "code",
   "execution_count": 91,
   "metadata": {
    "colab": {
     "autoexec": {
      "startup": false,
      "wait_interval": 0
     }
    },
    "colab_type": "code",
    "id": "z34MaTk99BMg"
   },
   "outputs": [],
   "source": [
    "#train_df[\"BsmtBand\"]=pd.qcut(train_df[\"Bsmt\"],5)\n",
    "#train_df[[\"BsmtBand\",\"SalePrice\"]].groupby([\"BsmtBand\"],as_index=False).mean()"
   ]
  },
  {
   "cell_type": "code",
   "execution_count": 92,
   "metadata": {
    "colab": {
     "autoexec": {
      "startup": false,
      "wait_interval": 0
     }
    },
    "colab_type": "code",
    "id": "w6XQmGSy9WXo"
   },
   "outputs": [],
   "source": [
    "#for dataset in combine:    \n",
    "#    dataset.loc[ dataset['Bsmt'] <= 9, 'Bsmt'] = 0\n",
    "#    dataset.loc[(dataset['Bsmt'] > 9) & (dataset['Bsmt'] <= 10), 'Bsmt'] = 1\n",
    "#    dataset.loc[(dataset['Bsmt'] > 10) & (dataset['Bsmt'] <= 11), 'Bsmt'] = 2\n",
    "#    dataset.loc[(dataset['Bsmt'] > 11) & (dataset['Bsmt'] <= 13), 'Bsmt'] = 3\n",
    "#    dataset.loc[ dataset['Bsmt'] > 13, 'Bsmt'] = 4"
   ]
  },
  {
   "cell_type": "code",
   "execution_count": 93,
   "metadata": {
    "colab": {
     "autoexec": {
      "startup": false,
      "wait_interval": 0
     }
    },
    "colab_type": "code",
    "id": "EVWieZ-t9p5b"
   },
   "outputs": [],
   "source": [
    "#train_df = train_df.drop([\"BsmtQual\",\"BsmtCond\",\"BsmtExposure\",\"BsmtFinType1\",\"BsmtFinType2\",\"BsmtBand\"],axis=1)\n",
    "#test_df=test_df.drop([\"BsmtQual\",\"BsmtCond\",\"BsmtExposure\",\"BsmtFinType1\",\"BsmtFinType2\"],axis=1)\n",
    "#combine = [train_df,test_df]"
   ]
  },
  {
   "cell_type": "code",
   "execution_count": 94,
   "metadata": {
    "colab": {
     "autoexec": {
      "startup": false,
      "wait_interval": 0
     }
    },
    "colab_type": "code",
    "id": "w7ZQm-1dS1eL"
   },
   "outputs": [],
   "source": [
    "#train_df[[\"Heating\",\"SalePrice\"]].groupby([\"Heating\"],as_index=False).mean().sort_values(by=\"SalePrice\",ascending=False)"
   ]
  },
  {
   "cell_type": "code",
   "execution_count": 95,
   "metadata": {
    "colab": {
     "autoexec": {
      "startup": false,
      "wait_interval": 0
     }
    },
    "colab_type": "code",
    "id": "RUKD_IjCPcHK"
   },
   "outputs": [],
   "source": [
    "#train_df[[\"Heating\",\"SalePrice\"]].groupby([\"Heating\"],as_index=False).size()"
   ]
  },
  {
   "cell_type": "code",
   "execution_count": 96,
   "metadata": {
    "colab": {
     "autoexec": {
      "startup": false,
      "wait_interval": 0
     }
    },
    "colab_type": "code",
    "id": "YGkgSgMHWH2S"
   },
   "outputs": [],
   "source": [
    "for dataset in combine:\n",
    "    dataset[\"Heating\"] = dataset[\"Heating\"].map({\"Floor\":0,\"Grav\":0,\"Wall\":1,\"OthW\":2,\"GasW\":3,\"GasA\":4})"
   ]
  },
  {
   "cell_type": "code",
   "execution_count": 97,
   "metadata": {
    "colab": {
     "autoexec": {
      "startup": false,
      "wait_interval": 0
     }
    },
    "colab_type": "code",
    "id": "Z6QRyawfTHaB"
   },
   "outputs": [],
   "source": [
    "#train_df[[\"HeatingQC\",\"SalePrice\"]].groupby([\"HeatingQC\"],as_index=False).mean().sort_values(by=\"SalePrice\",ascending=False)"
   ]
  },
  {
   "cell_type": "code",
   "execution_count": 98,
   "metadata": {
    "colab": {
     "autoexec": {
      "startup": false,
      "wait_interval": 0
     }
    },
    "colab_type": "code",
    "id": "v3M-6R5jfIO6"
   },
   "outputs": [],
   "source": [
    "for dataset in combine:\n",
    "    dataset[\"HeatingQC\"] = dataset[\"HeatingQC\"].map({\"Po\":0,\"Fa\":1,\"TA\":2,\"Gd\":3,\"Ex\":4})"
   ]
  },
  {
   "cell_type": "code",
   "execution_count": 99,
   "metadata": {
    "colab": {
     "autoexec": {
      "startup": false,
      "wait_interval": 0
     }
    },
    "colab_type": "code",
    "id": "ee8f5L3ng86V"
   },
   "outputs": [],
   "source": [
    "#train_df[[\"CentralAir\",\"SalePrice\"]].groupby([\"CentralAir\"],as_index=False).mean().sort_values(by=\"SalePrice\",ascending=False)"
   ]
  },
  {
   "cell_type": "code",
   "execution_count": 100,
   "metadata": {
    "colab": {
     "autoexec": {
      "startup": false,
      "wait_interval": 0
     }
    },
    "colab_type": "code",
    "id": "aE39B6ZzhIDD"
   },
   "outputs": [],
   "source": [
    "for dataset in combine:\n",
    "    dataset[\"CentralAir\"] = dataset[\"CentralAir\"].map({\"Y\":1,\"N\":0})"
   ]
  },
  {
   "cell_type": "code",
   "execution_count": 101,
   "metadata": {
    "colab": {
     "autoexec": {
      "startup": false,
      "wait_interval": 0
     }
    },
    "colab_type": "code",
    "id": "aenz8Uw8hoiT"
   },
   "outputs": [],
   "source": [
    "for dataset in combine:\n",
    "    dataset[\"Electrical\"] = dataset[\"Electrical\"].fillna(\"Mix\")"
   ]
  },
  {
   "cell_type": "code",
   "execution_count": 102,
   "metadata": {
    "colab": {
     "autoexec": {
      "startup": false,
      "wait_interval": 0
     }
    },
    "colab_type": "code",
    "id": "6gyUgl6CheR1"
   },
   "outputs": [],
   "source": [
    "#train_df[[\"Electrical\",\"SalePrice\"]].groupby([\"Electrical\"],as_index=False).mean().sort_values(by=\"SalePrice\",ascending=False)\n",
    "#train_df[[\"Electrical\",\"SalePrice\"]].groupby([\"Electrical\"],as_index=False).size()"
   ]
  },
  {
   "cell_type": "code",
   "execution_count": 103,
   "metadata": {
    "colab": {
     "autoexec": {
      "startup": false,
      "wait_interval": 0
     }
    },
    "colab_type": "code",
    "id": "kvyXDjcVmX0J"
   },
   "outputs": [],
   "source": [
    "for dataset in combine:\n",
    "    dataset[\"Electrical\"] = dataset[\"Electrical\"].map({\"Mix\":0,\"FuseP\":1,\"FuseF\":2,\"FuseA\":3,\"SBrkr\":4})"
   ]
  },
  {
   "cell_type": "code",
   "execution_count": 104,
   "metadata": {
    "colab": {
     "autoexec": {
      "startup": false,
      "wait_interval": 0
     }
    },
    "colab_type": "code",
    "id": "ynIlvgb1TEkz"
   },
   "outputs": [],
   "source": [
    "#train_df[['1stFlrSF','2ndFlrSF','LowQualFinSF','GrLivArea']].head(10)"
   ]
  },
  {
   "cell_type": "code",
   "execution_count": 105,
   "metadata": {
    "colab": {
     "autoexec": {
      "startup": false,
      "wait_interval": 0
     }
    },
    "colab_type": "code",
    "id": "0WoZjnqLXZ08"
   },
   "outputs": [],
   "source": [
    "for dataset in combine:\n",
    "    dataset[\"HighQualFinSF\"] = dataset[\"GrLivArea\"]-dataset[\"LowQualFinSF\"]"
   ]
  },
  {
   "cell_type": "code",
   "execution_count": 106,
   "metadata": {
    "colab": {
     "autoexec": {
      "startup": false,
      "wait_interval": 0
     },
     "base_uri": "https://localhost:8080/",
     "height": 284
    },
    "colab_type": "code",
    "executionInfo": {
     "elapsed": 790,
     "status": "ok",
     "timestamp": 1532412846500,
     "user": {
      "displayName": "Yamato Lu",
      "photoUrl": "//lh3.googleusercontent.com/-C7dAorJ3yz8/AAAAAAAAAAI/AAAAAAAACkI/gj_5lhLTdCQ/s50-c-k-no/photo.jpg",
      "userId": "112499826195748670972"
     },
     "user_tz": -480
    },
    "id": "K05NPoCIYkjQ",
    "outputId": "4c96ee29-b7a1-446a-9cfd-01e70145e7f7"
   },
   "outputs": [
    {
     "data": {
      "text/html": [
       "<div>\n",
       "<style scoped>\n",
       "    .dataframe tbody tr th:only-of-type {\n",
       "        vertical-align: middle;\n",
       "    }\n",
       "\n",
       "    .dataframe tbody tr th {\n",
       "        vertical-align: top;\n",
       "    }\n",
       "\n",
       "    .dataframe thead th {\n",
       "        text-align: right;\n",
       "    }\n",
       "</style>\n",
       "<table border=\"1\" class=\"dataframe\">\n",
       "  <thead>\n",
       "    <tr style=\"text-align: right;\">\n",
       "      <th></th>\n",
       "      <th>HighQualFinSFBand</th>\n",
       "      <th>SalePrice</th>\n",
       "    </tr>\n",
       "  </thead>\n",
       "  <tbody>\n",
       "    <tr>\n",
       "      <th>0</th>\n",
       "      <td>(333.999, 951.375]</td>\n",
       "      <td>110402.524590</td>\n",
       "    </tr>\n",
       "    <tr>\n",
       "      <th>1</th>\n",
       "      <td>(951.375, 1123.75]</td>\n",
       "      <td>126635.714286</td>\n",
       "    </tr>\n",
       "    <tr>\n",
       "      <th>2</th>\n",
       "      <td>(1123.75, 1302.0]</td>\n",
       "      <td>145564.438503</td>\n",
       "    </tr>\n",
       "    <tr>\n",
       "      <th>3</th>\n",
       "      <td>(1302.0, 1458.0]</td>\n",
       "      <td>160243.407821</td>\n",
       "    </tr>\n",
       "    <tr>\n",
       "      <th>4</th>\n",
       "      <td>(1458.0, 1619.625]</td>\n",
       "      <td>186785.215470</td>\n",
       "    </tr>\n",
       "    <tr>\n",
       "      <th>5</th>\n",
       "      <td>(1619.625, 1775.25]</td>\n",
       "      <td>202643.573770</td>\n",
       "    </tr>\n",
       "    <tr>\n",
       "      <th>6</th>\n",
       "      <td>(1775.25, 2071.5]</td>\n",
       "      <td>226835.928571</td>\n",
       "    </tr>\n",
       "    <tr>\n",
       "      <th>7</th>\n",
       "      <td>(2071.5, 5642.0]</td>\n",
       "      <td>288597.961749</td>\n",
       "    </tr>\n",
       "  </tbody>\n",
       "</table>\n",
       "</div>"
      ],
      "text/plain": [
       "     HighQualFinSFBand      SalePrice\n",
       "0   (333.999, 951.375]  110402.524590\n",
       "1   (951.375, 1123.75]  126635.714286\n",
       "2    (1123.75, 1302.0]  145564.438503\n",
       "3     (1302.0, 1458.0]  160243.407821\n",
       "4   (1458.0, 1619.625]  186785.215470\n",
       "5  (1619.625, 1775.25]  202643.573770\n",
       "6    (1775.25, 2071.5]  226835.928571\n",
       "7     (2071.5, 5642.0]  288597.961749"
      ]
     },
     "execution_count": 106,
     "metadata": {},
     "output_type": "execute_result"
    }
   ],
   "source": [
    "train_df[\"HighQualFinSFBand\"]=pd.qcut(train_df[\"HighQualFinSF\"],8)\n",
    "train_df[[\"HighQualFinSFBand\",\"SalePrice\"]].groupby([\"HighQualFinSFBand\"],as_index=False).mean()"
   ]
  },
  {
   "cell_type": "code",
   "execution_count": 107,
   "metadata": {
    "colab": {
     "autoexec": {
      "startup": false,
      "wait_interval": 0
     }
    },
    "colab_type": "code",
    "id": "1HYcov38Y63e"
   },
   "outputs": [],
   "source": [
    "for dataset in combine:    \n",
    "    dataset.loc[ dataset['HighQualFinSF'] <= 952, 'HighQualFinSF'] = 0\n",
    "    dataset.loc[(dataset['HighQualFinSF'] > 952) & (dataset['HighQualFinSF'] <= 1124), 'HighQualFinSF'] = 1\n",
    "    dataset.loc[(dataset['HighQualFinSF'] > 1124) & (dataset['HighQualFinSF'] <= 1302), 'HighQualFinSF'] = 2\n",
    "    dataset.loc[(dataset['HighQualFinSF'] > 1302) & (dataset['HighQualFinSF'] <= 1458), 'HighQualFinSF'] = 3\n",
    "    dataset.loc[(dataset['HighQualFinSF'] > 1458) & (dataset['HighQualFinSF'] <= 1620), 'HighQualFinSF'] = 4\n",
    "    dataset.loc[(dataset['HighQualFinSF'] > 1620) & (dataset['HighQualFinSF'] <= 1776), 'HighQualFinSF'] = 5\n",
    "    dataset.loc[(dataset['HighQualFinSF'] > 1776) & (dataset['HighQualFinSF'] <= 2072), 'HighQualFinSF'] = 6\n",
    "    dataset.loc[ dataset['HighQualFinSF'] > 2072, 'HighQualFinSF'] = 7"
   ]
  },
  {
   "cell_type": "code",
   "execution_count": 108,
   "metadata": {
    "colab": {
     "autoexec": {
      "startup": false,
      "wait_interval": 0
     }
    },
    "colab_type": "code",
    "id": "cNW1nEpsZ0es"
   },
   "outputs": [],
   "source": [
    "#train_df[[\"LowQualFinSF\",\"SalePrice\"]].groupby([\"LowQualFinSF\"],as_index=False).mean().sort_values(by=\"SalePrice\",ascending=False)\n",
    "#train_df[[\"LowQualFinSF\",\"SalePrice\"]].groupby([\"LowQualFinSF\"],as_index=False).size()"
   ]
  },
  {
   "cell_type": "code",
   "execution_count": 109,
   "metadata": {
    "colab": {
     "autoexec": {
      "startup": false,
      "wait_interval": 0
     }
    },
    "colab_type": "code",
    "id": "PHadyGwaPbEt"
   },
   "outputs": [],
   "source": [
    "#train_df[[\"LowQualFinSF\",\"SalePrice\"]].groupby([\"LowQualFinSF\"],as_index=False).size()"
   ]
  },
  {
   "cell_type": "code",
   "execution_count": 110,
   "metadata": {
    "colab": {
     "autoexec": {
      "startup": false,
      "wait_interval": 0
     }
    },
    "colab_type": "code",
    "id": "YKV5WRGMPkpt"
   },
   "outputs": [],
   "source": [
    "for dataset in combine:    \n",
    "    dataset.loc[ dataset['LowQualFinSF'] <= 0, 'LowQualFinSF'] = 0\n",
    "    dataset.loc[ dataset['LowQualFinSF'] > 0, 'LowQualFinSF'] = 1"
   ]
  },
  {
   "cell_type": "code",
   "execution_count": 111,
   "metadata": {
    "colab": {
     "autoexec": {
      "startup": false,
      "wait_interval": 0
     }
    },
    "colab_type": "code",
    "id": "i9HR7UeMajTQ"
   },
   "outputs": [],
   "source": [
    "train_df = train_df.drop([\"HighQualFinSFBand\",\"1stFlrSF\",\"2ndFlrSF\",\"GrLivArea\"],axis=1)\n",
    "test_df=test_df.drop([\"1stFlrSF\",\"2ndFlrSF\",\"GrLivArea\"],axis=1)\n",
    "combine = [train_df,test_df]"
   ]
  },
  {
   "cell_type": "code",
   "execution_count": 112,
   "metadata": {
    "colab": {
     "autoexec": {
      "startup": false,
      "wait_interval": 0
     }
    },
    "colab_type": "code",
    "id": "PnS9p-WEShCJ"
   },
   "outputs": [],
   "source": [
    "for dataset in combine:\n",
    "    dataset[\"BsmtFullBath\"] = dataset[\"BsmtFullBath\"].fillna(0).astype(int)\n",
    "    dataset[\"BsmtHalfBath\"] = dataset[\"BsmtHalfBath\"].fillna(0).astype(int)\n",
    "    dataset[\"FullBath\"] = dataset[\"FullBath\"].fillna(0)\n",
    "    dataset[\"HalfBath\"] = dataset[\"HalfBath\"].fillna(0)"
   ]
  },
  {
   "cell_type": "code",
   "execution_count": 113,
   "metadata": {
    "colab": {
     "autoexec": {
      "startup": false,
      "wait_interval": 0
     }
    },
    "colab_type": "code",
    "id": "FEQOG5pDRnAw"
   },
   "outputs": [],
   "source": [
    "#BsmtFullBath\tBsmtHalfBath\tFullBath\tHalfBath\n",
    "#train_df[[\"HalfBath\",\"SalePrice\"]].groupby([\"HalfBath\"],as_index=False).size()"
   ]
  },
  {
   "cell_type": "code",
   "execution_count": 114,
   "metadata": {
    "colab": {
     "autoexec": {
      "startup": false,
      "wait_interval": 0
     }
    },
    "colab_type": "code",
    "id": "NAOuQpVQc6px"
   },
   "outputs": [],
   "source": [
    "#for dataset in combine:\n",
    "#    dataset[\"Bath\"] = dataset[\"FullBath\"]+dataset[\"HalfBath\"]+dataset[\"BsmtFullBath\"]+dataset[\"BsmtHalfBath\"]"
   ]
  },
  {
   "cell_type": "code",
   "execution_count": 115,
   "metadata": {
    "colab": {
     "autoexec": {
      "startup": false,
      "wait_interval": 0
     }
    },
    "colab_type": "code",
    "id": "dngzfP4SD4VJ"
   },
   "outputs": [],
   "source": [
    "#for dataset in combine:\n",
    "#    dataset[\"Bath\"] = dataset[\"Bath\"].fillna(0)\n",
    "#    dataset[\"Bath\"] = dataset[\"Bath\"].astype(int)"
   ]
  },
  {
   "cell_type": "code",
   "execution_count": 116,
   "metadata": {
    "colab": {
     "autoexec": {
      "startup": false,
      "wait_interval": 0
     }
    },
    "colab_type": "code",
    "id": "2kvvNd8ccvl4"
   },
   "outputs": [],
   "source": [
    "#train_df[[\"Bath\",\"SalePrice\"]].groupby([\"Bath\"],as_index=False).mean().sort_values(by=\"SalePrice\",ascending=False)\n",
    "#train_df[[\"Bath\",\"SalePrice\"]].groupby([\"Bath\"],as_index=False).size()"
   ]
  },
  {
   "cell_type": "code",
   "execution_count": 117,
   "metadata": {
    "colab": {
     "autoexec": {
      "startup": false,
      "wait_interval": 0
     }
    },
    "colab_type": "code",
    "id": "OCCIkbtCdHm5"
   },
   "outputs": [],
   "source": [
    "#train_df = train_df.drop([\"FullBath\",\"HalfBath\",\"BsmtFullBath\",\"BsmtHalfBath\"],axis=1)\n",
    "#test_df=test_df.drop([\"FullBath\",\"HalfBath\",\"BsmtFullBath\",\"BsmtHalfBath\"],axis=1)\n",
    "#combine = [train_df,test_df]"
   ]
  },
  {
   "cell_type": "code",
   "execution_count": 118,
   "metadata": {
    "colab": {
     "autoexec": {
      "startup": false,
      "wait_interval": 0
     }
    },
    "colab_type": "code",
    "id": "Ly9MwYd5m2jh"
   },
   "outputs": [],
   "source": [
    "#BedroomAbvGr KitchenAbvGr KitchenQual TotRmsAbvGrd\n",
    "#train_df[[\"KitchenQual\",\"SalePrice\"]].groupby([\"KitchenQual\"],as_index=False).mean().sort_values(by=\"SalePrice\",ascending=False)\n",
    "#train_df[[\"KitchenQual\",\"SalePrice\"]].groupby([\"KitchenQual\"],as_index=False).size()"
   ]
  },
  {
   "cell_type": "code",
   "execution_count": 119,
   "metadata": {
    "colab": {
     "autoexec": {
      "startup": false,
      "wait_interval": 0
     }
    },
    "colab_type": "code",
    "id": "v9RxHKnQrT_q"
   },
   "outputs": [],
   "source": [
    "for dataset in combine:\n",
    "    dataset[\"TotRmsAbvGrd\"] = dataset[\"TotRmsAbvGrd\"]-2"
   ]
  },
  {
   "cell_type": "code",
   "execution_count": 120,
   "metadata": {
    "colab": {
     "autoexec": {
      "startup": false,
      "wait_interval": 0
     }
    },
    "colab_type": "code",
    "id": "_WWJQGd-rhji"
   },
   "outputs": [],
   "source": [
    "train_df = train_df.drop([\"BedroomAbvGr\",\"KitchenAbvGr\"],axis=1)\n",
    "test_df=test_df.drop([\"BedroomAbvGr\",\"KitchenAbvGr\"],axis=1)\n",
    "combine = [train_df,test_df]"
   ]
  },
  {
   "cell_type": "code",
   "execution_count": 121,
   "metadata": {
    "colab": {
     "autoexec": {
      "startup": false,
      "wait_interval": 0
     }
    },
    "colab_type": "code",
    "id": "kr8PRVV5EFM7"
   },
   "outputs": [],
   "source": [
    "for dataset in combine:\n",
    "    dataset[\"KitchenQual\"] = dataset[\"KitchenQual\"].fillna(\"Fa\")"
   ]
  },
  {
   "cell_type": "code",
   "execution_count": 122,
   "metadata": {
    "colab": {
     "autoexec": {
      "startup": false,
      "wait_interval": 0
     }
    },
    "colab_type": "code",
    "id": "snGbmKibrpMF"
   },
   "outputs": [],
   "source": [
    "for dataset in combine:\n",
    "    dataset[\"KitchenQual\"] = dataset[\"KitchenQual\"].map({\"Fa\":0,\"TA\":1,\"Gd\":2,\"Ex\":3})"
   ]
  },
  {
   "cell_type": "code",
   "execution_count": 123,
   "metadata": {
    "colab": {
     "autoexec": {
      "startup": false,
      "wait_interval": 0
     }
    },
    "colab_type": "code",
    "id": "ONtMNThcs8fB"
   },
   "outputs": [],
   "source": [
    "#train_df[[\"Functional\",\"SalePrice\"]].groupby([\"Functional\"],as_index=False).mean().sort_values(by=\"SalePrice\",ascending=False)\n",
    "#train_df[[\"Functional\",\"SalePrice\"]].groupby([\"Functional\"],as_index=False).size()"
   ]
  },
  {
   "cell_type": "code",
   "execution_count": 124,
   "metadata": {
    "colab": {
     "autoexec": {
      "startup": false,
      "wait_interval": 0
     }
    },
    "colab_type": "code",
    "id": "gs3Oil0gEJyh"
   },
   "outputs": [],
   "source": [
    "for dataset in combine:\n",
    "    dataset[\"Functional\"] = dataset[\"Functional\"].fillna(\"Maj2\")"
   ]
  },
  {
   "cell_type": "code",
   "execution_count": 125,
   "metadata": {
    "colab": {
     "autoexec": {
      "startup": false,
      "wait_interval": 0
     }
    },
    "colab_type": "code",
    "id": "_LjgsaMXtEV7"
   },
   "outputs": [],
   "source": [
    "for dataset in combine:\n",
    "    dataset[\"Functional\"] = dataset[\"Functional\"].map({\"Maj2\":0,\"Sev\":1,\"Min2\":2,\"Min1\":3,\"Maj1\":4,\"Mod\":5,\"Typ\":6})"
   ]
  },
  {
   "cell_type": "code",
   "execution_count": 126,
   "metadata": {
    "colab": {
     "autoexec": {
      "startup": false,
      "wait_interval": 0
     }
    },
    "colab_type": "code",
    "id": "TTDrhFQxtZa0"
   },
   "outputs": [],
   "source": [
    "#train_df[[\"FireplaceQu\",\"SalePrice\"]].groupby([\"FireplaceQu\"],as_index=False).mean().sort_values(by=\"SalePrice\",ascending=False)\n",
    "#train_df[[\"FireplaceQu\",\"SalePrice\"]].groupby([\"FireplaceQu\"],as_index=False).size()"
   ]
  },
  {
   "cell_type": "code",
   "execution_count": 127,
   "metadata": {
    "colab": {
     "autoexec": {
      "startup": false,
      "wait_interval": 0
     }
    },
    "colab_type": "code",
    "id": "XqhdBYhdt5cH"
   },
   "outputs": [],
   "source": [
    "for dataset in combine:\n",
    "    dataset[\"FireplaceQu\"].fillna(\"NA\",inplace=True)"
   ]
  },
  {
   "cell_type": "code",
   "execution_count": 128,
   "metadata": {
    "colab": {
     "autoexec": {
      "startup": false,
      "wait_interval": 0
     }
    },
    "colab_type": "code",
    "id": "N50XcOLCuQ6i"
   },
   "outputs": [],
   "source": [
    "for dataset in combine:\n",
    "    dataset[\"FireplaceQu\"] = dataset[\"FireplaceQu\"].map({\"Po\":0,\"NA\":1,\"Fa\":2,\"TA\":3,\"Gd\":4,\"Ex\":5})"
   ]
  },
  {
   "cell_type": "code",
   "execution_count": 129,
   "metadata": {
    "colab": {
     "autoexec": {
      "startup": false,
      "wait_interval": 0
     }
    },
    "colab_type": "code",
    "id": "8rP0PX5V1Kxs"
   },
   "outputs": [],
   "source": [
    "#train_df.info()"
   ]
  },
  {
   "cell_type": "code",
   "execution_count": 130,
   "metadata": {
    "colab": {
     "autoexec": {
      "startup": false,
      "wait_interval": 0
     }
    },
    "colab_type": "code",
    "id": "qFg5v0Ye1Fvb"
   },
   "outputs": [],
   "source": [
    "#GarageType\tGarageYrBlt\tGarageFinish\tGarageCars\tGarageArea\tGarageQual\tGarageCond\n",
    "#train_df[[\"GarageQual\",\"SalePrice\"]].groupby([\"GarageQual\"],as_index=False).mean().sort_values(by=\"SalePrice\",ascending=False)\n",
    "#train_df[[\"GarageArea\",\"SalePrice\"]].groupby([\"GarageArea\"],as_index=False).size()"
   ]
  },
  {
   "cell_type": "code",
   "execution_count": 131,
   "metadata": {
    "colab": {
     "autoexec": {
      "startup": false,
      "wait_interval": 0
     }
    },
    "colab_type": "code",
    "id": "6U7p4msY1rwH"
   },
   "outputs": [],
   "source": [
    "for dataset in combine:\n",
    "  dataset['GarageType']=dataset['GarageType'].fillna(\"NA\")\n",
    "  dataset['GarageYrBlt']=dataset['GarageYrBlt'].fillna(2018)\n",
    "  dataset['GarageFinish']=dataset['GarageFinish'].fillna(\"NA\")\n",
    "  dataset['GarageQual']=dataset['GarageQual'].fillna(\"NA\")\n",
    "  dataset['GarageCond']=dataset['GarageCond'].fillna(\"NA\")\n",
    "  dataset['GarageArea']=dataset['GarageArea'].fillna(0).astype(int)\n",
    "  dataset['GarageCars']=dataset['GarageCars'].fillna(0).astype(int)"
   ]
  },
  {
   "cell_type": "code",
   "execution_count": 132,
   "metadata": {
    "colab": {
     "autoexec": {
      "startup": false,
      "wait_interval": 0
     }
    },
    "colab_type": "code",
    "id": "lJ3nKccjzEGB"
   },
   "outputs": [],
   "source": [
    "for dataset in combine:\n",
    "    dataset[\"GarageType\"] = dataset[\"GarageType\"].map({\"NA\":0,\"CarPort\":1,\"Detchd\":2,\"2Types\":3,\"Basment\":4,\"Attchd\":5,\"BuiltIn\":6})"
   ]
  },
  {
   "cell_type": "code",
   "execution_count": 133,
   "metadata": {
    "colab": {
     "autoexec": {
      "startup": false,
      "wait_interval": 0
     }
    },
    "colab_type": "code",
    "id": "TiECGSPR2O5c"
   },
   "outputs": [],
   "source": [
    "for dataset in combine:\n",
    "  dataset['GarageYrBlt']=(2018-dataset['GarageYrBlt']).astype(int)"
   ]
  },
  {
   "cell_type": "code",
   "execution_count": 134,
   "metadata": {
    "colab": {
     "autoexec": {
      "startup": false,
      "wait_interval": 0
     },
     "base_uri": "https://localhost:8080/",
     "height": 284
    },
    "colab_type": "code",
    "executionInfo": {
     "elapsed": 628,
     "status": "ok",
     "timestamp": 1532412871008,
     "user": {
      "displayName": "Yamato Lu",
      "photoUrl": "//lh3.googleusercontent.com/-C7dAorJ3yz8/AAAAAAAAAAI/AAAAAAAACkI/gj_5lhLTdCQ/s50-c-k-no/photo.jpg",
      "userId": "112499826195748670972"
     },
     "user_tz": -480
    },
    "id": "mtUrx3NzuW0G",
    "outputId": "9cfddd78-d936-43e2-f9f1-a644b55d3c93"
   },
   "outputs": [
    {
     "data": {
      "text/html": [
       "<div>\n",
       "<style scoped>\n",
       "    .dataframe tbody tr th:only-of-type {\n",
       "        vertical-align: middle;\n",
       "    }\n",
       "\n",
       "    .dataframe tbody tr th {\n",
       "        vertical-align: top;\n",
       "    }\n",
       "\n",
       "    .dataframe thead th {\n",
       "        text-align: right;\n",
       "    }\n",
       "</style>\n",
       "<table border=\"1\" class=\"dataframe\">\n",
       "  <thead>\n",
       "    <tr style=\"text-align: right;\">\n",
       "      <th></th>\n",
       "      <th>GarageYrBltBand</th>\n",
       "      <th>SalePrice</th>\n",
       "    </tr>\n",
       "  </thead>\n",
       "  <tbody>\n",
       "    <tr>\n",
       "      <th>0</th>\n",
       "      <td>(-0.001, 11.375]</td>\n",
       "      <td>199341.125683</td>\n",
       "    </tr>\n",
       "    <tr>\n",
       "      <th>1</th>\n",
       "      <td>(11.375, 15.0]</td>\n",
       "      <td>229316.493392</td>\n",
       "    </tr>\n",
       "    <tr>\n",
       "      <th>2</th>\n",
       "      <td>(15.0, 21.0]</td>\n",
       "      <td>210119.333333</td>\n",
       "    </tr>\n",
       "    <tr>\n",
       "      <th>3</th>\n",
       "      <td>(21.0, 33.5]</td>\n",
       "      <td>210418.461078</td>\n",
       "    </tr>\n",
       "    <tr>\n",
       "      <th>4</th>\n",
       "      <td>(33.5, 45.0]</td>\n",
       "      <td>160215.306011</td>\n",
       "    </tr>\n",
       "    <tr>\n",
       "      <th>5</th>\n",
       "      <td>(45.0, 56.0]</td>\n",
       "      <td>150282.050000</td>\n",
       "    </tr>\n",
       "    <tr>\n",
       "      <th>6</th>\n",
       "      <td>(56.0, 68.0]</td>\n",
       "      <td>142661.655738</td>\n",
       "    </tr>\n",
       "    <tr>\n",
       "      <th>7</th>\n",
       "      <td>(68.0, 118.0]</td>\n",
       "      <td>139266.103659</td>\n",
       "    </tr>\n",
       "  </tbody>\n",
       "</table>\n",
       "</div>"
      ],
      "text/plain": [
       "    GarageYrBltBand      SalePrice\n",
       "0  (-0.001, 11.375]  199341.125683\n",
       "1    (11.375, 15.0]  229316.493392\n",
       "2      (15.0, 21.0]  210119.333333\n",
       "3      (21.0, 33.5]  210418.461078\n",
       "4      (33.5, 45.0]  160215.306011\n",
       "5      (45.0, 56.0]  150282.050000\n",
       "6      (56.0, 68.0]  142661.655738\n",
       "7     (68.0, 118.0]  139266.103659"
      ]
     },
     "execution_count": 134,
     "metadata": {},
     "output_type": "execute_result"
    }
   ],
   "source": [
    "train_df[\"GarageYrBltBand\"]=pd.qcut(train_df[\"GarageYrBlt\"],8)\n",
    "train_df[[\"GarageYrBltBand\",\"SalePrice\"]].groupby([\"GarageYrBltBand\"],as_index=False).mean()"
   ]
  },
  {
   "cell_type": "code",
   "execution_count": 135,
   "metadata": {
    "colab": {
     "autoexec": {
      "startup": false,
      "wait_interval": 0
     }
    },
    "colab_type": "code",
    "id": "XeS9EzePwG74"
   },
   "outputs": [],
   "source": [
    "for dataset in combine:    \n",
    "    dataset.loc[ dataset['GarageYrBlt'] <= 11, 'GarageYrBlt'] = 0\n",
    "    dataset.loc[(dataset['GarageYrBlt'] > 11) & (dataset['GarageYrBlt'] <= 15), 'GarageYrBlt'] = 1\n",
    "    dataset.loc[(dataset['GarageYrBlt'] > 15) & (dataset['GarageYrBlt'] <= 21), 'GarageYrBlt'] = 2\n",
    "    dataset.loc[(dataset['GarageYrBlt'] > 21) & (dataset['GarageYrBlt'] <= 34), 'GarageYrBlt'] = 3\n",
    "    dataset.loc[(dataset['GarageYrBlt'] > 34) & (dataset['GarageYrBlt'] <= 45), 'GarageYrBlt'] = 4\n",
    "    dataset.loc[(dataset['GarageYrBlt'] > 45) & (dataset['GarageYrBlt'] <= 56), 'GarageYrBlt'] = 5\n",
    "    dataset.loc[(dataset['GarageYrBlt'] > 56) & (dataset['GarageYrBlt'] <= 68), 'GarageYrBlt'] = 6\n",
    "    dataset.loc[ dataset['GarageYrBlt'] > 68, 'GarageYrBlt'] = 7"
   ]
  },
  {
   "cell_type": "code",
   "execution_count": 136,
   "metadata": {
    "colab": {
     "autoexec": {
      "startup": false,
      "wait_interval": 0
     }
    },
    "colab_type": "code",
    "id": "m38TEc3EyQGk"
   },
   "outputs": [],
   "source": [
    "for dataset in combine:\n",
    "    dataset[\"GarageFinish\"] = dataset[\"GarageFinish\"].map({\"NA\":0,\"Unf\":1,\"RFn\":2,\"Fin\":3})"
   ]
  },
  {
   "cell_type": "code",
   "execution_count": 137,
   "metadata": {
    "colab": {
     "autoexec": {
      "startup": false,
      "wait_interval": 0
     },
     "base_uri": "https://localhost:8080/",
     "height": 284
    },
    "colab_type": "code",
    "executionInfo": {
     "elapsed": 715,
     "status": "ok",
     "timestamp": 1532412873903,
     "user": {
      "displayName": "Yamato Lu",
      "photoUrl": "//lh3.googleusercontent.com/-C7dAorJ3yz8/AAAAAAAAAAI/AAAAAAAACkI/gj_5lhLTdCQ/s50-c-k-no/photo.jpg",
      "userId": "112499826195748670972"
     },
     "user_tz": -480
    },
    "id": "GjAkRDZ4zmg8",
    "outputId": "50e5c6bc-1668-40e4-c46d-5f79c3cc06ca"
   },
   "outputs": [
    {
     "data": {
      "text/html": [
       "<div>\n",
       "<style scoped>\n",
       "    .dataframe tbody tr th:only-of-type {\n",
       "        vertical-align: middle;\n",
       "    }\n",
       "\n",
       "    .dataframe tbody tr th {\n",
       "        vertical-align: top;\n",
       "    }\n",
       "\n",
       "    .dataframe thead th {\n",
       "        text-align: right;\n",
       "    }\n",
       "</style>\n",
       "<table border=\"1\" class=\"dataframe\">\n",
       "  <thead>\n",
       "    <tr style=\"text-align: right;\">\n",
       "      <th></th>\n",
       "      <th>GarageAreaBand</th>\n",
       "      <th>SalePrice</th>\n",
       "    </tr>\n",
       "  </thead>\n",
       "  <tbody>\n",
       "    <tr>\n",
       "      <th>0</th>\n",
       "      <td>(-0.001, 256.0]</td>\n",
       "      <td>118475.222826</td>\n",
       "    </tr>\n",
       "    <tr>\n",
       "      <th>1</th>\n",
       "      <td>(256.0, 334.5]</td>\n",
       "      <td>126820.027624</td>\n",
       "    </tr>\n",
       "    <tr>\n",
       "      <th>2</th>\n",
       "      <td>(334.5, 430.0]</td>\n",
       "      <td>153429.551351</td>\n",
       "    </tr>\n",
       "    <tr>\n",
       "      <th>3</th>\n",
       "      <td>(430.0, 480.0]</td>\n",
       "      <td>171801.527094</td>\n",
       "    </tr>\n",
       "    <tr>\n",
       "      <th>4</th>\n",
       "      <td>(480.0, 528.0]</td>\n",
       "      <td>179095.693989</td>\n",
       "    </tr>\n",
       "    <tr>\n",
       "      <th>5</th>\n",
       "      <td>(528.0, 576.0]</td>\n",
       "      <td>189526.616279</td>\n",
       "    </tr>\n",
       "    <tr>\n",
       "      <th>6</th>\n",
       "      <td>(576.0, 702.0]</td>\n",
       "      <td>219599.141176</td>\n",
       "    </tr>\n",
       "    <tr>\n",
       "      <th>7</th>\n",
       "      <td>(702.0, 1418.0]</td>\n",
       "      <td>293549.225275</td>\n",
       "    </tr>\n",
       "  </tbody>\n",
       "</table>\n",
       "</div>"
      ],
      "text/plain": [
       "    GarageAreaBand      SalePrice\n",
       "0  (-0.001, 256.0]  118475.222826\n",
       "1   (256.0, 334.5]  126820.027624\n",
       "2   (334.5, 430.0]  153429.551351\n",
       "3   (430.0, 480.0]  171801.527094\n",
       "4   (480.0, 528.0]  179095.693989\n",
       "5   (528.0, 576.0]  189526.616279\n",
       "6   (576.0, 702.0]  219599.141176\n",
       "7  (702.0, 1418.0]  293549.225275"
      ]
     },
     "execution_count": 137,
     "metadata": {},
     "output_type": "execute_result"
    }
   ],
   "source": [
    "train_df[\"GarageAreaBand\"]=pd.qcut(train_df[\"GarageArea\"],8)\n",
    "train_df[[\"GarageAreaBand\",\"SalePrice\"]].groupby([\"GarageAreaBand\"],as_index=False).mean()"
   ]
  },
  {
   "cell_type": "code",
   "execution_count": 138,
   "metadata": {
    "colab": {
     "autoexec": {
      "startup": false,
      "wait_interval": 0
     }
    },
    "colab_type": "code",
    "id": "siEVEu2Lzvfm"
   },
   "outputs": [],
   "source": [
    "for dataset in combine:    \n",
    "    dataset.loc[ dataset['GarageArea'] <= 256, 'GarageArea'] = 0\n",
    "    dataset.loc[(dataset['GarageArea'] > 256) & (dataset['GarageArea'] <= 335), 'GarageArea'] = 1\n",
    "    dataset.loc[(dataset['GarageArea'] > 335) & (dataset['GarageArea'] <= 430), 'GarageArea'] = 2\n",
    "    dataset.loc[(dataset['GarageArea'] > 430) & (dataset['GarageArea'] <= 480), 'GarageArea'] = 3\n",
    "    dataset.loc[(dataset['GarageArea'] > 480) & (dataset['GarageArea'] <= 528), 'GarageArea'] = 4\n",
    "    dataset.loc[(dataset['GarageArea'] > 528) & (dataset['GarageArea'] <= 576), 'GarageArea'] = 5\n",
    "    dataset.loc[(dataset['GarageArea'] > 576) & (dataset['GarageArea'] <= 702), 'GarageArea'] = 6\n",
    "    dataset.loc[ dataset['GarageArea'] > 702, 'GarageArea'] = 7"
   ]
  },
  {
   "cell_type": "code",
   "execution_count": 139,
   "metadata": {
    "colab": {
     "autoexec": {
      "startup": false,
      "wait_interval": 0
     }
    },
    "colab_type": "code",
    "id": "Sz3MFbQX1exs"
   },
   "outputs": [],
   "source": [
    "for dataset in combine:\n",
    "    dataset[\"GarageQual\"] = dataset[\"GarageQual\"].map({\"Po\":0,\"NA\":1,\"Fa\":2,\"TA\":3,\"Gd\":4,\"Ex\":5})"
   ]
  },
  {
   "cell_type": "code",
   "execution_count": 140,
   "metadata": {
    "colab": {
     "autoexec": {
      "startup": false,
      "wait_interval": 0
     }
    },
    "colab_type": "code",
    "id": "stZym_Gp2Mkg"
   },
   "outputs": [],
   "source": [
    "for dataset in combine:\n",
    "    dataset[\"GarageCond\"] = dataset[\"GarageCond\"].map({\"NA\":0,\"Po\":1,\"Fa\":2,\"Ex\":3,\"Gd\":4,\"TA\":5})"
   ]
  },
  {
   "cell_type": "code",
   "execution_count": 141,
   "metadata": {
    "colab": {
     "autoexec": {
      "startup": false,
      "wait_interval": 0
     }
    },
    "colab_type": "code",
    "id": "-1zxfh7KwhsU"
   },
   "outputs": [],
   "source": [
    "train_df = train_df.drop([\"GarageYrBltBand\",\"GarageAreaBand\"],axis=1)\n",
    "combine = [train_df,test_df]"
   ]
  },
  {
   "cell_type": "code",
   "execution_count": 142,
   "metadata": {
    "colab": {
     "autoexec": {
      "startup": false,
      "wait_interval": 0
     }
    },
    "colab_type": "code",
    "id": "UrscQmbh-tx-"
   },
   "outputs": [],
   "source": [
    "#GarageType\tGarageYrBlt\tGarageFinish\tGarageCars\tGarageArea\tGarageQual\tGarageCond\n",
    "#for dataset in combine:\n",
    "#    dataset[\"Garage\"] = dataset[\"GarageType\"]+dataset[\"GarageYrBlt\"]+dataset[\"GarageFinish\"]+dataset[\"GarageCars\"]+dataset[\"GarageArea\"]+dataset[\"GarageQual\"]+dataset[\"GarageCond\"]"
   ]
  },
  {
   "cell_type": "code",
   "execution_count": 143,
   "metadata": {
    "colab": {
     "autoexec": {
      "startup": false,
      "wait_interval": 0
     }
    },
    "colab_type": "code",
    "id": "-rIaVAV1_Tiw"
   },
   "outputs": [],
   "source": [
    "#train_df[\"GarageBand\"]=pd.qcut(train_df[\"Garage\"],8)\n",
    "#train_df[[\"GarageBand\",\"SalePrice\"]].groupby([\"GarageBand\"],as_index=False).mean()"
   ]
  },
  {
   "cell_type": "code",
   "execution_count": 144,
   "metadata": {
    "colab": {
     "autoexec": {
      "startup": false,
      "wait_interval": 0
     }
    },
    "colab_type": "code",
    "id": "lSzXVbXX_iRR"
   },
   "outputs": [],
   "source": [
    "#for dataset in combine:    \n",
    "#    dataset.loc[ dataset['Garage'] <= 18, 'Garage'] = 0\n",
    "#    dataset.loc[(dataset['Garage'] > 18) & (dataset['Garage'] <= 21), 'Garage'] = 1\n",
    "#    dataset.loc[(dataset['Garage'] > 21) & (dataset['Garage'] <= 22), 'Garage'] = 2\n",
    "#    dataset.loc[(dataset['Garage'] > 22) & (dataset['Garage'] <= 23), 'Garage'] = 3\n",
    "#    dataset.loc[(dataset['Garage'] > 23) & (dataset['Garage'] <= 24), 'Garage'] = 4\n",
    "#    dataset.loc[(dataset['Garage'] > 24) & (dataset['Garage'] <= 25), 'Garage'] = 5\n",
    "#    dataset.loc[(dataset['Garage'] > 25) & (dataset['Garage'] <= 27), 'Garage'] = 6\n",
    "#    dataset.loc[ dataset['Garage'] > 27, 'Garage'] = 7"
   ]
  },
  {
   "cell_type": "code",
   "execution_count": 145,
   "metadata": {
    "colab": {
     "autoexec": {
      "startup": false,
      "wait_interval": 0
     }
    },
    "colab_type": "code",
    "id": "4w2zgqdCF-4M"
   },
   "outputs": [],
   "source": [
    "#for dataset in combine:\n",
    "#    dataset[\"Garage\"] = dataset[\"Garage\"].astype(int)"
   ]
  },
  {
   "cell_type": "code",
   "execution_count": 146,
   "metadata": {
    "colab": {
     "autoexec": {
      "startup": false,
      "wait_interval": 0
     }
    },
    "colab_type": "code",
    "id": "2lH6BB3a_6gd"
   },
   "outputs": [],
   "source": [
    "#train_df = train_df.drop([\"GarageType\",\"GarageYrBlt\",\"GarageFinish\",\"GarageCars\",\"GarageArea\",\"GarageQual\",\"GarageCond\",\"GarageBand\"],axis=1)\n",
    "#test_df=test_df.drop([\"GarageType\",\"GarageYrBlt\",\"GarageFinish\",\"GarageCars\",\"GarageArea\",\"GarageQual\",\"GarageCond\"],axis=1)\n",
    "#combine = [train_df,test_df]"
   ]
  },
  {
   "cell_type": "code",
   "execution_count": 147,
   "metadata": {
    "colab": {
     "autoexec": {
      "startup": false,
      "wait_interval": 0
     }
    },
    "colab_type": "code",
    "id": "93lQOwJpFL8s"
   },
   "outputs": [],
   "source": [
    "#train_df[[\"PavedDrive\",\"SalePrice\"]].groupby([\"PavedDrive\"],as_index=False).mean().sort_values(by=\"SalePrice\",ascending=False)\n",
    "#train_df[[\"PavedDrive\",\"SalePrice\"]].groupby([\"PavedDrive\"],as_index=False).size()"
   ]
  },
  {
   "cell_type": "code",
   "execution_count": 148,
   "metadata": {
    "colab": {
     "autoexec": {
      "startup": false,
      "wait_interval": 0
     }
    },
    "colab_type": "code",
    "id": "g5y_r5SwFYSA"
   },
   "outputs": [],
   "source": [
    "for dataset in combine:\n",
    "    dataset[\"PavedDrive\"] = dataset[\"PavedDrive\"].map({\"N\":0,\"P\":1,\"Y\":2})"
   ]
  },
  {
   "cell_type": "code",
   "execution_count": 149,
   "metadata": {
    "colab": {
     "autoexec": {
      "startup": false,
      "wait_interval": 0
     }
    },
    "colab_type": "code",
    "id": "PuINV-BSFu8r"
   },
   "outputs": [],
   "source": [
    "#train_df[[\"WoodDeckSF\",\"SalePrice\"]].groupby([\"WoodDeckSF\"],as_index=False).mean().sort_values(by=\"SalePrice\",ascending=False)\n",
    "#train_df[[\"WoodDeckSF\",\"SalePrice\"]].groupby([\"WoodDeckSF\"],as_index=False).size()"
   ]
  },
  {
   "cell_type": "code",
   "execution_count": 150,
   "metadata": {
    "colab": {
     "autoexec": {
      "startup": false,
      "wait_interval": 0
     }
    },
    "colab_type": "code",
    "id": "1eyVyrxJGQk-"
   },
   "outputs": [],
   "source": [
    "for dataset in combine:    \n",
    "    dataset.loc[ dataset['WoodDeckSF'] <= 0, 'WoodDeckSF'] = 0\n",
    "    dataset.loc[ dataset['WoodDeckSF'] > 0, 'WoodDeckSF'] = 1"
   ]
  },
  {
   "cell_type": "code",
   "execution_count": 151,
   "metadata": {
    "colab": {
     "autoexec": {
      "startup": false,
      "wait_interval": 0
     }
    },
    "colab_type": "code",
    "id": "lt8xS8r5ITWH"
   },
   "outputs": [],
   "source": [
    "#train_df[[\"OpenPorchSF\",\"SalePrice\"]].groupby([\"OpenPorchSF\"],as_index=False).mean().sort_values(by=\"SalePrice\",ascending=False)\n",
    "#train_df[[\"OpenPorchSF\",\"SalePrice\"]].groupby([\"OpenPorchSF\"],as_index=False).size()"
   ]
  },
  {
   "cell_type": "code",
   "execution_count": 152,
   "metadata": {
    "colab": {
     "autoexec": {
      "startup": false,
      "wait_interval": 0
     }
    },
    "colab_type": "code",
    "id": "9rU4tPx2H_z5"
   },
   "outputs": [],
   "source": [
    "for dataset in combine:    \n",
    "    dataset.loc[ dataset['OpenPorchSF'] <= 0, 'OpenPorchSF'] = 0\n",
    "    dataset.loc[ dataset['OpenPorchSF'] > 0, 'OpenPorchSF'] = 1"
   ]
  },
  {
   "cell_type": "code",
   "execution_count": 153,
   "metadata": {
    "colab": {
     "autoexec": {
      "startup": false,
      "wait_interval": 0
     }
    },
    "colab_type": "code",
    "id": "8n9o8RgjI19x"
   },
   "outputs": [],
   "source": [
    "#EnclosedPorch 3SsnPorch ScreenPorch\n",
    "#train_df[[\"EnclosedPorch\",\"SalePrice\"]].groupby([\"EnclosedPorch\"],as_index=False).mean().sort_values(by=\"SalePrice\",ascending=False)\n",
    "#train_df[[\"ScreenPorch\",\"SalePrice\"]].groupby([\"ScreenPorch\"],as_index=False).size()"
   ]
  },
  {
   "cell_type": "code",
   "execution_count": 154,
   "metadata": {
    "colab": {
     "autoexec": {
      "startup": false,
      "wait_interval": 0
     }
    },
    "colab_type": "code",
    "id": "H6KqmgepJq4P"
   },
   "outputs": [],
   "source": [
    "for dataset in combine:    \n",
    "    dataset.loc[ dataset['EnclosedPorch'] <= 0, 'EnclosedPorch'] = 0\n",
    "    dataset.loc[ dataset['EnclosedPorch'] > 0, 'EnclosedPorch'] = 1"
   ]
  },
  {
   "cell_type": "code",
   "execution_count": 155,
   "metadata": {
    "colab": {
     "autoexec": {
      "startup": false,
      "wait_interval": 0
     }
    },
    "colab_type": "code",
    "id": "kZz_12YJJxPt"
   },
   "outputs": [],
   "source": [
    "for dataset in combine:    \n",
    "    dataset.loc[ dataset['3SsnPorch'] <= 0, '3SsnPorch'] = 0\n",
    "    dataset.loc[ dataset['3SsnPorch'] > 0, '3SsnPorch'] = 1"
   ]
  },
  {
   "cell_type": "code",
   "execution_count": 156,
   "metadata": {
    "colab": {
     "autoexec": {
      "startup": false,
      "wait_interval": 0
     }
    },
    "colab_type": "code",
    "id": "e4n3Lm5PJycf"
   },
   "outputs": [],
   "source": [
    "for dataset in combine:    \n",
    "    dataset.loc[ dataset['ScreenPorch'] <= 0, 'ScreenPorch'] = 0\n",
    "    dataset.loc[ dataset['ScreenPorch'] > 0, 'ScreenPorch'] = 1"
   ]
  },
  {
   "cell_type": "code",
   "execution_count": 157,
   "metadata": {
    "colab": {
     "autoexec": {
      "startup": false,
      "wait_interval": 0
     }
    },
    "colab_type": "code",
    "id": "EI3_s67TKUDp"
   },
   "outputs": [],
   "source": [
    "#train_df[[\"PoolArea\",\"SalePrice\"]].groupby([\"PoolArea\"],as_index=False).mean().sort_values(by=\"SalePrice\",ascending=False)\n",
    "#train_df[[\"PoolArea\",\"SalePrice\"]].groupby([\"PoolArea\"],as_index=False).size()"
   ]
  },
  {
   "cell_type": "code",
   "execution_count": 158,
   "metadata": {
    "colab": {
     "autoexec": {
      "startup": false,
      "wait_interval": 0
     }
    },
    "colab_type": "code",
    "id": "pI-1UK0YMCjH"
   },
   "outputs": [],
   "source": [
    "for dataset in combine:    \n",
    "    dataset.loc[ dataset['PoolArea'] <= 0, 'PoolArea'] = 0\n",
    "    dataset.loc[ dataset['PoolArea'] > 0, 'PoolArea'] = 1"
   ]
  },
  {
   "cell_type": "code",
   "execution_count": 159,
   "metadata": {
    "colab": {
     "autoexec": {
      "startup": false,
      "wait_interval": 0
     }
    },
    "colab_type": "code",
    "id": "Ki6nYemKMXVy"
   },
   "outputs": [],
   "source": [
    "train_df = train_df.drop([\"PoolQC\"],axis=1)\n",
    "test_df=test_df.drop([\"PoolQC\"],axis=1)\n",
    "combine = [train_df,test_df]"
   ]
  },
  {
   "cell_type": "code",
   "execution_count": 160,
   "metadata": {
    "colab": {
     "autoexec": {
      "startup": false,
      "wait_interval": 0
     }
    },
    "colab_type": "code",
    "id": "sonHVu1fM4Pn"
   },
   "outputs": [],
   "source": [
    "#train_df[[\"Fence\",\"SalePrice\"]].groupby([\"Fence\"],as_index=False).mean().sort_values(by=\"SalePrice\",ascending=False)\n",
    "#train_df[[\"Fence\",\"SalePrice\"]].groupby([\"Fence\"],as_index=False).size()"
   ]
  },
  {
   "cell_type": "code",
   "execution_count": 161,
   "metadata": {
    "colab": {
     "autoexec": {
      "startup": false,
      "wait_interval": 0
     }
    },
    "colab_type": "code",
    "id": "PlUT66PcM-1n"
   },
   "outputs": [],
   "source": [
    "train_df = train_df.drop([\"Fence\"],axis=1)\n",
    "test_df=test_df.drop([\"Fence\"],axis=1)\n",
    "combine = [train_df,test_df]"
   ]
  },
  {
   "cell_type": "code",
   "execution_count": 162,
   "metadata": {
    "colab": {
     "autoexec": {
      "startup": false,
      "wait_interval": 0
     }
    },
    "colab_type": "code",
    "id": "7s9eBKfyNZaI"
   },
   "outputs": [],
   "source": [
    "#train_df[[\"MiscVal\",\"SalePrice\"]].groupby([\"MiscVal\"],as_index=False).mean().sort_values(by=\"SalePrice\",ascending=False)\n",
    "#train_df[[\"MiscVal\",\"SalePrice\"]].groupby([\"MiscVal\"],as_index=False).size()"
   ]
  },
  {
   "cell_type": "code",
   "execution_count": 163,
   "metadata": {
    "colab": {
     "autoexec": {
      "startup": false,
      "wait_interval": 0
     }
    },
    "colab_type": "code",
    "id": "ZG7KM4BoRUi5"
   },
   "outputs": [],
   "source": [
    "train_df = train_df.drop([\"MiscFeature\"],axis=1)\n",
    "test_df=test_df.drop([\"MiscFeature\"],axis=1)\n",
    "combine = [train_df,test_df]"
   ]
  },
  {
   "cell_type": "code",
   "execution_count": 164,
   "metadata": {
    "colab": {
     "autoexec": {
      "startup": false,
      "wait_interval": 0
     }
    },
    "colab_type": "code",
    "id": "yNEyDeYGNfF3"
   },
   "outputs": [],
   "source": [
    "train_df = train_df.drop([\"MiscVal\"],axis=1)\n",
    "test_df=test_df.drop([\"MiscVal\"],axis=1)\n",
    "combine = [train_df,test_df]"
   ]
  },
  {
   "cell_type": "code",
   "execution_count": 165,
   "metadata": {
    "colab": {
     "autoexec": {
      "startup": false,
      "wait_interval": 0
     }
    },
    "colab_type": "code",
    "id": "XF8oI7YLQlxf"
   },
   "outputs": [],
   "source": [
    "#train_df[[\"MoSold\",\"SalePrice\"]].groupby([\"MoSold\"],as_index=False).mean().sort_values(by=\"SalePrice\",ascending=False)\n",
    "#train_df[[\"MoSold\",\"SalePrice\"]].groupby([\"MoSold\"],as_index=False).size()"
   ]
  },
  {
   "cell_type": "code",
   "execution_count": 166,
   "metadata": {
    "colab": {
     "autoexec": {
      "startup": false,
      "wait_interval": 0
     }
    },
    "colab_type": "code",
    "id": "GxlQUx_4Q15w"
   },
   "outputs": [],
   "source": [
    "for dataset in combine:\n",
    "    dataset[\"MoSold\"] = dataset[\"MoSold\"]-1"
   ]
  },
  {
   "cell_type": "code",
   "execution_count": 167,
   "metadata": {
    "colab": {
     "autoexec": {
      "startup": false,
      "wait_interval": 0
     }
    },
    "colab_type": "code",
    "id": "QXYiLwPlQttD"
   },
   "outputs": [],
   "source": [
    "#train_df[[\"YrSold\",\"SalePrice\"]].groupby([\"YrSold\"],as_index=False).mean().sort_values(by=\"SalePrice\",ascending=False)\n",
    "#train_df[[\"YrSold\",\"SalePrice\"]].groupby([\"YrSold\"],as_index=False).size()"
   ]
  },
  {
   "cell_type": "code",
   "execution_count": 168,
   "metadata": {
    "colab": {
     "autoexec": {
      "startup": false,
      "wait_interval": 0
     }
    },
    "colab_type": "code",
    "id": "nl_8IQ_qRD4L"
   },
   "outputs": [],
   "source": [
    "for dataset in combine:\n",
    "    dataset[\"YrSold\"] = dataset[\"YrSold\"]-2006"
   ]
  },
  {
   "cell_type": "code",
   "execution_count": 169,
   "metadata": {
    "colab": {
     "autoexec": {
      "startup": false,
      "wait_interval": 0
     }
    },
    "colab_type": "code",
    "id": "r9hhM8xHRbKH"
   },
   "outputs": [],
   "source": [
    "#train_df[[\"SaleType\",\"SalePrice\"]].groupby([\"SaleType\"],as_index=False).mean().sort_values(by=\"SalePrice\",ascending=False)\n",
    "#train_df[[\"SaleType\",\"SalePrice\"]].groupby([\"SaleType\"],as_index=False).size()"
   ]
  },
  {
   "cell_type": "code",
   "execution_count": 170,
   "metadata": {
    "colab": {
     "autoexec": {
      "startup": false,
      "wait_interval": 0
     }
    },
    "colab_type": "code",
    "id": "flZo5-2ZEn1c"
   },
   "outputs": [],
   "source": [
    "for dataset in combine:\n",
    "    dataset[\"SaleType\"] = dataset[\"SaleType\"].fillna(\"Oth\")"
   ]
  },
  {
   "cell_type": "code",
   "execution_count": 171,
   "metadata": {
    "colab": {
     "autoexec": {
      "startup": false,
      "wait_interval": 0
     }
    },
    "colab_type": "code",
    "id": "wulw38uLRlKe"
   },
   "outputs": [],
   "source": [
    "for dataset in combine:\n",
    "    dataset[\"SaleType\"] = dataset[\"SaleType\"].map({\"Oth\":0,\"ConLD\":1,\"ConLw\":2,\"COD\":3,\"WD\":4,\"ConLI\":5,\"CWD\":6,\"Con\":7,\"New\":8})"
   ]
  },
  {
   "cell_type": "code",
   "execution_count": 172,
   "metadata": {
    "colab": {
     "autoexec": {
      "startup": false,
      "wait_interval": 0
     }
    },
    "colab_type": "code",
    "id": "Wig8zBjSR05X"
   },
   "outputs": [],
   "source": [
    "#train_df[[\"SaleCondition\",\"SalePrice\"]].groupby([\"SaleCondition\"],as_index=False).mean().sort_values(by=\"SalePrice\",ascending=False)\n",
    "#train_df[[\"SaleCondition\",\"SalePrice\"]].groupby([\"SaleCondition\"],as_index=False).size()"
   ]
  },
  {
   "cell_type": "code",
   "execution_count": 173,
   "metadata": {
    "colab": {
     "autoexec": {
      "startup": false,
      "wait_interval": 0
     }
    },
    "colab_type": "code",
    "id": "7B3rvaMHR9HJ"
   },
   "outputs": [],
   "source": [
    "for dataset in combine:\n",
    "    dataset[\"SaleCondition\"] = dataset[\"SaleCondition\"].map({\"AdjLand\":0,\"Abnorml\":1,\"Family\":2,\"Alloca\":3,\"Normal\":4,\"Partial\":5})"
   ]
  },
  {
   "cell_type": "code",
   "execution_count": 174,
   "metadata": {
    "colab": {
     "autoexec": {
      "startup": false,
      "wait_interval": 0
     }
    },
    "colab_type": "code",
    "id": "h7ZTfEE62nqT"
   },
   "outputs": [],
   "source": [
    "train_df = train_df.drop([\"Id\"],axis=1)\n",
    "combine = [train_df,test_df]"
   ]
  },
  {
   "cell_type": "code",
   "execution_count": 175,
   "metadata": {
    "colab": {
     "autoexec": {
      "startup": false,
      "wait_interval": 0
     },
     "base_uri": "https://localhost:8080/",
     "height": 1260
    },
    "colab_type": "code",
    "executionInfo": {
     "elapsed": 664,
     "status": "ok",
     "timestamp": 1532412908849,
     "user": {
      "displayName": "Yamato Lu",
      "photoUrl": "//lh3.googleusercontent.com/-C7dAorJ3yz8/AAAAAAAAAAI/AAAAAAAACkI/gj_5lhLTdCQ/s50-c-k-no/photo.jpg",
      "userId": "112499826195748670972"
     },
     "user_tz": -480
    },
    "id": "hcoMcg3pJSwe",
    "outputId": "88034b43-ef6e-4534-cb95-8590da6a8e9a"
   },
   "outputs": [
    {
     "name": "stdout",
     "output_type": "stream",
     "text": [
      "<class 'pandas.core.frame.DataFrame'>\n",
      "RangeIndex: 1460 entries, 0 to 1459\n",
      "Data columns (total 69 columns):\n",
      "MSSubClass       1460 non-null int64\n",
      "MSZoning         1460 non-null int64\n",
      "LotFrontage      1460 non-null int32\n",
      "LotArea          1460 non-null int64\n",
      "Street           1460 non-null int64\n",
      "Alley            1460 non-null int64\n",
      "LotShape         1460 non-null int64\n",
      "LandContour      1460 non-null int64\n",
      "Utilities        1460 non-null int64\n",
      "LotConfig        1460 non-null int64\n",
      "LandSlope        1460 non-null int64\n",
      "Neighborhood     1460 non-null int64\n",
      "Condition1       1460 non-null int64\n",
      "Condition2       1460 non-null int64\n",
      "BldgType         1460 non-null int64\n",
      "HouseStyle       1460 non-null int64\n",
      "OverallQual      1460 non-null int64\n",
      "OverallCond      1460 non-null int64\n",
      "RoofStyle        1460 non-null int64\n",
      "RoofMatl         1460 non-null int64\n",
      "Exterior1st      1460 non-null int64\n",
      "Exterior2nd      1460 non-null int64\n",
      "MasVnrType       1460 non-null int64\n",
      "MasVnrArea       1460 non-null int32\n",
      "ExterQual        1460 non-null int64\n",
      "ExterCond        1460 non-null int64\n",
      "Foundation       1460 non-null int64\n",
      "BsmtQual         1460 non-null int64\n",
      "BsmtCond         1460 non-null int32\n",
      "BsmtExposure     1460 non-null int64\n",
      "BsmtFinType1     1460 non-null int64\n",
      "BsmtFinType2     1460 non-null int64\n",
      "TotalBsmtSF      1460 non-null int32\n",
      "Heating          1460 non-null int64\n",
      "HeatingQC        1460 non-null int64\n",
      "CentralAir       1460 non-null int64\n",
      "Electrical       1460 non-null int64\n",
      "LowQualFinSF     1460 non-null int64\n",
      "BsmtFullBath     1460 non-null int32\n",
      "BsmtHalfBath     1460 non-null int32\n",
      "FullBath         1460 non-null int64\n",
      "HalfBath         1460 non-null int64\n",
      "KitchenQual      1460 non-null int64\n",
      "TotRmsAbvGrd     1460 non-null int64\n",
      "Functional       1460 non-null int64\n",
      "Fireplaces       1460 non-null int64\n",
      "FireplaceQu      1460 non-null int64\n",
      "GarageType       1460 non-null int64\n",
      "GarageYrBlt      1460 non-null int32\n",
      "GarageFinish     1460 non-null int64\n",
      "GarageCars       1460 non-null int32\n",
      "GarageArea       1460 non-null int32\n",
      "GarageQual       1460 non-null int64\n",
      "GarageCond       1460 non-null int64\n",
      "PavedDrive       1460 non-null int64\n",
      "WoodDeckSF       1460 non-null int64\n",
      "OpenPorchSF      1460 non-null int64\n",
      "EnclosedPorch    1460 non-null int64\n",
      "3SsnPorch        1460 non-null int64\n",
      "ScreenPorch      1460 non-null int64\n",
      "PoolArea         1460 non-null int64\n",
      "MoSold           1460 non-null int64\n",
      "YrSold           1460 non-null int64\n",
      "SaleType         1460 non-null int64\n",
      "SaleCondition    1460 non-null int64\n",
      "SalePrice        1460 non-null int64\n",
      "HouseAge         1460 non-null int64\n",
      "RemodAge         1460 non-null int64\n",
      "HighQualFinSF    1460 non-null int64\n",
      "dtypes: int32(9), int64(60)\n",
      "memory usage: 735.8 KB\n"
     ]
    }
   ],
   "source": [
    "train_df.info()"
   ]
  },
  {
   "cell_type": "code",
   "execution_count": 176,
   "metadata": {
    "colab": {
     "autoexec": {
      "startup": false,
      "wait_interval": 0
     }
    },
    "colab_type": "code",
    "id": "BfiE36B94dvy"
   },
   "outputs": [],
   "source": [
    "#colormap = plt.cm.RdBu\n",
    "#plt.figure(figsize=(50,50))\n",
    "#sns.heatmap(train_df.astype(float).corr(),linewidths=0.1,vmax=1.0, \n",
    "            #square=True, cmap=colormap, linecolor='white', annot=True)"
   ]
  },
  {
   "cell_type": "code",
   "execution_count": 177,
   "metadata": {
    "colab": {
     "autoexec": {
      "startup": false,
      "wait_interval": 0
     }
    },
    "colab_type": "code",
    "id": "tqbg0tcM5V0Z"
   },
   "outputs": [],
   "source": [
    "X_train = train_df.drop(\"SalePrice\",axis=1)\n",
    "Y_train = train_df[\"SalePrice\"]\n",
    "X_test = test_df.drop(\"Id\",axis=1).copy()"
   ]
  },
  {
   "cell_type": "code",
   "execution_count": 178,
   "metadata": {
    "colab": {
     "autoexec": {
      "startup": false,
      "wait_interval": 0
     },
     "base_uri": "https://localhost:8080/",
     "height": 34
    },
    "colab_type": "code",
    "executionInfo": {
     "elapsed": 2071,
     "status": "ok",
     "timestamp": 1532412912998,
     "user": {
      "displayName": "Yamato Lu",
      "photoUrl": "//lh3.googleusercontent.com/-C7dAorJ3yz8/AAAAAAAAAAI/AAAAAAAACkI/gj_5lhLTdCQ/s50-c-k-no/photo.jpg",
      "userId": "112499826195748670972"
     },
     "user_tz": -480
    },
    "id": "6zdzwXwP54VY",
    "outputId": "6a754844-4337-428e-ace1-5929a9a5b60f"
   },
   "outputs": [
    {
     "data": {
      "text/plain": [
       "74.38"
      ]
     },
     "execution_count": 178,
     "metadata": {},
     "output_type": "execute_result"
    }
   ],
   "source": [
    "clf = GaussianNB()\n",
    "clf.fit(X_train,Y_train)\n",
    "Y_pred_clf = clf.predict(X_test)\n",
    "acc_clf = round(clf.score(X_train,Y_train)*100,2)\n",
    "acc_clf"
   ]
  },
  {
   "cell_type": "code",
   "execution_count": 179,
   "metadata": {},
   "outputs": [
    {
     "data": {
      "text/plain": [
       "86.71"
      ]
     },
     "execution_count": 179,
     "metadata": {},
     "output_type": "execute_result"
    }
   ],
   "source": [
    "clf = LogisticRegression()\n",
    "clf.fit(X_train,Y_train)\n",
    "Y_pred_clf = clf.predict(X_test)\n",
    "acc_clf = round(clf.score(X_train,Y_train)*100,2)\n",
    "acc_clf"
   ]
  },
  {
   "cell_type": "code",
   "execution_count": 180,
   "metadata": {
    "colab": {
     "autoexec": {
      "startup": false,
      "wait_interval": 0
     }
    },
    "colab_type": "code",
    "id": "AA6yxIuP55UH"
   },
   "outputs": [],
   "source": [
    "submission = pd.DataFrame({\n",
    "        \"Id\": test_df[\"Id\"],\n",
    "        \"SalePrice\": Y_pred_clf\n",
    "    })\n",
    "submission.to_csv('submissionl'\n",
    "                  +\".csv\", \n",
    "                  index=False)\n",
    "#files.download('submission.csv')"
   ]
  },
  {
   "cell_type": "code",
   "execution_count": 181,
   "metadata": {
    "scrolled": true
   },
   "outputs": [
    {
     "name": "stderr",
     "output_type": "stream",
     "text": [
      "Using TensorFlow backend.\n"
     ]
    }
   ],
   "source": [
    "import keras\n",
    "from keras import models\n",
    "from keras.models import Sequential\n",
    "from keras.layers import Dense\n",
    "\n",
    "model = Sequential()\n",
    "model.add(Dense(32, input_dim=68, batch_size=4))\n",
    "model.add(Dense(1, batch_size=1))\n",
    "model.compile(optimizer='rmsprop',\n",
    "              loss= 'mae',\n",
    "              metrics=['mape'])"
   ]
  },
  {
   "cell_type": "code",
   "execution_count": 183,
   "metadata": {},
   "outputs": [],
   "source": [
    "#導入權重(如果存在)\n",
    "import os\n",
    "\n",
    "if os.path.exists('weight'):\n",
    "    model.load_weights('weight')"
   ]
  },
  {
   "cell_type": "code",
   "execution_count": 190,
   "metadata": {
    "scrolled": true
   },
   "outputs": [
    {
     "name": "stdout",
     "output_type": "stream",
     "text": [
      "Epoch 1/2\n",
      "1460/1460 [==============================] - 1s 531us/step - loss: 20702.2623 - mean_absolute_percentage_error: 11.1806\n",
      "Epoch 2/2\n",
      "1460/1460 [==============================] - 1s 534us/step - loss: 20636.6799 - mean_absolute_percentage_error: 11.1219\n"
     ]
    },
    {
     "data": {
      "text/plain": [
       "array([[112803.695],\n",
       "       [158665.16 ],\n",
       "       [176725.44 ],\n",
       "       ...,\n",
       "       [162503.42 ],\n",
       "       [122918.71 ],\n",
       "       [217001.97 ]], dtype=float32)"
      ]
     },
     "execution_count": 190,
     "metadata": {},
     "output_type": "execute_result"
    }
   ],
   "source": [
    "#訓練模型\n",
    "model.fit(X_train, Y_train, epochs=2, batch_size=4)\n",
    "classes = model.predict(X_test, batch_size=4)\n",
    "classes"
   ]
  },
  {
   "cell_type": "code",
   "execution_count": null,
   "metadata": {},
   "outputs": [],
   "source": [
    "#儲存權重\n",
    "#model.get_weights()\n",
    "#model.save_weights('weight')"
   ]
  },
  {
   "cell_type": "code",
   "execution_count": null,
   "metadata": {},
   "outputs": [],
   "source": [
    "#price=classes.T"
   ]
  },
  {
   "cell_type": "code",
   "execution_count": null,
   "metadata": {},
   "outputs": [],
   "source": [
    "#submission = pd.DataFrame({\n",
    "#        \"Id\": test_df[\"Id\"],\n",
    "#        \"SalePrice\": price[0]\n",
    "#    })\n",
    "#submission.to_csv('submissionk'\n",
    "#                  +\".csv\", \n",
    "#                  index=False)\n",
    "#files.download('submission.csv')"
   ]
  },
  {
   "cell_type": "code",
   "execution_count": null,
   "metadata": {},
   "outputs": [],
   "source": [
    "#5 layer model\n",
    "\n",
    "#from keras.layers import Dropout\n",
    "\n",
    "#model2 = Sequential()\n",
    "#model2.add(Dense(32, input_dim=68, batch_size=4))\n",
    "#model2.add(Dense(16, input_dim=68, batch_size=4))\n",
    "#model2.add(Dense(8, input_dim=68, batch_size=4))\n",
    "#model2.add(Dense(4, input_dim=68, batch_size=4))\n",
    "#model2.add(Dense(1, input_dim=68, batch_size=4))\n",
    "#model2.compile(optimizer='rmsprop',\n",
    "#              loss='mse',\n",
    "#              metrics=['mae'])"
   ]
  },
  {
   "cell_type": "code",
   "execution_count": null,
   "metadata": {},
   "outputs": [],
   "source": [
    "#導入權重(如果存在)\n",
    "#if os.path.exists('weight3'):\n",
    "#    model2.load_weights('weight3')"
   ]
  },
  {
   "cell_type": "code",
   "execution_count": null,
   "metadata": {},
   "outputs": [],
   "source": [
    "#訓練模型\n",
    "#model2.fit(X_train, Y_train, epochs=1, batch_size=4)\n",
    "#classes2 = model2.predict(X_test, batch_size=4)\n",
    "#classes2"
   ]
  },
  {
   "cell_type": "code",
   "execution_count": null,
   "metadata": {},
   "outputs": [],
   "source": [
    "#儲存權重\n",
    "#model2.get_weights()\n",
    "#model2.save_weights('weight3')"
   ]
  },
  {
   "cell_type": "code",
   "execution_count": null,
   "metadata": {},
   "outputs": [],
   "source": [
    "#price2=classes2.T"
   ]
  },
  {
   "cell_type": "code",
   "execution_count": null,
   "metadata": {},
   "outputs": [],
   "source": [
    "#submission = pd.DataFrame({\n",
    "#        \"Id\": test_df[\"Id\"],\n",
    "#        \"SalePrice\": price2[0]\n",
    "#    })\n",
    "#submission.to_csv('submissionk2'\n",
    "#                  +\".csv\", \n",
    "#                  index=False)\n",
    "#files.download('submission.csv')"
   ]
  },
  {
   "cell_type": "code",
   "execution_count": null,
   "metadata": {},
   "outputs": [],
   "source": [
    "#3 layer model\n",
    "\n",
    "#from keras.layers import Dropout\n",
    "\n",
    "#model3 = Sequential()\n",
    "#model3.add(Dense(32, input_dim=68, batch_size=4))\n",
    "#model3.add(Dense(8, input_dim=68, batch_size=4))\n",
    "#model3.add(Dense(1, input_dim=68, batch_size=4))\n",
    "#model3.compile(optimizer='rmsprop',\n",
    "#              loss='mse',\n",
    "#              metrics=['mae'])"
   ]
  },
  {
   "cell_type": "code",
   "execution_count": null,
   "metadata": {},
   "outputs": [],
   "source": [
    "#導入權重(如果存在)\n",
    "#if os.path.exists('weight4'):\n",
    "#    model3.load_weights('weight4')"
   ]
  },
  {
   "cell_type": "code",
   "execution_count": null,
   "metadata": {},
   "outputs": [],
   "source": [
    "#訓練模型\n",
    "#model3.fit(X_train, Y_train, epochs=500, batch_size=4)\n",
    "#classes3 = model3.predict(X_test, batch_size=4)\n",
    "#classes3"
   ]
  },
  {
   "cell_type": "code",
   "execution_count": null,
   "metadata": {},
   "outputs": [],
   "source": [
    "#儲存權重\n",
    "#model3.get_weights()\n",
    "#model3.save_weights('weight4')"
   ]
  },
  {
   "cell_type": "code",
   "execution_count": null,
   "metadata": {},
   "outputs": [],
   "source": [
    "#price3=classes3.T"
   ]
  },
  {
   "cell_type": "code",
   "execution_count": null,
   "metadata": {},
   "outputs": [],
   "source": [
    "#submission = pd.DataFrame({\n",
    "#        \"Id\": test_df[\"Id\"],\n",
    "#        \"SalePrice\": price3[0]\n",
    "#    })\n",
    "#submission.to_csv('submissionk3'\n",
    "#                  +\".csv\", \n",
    "#                  index=False)\n",
    "#files.download('submission.csv')"
   ]
  },
  {
   "cell_type": "code",
   "execution_count": 192,
   "metadata": {},
   "outputs": [],
   "source": [
    "#2 layer relu\n",
    "model = Sequential()\n",
    "model.add(Dense(68, input_dim=68, batch_size=4, activation='relu'))\n",
    "model.add(Dense(1, batch_size=1))\n",
    "model.compile(optimizer='rmsprop',\n",
    "              loss= 'mae',\n",
    "              metrics=['mape'])"
   ]
  },
  {
   "cell_type": "code",
   "execution_count": 193,
   "metadata": {},
   "outputs": [],
   "source": [
    "#導入權重(如果存在)\n",
    "import os\n",
    "\n",
    "if os.path.exists('weight5'):\n",
    "    model.load_weights('weight5')"
   ]
  },
  {
   "cell_type": "code",
   "execution_count": 198,
   "metadata": {},
   "outputs": [
    {
     "name": "stdout",
     "output_type": "stream",
     "text": [
      "Epoch 1/2\n",
      "1460/1460 [==============================] - 1s 532us/step - loss: 20511.2495 - mean_absolute_percentage_error: 10.9195\n",
      "Epoch 2/2\n",
      "1460/1460 [==============================] - 1s 501us/step - loss: 20533.7355 - mean_absolute_percentage_error: 10.9413\n"
     ]
    },
    {
     "data": {
      "text/plain": [
       "array([[112950.17],\n",
       "       [162019.22],\n",
       "       [177325.7 ],\n",
       "       ...,\n",
       "       [161496.14],\n",
       "       [122107.85],\n",
       "       [217442.9 ]], dtype=float32)"
      ]
     },
     "execution_count": 198,
     "metadata": {},
     "output_type": "execute_result"
    }
   ],
   "source": [
    "#訓練模型\n",
    "model.fit(X_train, Y_train, epochs=2, batch_size=4)\n",
    "classes = model.predict(X_test, batch_size=4)\n",
    "classes"
   ]
  },
  {
   "cell_type": "code",
   "execution_count": null,
   "metadata": {},
   "outputs": [],
   "source": [
    "#儲存權重\n",
    "model.get_weights()\n",
    "model.save_weights('weight5')"
   ]
  },
  {
   "cell_type": "code",
   "execution_count": null,
   "metadata": {},
   "outputs": [],
   "source": [
    "price=classes.T"
   ]
  },
  {
   "cell_type": "code",
   "execution_count": null,
   "metadata": {},
   "outputs": [],
   "source": [
    "submission = pd.DataFrame({\n",
    "        \"Id\": test_df[\"Id\"],\n",
    "        \"SalePrice\": price[0]\n",
    "    })\n",
    "submission.to_csv('submissionk4'\n",
    "                  +\".csv\", \n",
    "                  index=False)\n",
    "#files.download('submission.csv')"
   ]
  },
  {
   "cell_type": "code",
   "execution_count": 203,
   "metadata": {},
   "outputs": [],
   "source": [
    "#3 layer relu\n",
    "model = Sequential()\n",
    "model.add(Dense(68, input_dim=68, batch_size=4, activation='relu'))\n",
    "model.add(Dense(68, batch_size=4, activation='relu'))\n",
    "model.add(Dense(1, batch_size=4))\n",
    "model.compile(optimizer='rmsprop',\n",
    "              loss= 'mae',\n",
    "              metrics=['mape'])"
   ]
  },
  {
   "cell_type": "code",
   "execution_count": 213,
   "metadata": {},
   "outputs": [],
   "source": [
    "#導入權重(如果存在)\n",
    "import os\n",
    "\n",
    "if os.path.exists('weight6'):\n",
    "    model.load_weights('weight6')"
   ]
  },
  {
   "cell_type": "code",
   "execution_count": 214,
   "metadata": {
    "scrolled": true
   },
   "outputs": [
    {
     "name": "stdout",
     "output_type": "stream",
     "text": [
      "Epoch 1/2\n",
      "1460/1460 [==============================] - 1s 624us/step - loss: 17660.5897 - mean_absolute_percentage_error: 9.5388\n",
      "Epoch 2/2\n",
      "1460/1460 [==============================] - 1s 598us/step - loss: 17615.1187 - mean_absolute_percentage_error: 9.6664\n"
     ]
    },
    {
     "data": {
      "text/plain": [
       "<keras.callbacks.History at 0x1748175ca58>"
      ]
     },
     "execution_count": 214,
     "metadata": {},
     "output_type": "execute_result"
    }
   ],
   "source": [
    "#訓練模型\n",
    "model.fit(X_train, Y_train, epochs=2, batch_size=4)"
   ]
  },
  {
   "cell_type": "code",
   "execution_count": 210,
   "metadata": {},
   "outputs": [
    {
     "data": {
      "text/plain": [
       "array([[112292.48],\n",
       "       [159367.42],\n",
       "       [171532.08],\n",
       "       ...,\n",
       "       [151384.64],\n",
       "       [121408.88],\n",
       "       [217184.12]], dtype=float32)"
      ]
     },
     "execution_count": 210,
     "metadata": {},
     "output_type": "execute_result"
    }
   ],
   "source": [
    "classes = model.predict(X_test, batch_size=4)\n",
    "classes"
   ]
  },
  {
   "cell_type": "code",
   "execution_count": null,
   "metadata": {},
   "outputs": [],
   "source": [
    "#儲存權重\n",
    "model.get_weights()\n",
    "model.save_weights('weight6')"
   ]
  },
  {
   "cell_type": "code",
   "execution_count": 211,
   "metadata": {},
   "outputs": [],
   "source": [
    "price=classes.T"
   ]
  },
  {
   "cell_type": "code",
   "execution_count": 212,
   "metadata": {},
   "outputs": [],
   "source": [
    "submission = pd.DataFrame({\n",
    "        \"Id\": test_df[\"Id\"],\n",
    "        \"SalePrice\": price[0]\n",
    "    })\n",
    "submission.to_csv('submissionk5'\n",
    "                  +\".csv\", \n",
    "                  index=False)\n",
    "#files.download('submission.csv')"
   ]
  },
  {
   "cell_type": "code",
   "execution_count": 187,
   "metadata": {},
   "outputs": [],
   "source": [
    "#4 layer relu\n",
    "model = Sequential()\n",
    "model.add(Dense(68, input_dim=68, batch_size=4, activation='relu'))\n",
    "model.add(Dense(68, batch_size=4, activation='relu'))\n",
    "model.add(Dense(68, batch_size=4, activation='relu'))\n",
    "model.add(Dense(1, batch_size=4))\n",
    "model.compile(optimizer='rmsprop',\n",
    "              loss= 'mae',\n",
    "              metrics=['mape'])"
   ]
  },
  {
   "cell_type": "code",
   "execution_count": 186,
   "metadata": {},
   "outputs": [],
   "source": [
    "#導入權重(如果存在)\n",
    "import os\n",
    "\n",
    "if os.path.exists('weight8'):\n",
    "    model.load_weights('weight8')"
   ]
  },
  {
   "cell_type": "code",
   "execution_count": 191,
   "metadata": {},
   "outputs": [
    {
     "name": "stdout",
     "output_type": "stream",
     "text": [
      "Epoch 1/50\n",
      "1460/1460 [==============================] - 1s 686us/step - loss: 18672.8378 - mean_absolute_percentage_error: 10.0949\n",
      "Epoch 2/50\n",
      "1460/1460 [==============================] - 1s 669us/step - loss: 18491.2390 - mean_absolute_percentage_error: 10.0071\n",
      "Epoch 3/50\n",
      "1460/1460 [==============================] - 1s 668us/step - loss: 18653.2779 - mean_absolute_percentage_error: 10.0969\n",
      "Epoch 4/50\n",
      "1460/1460 [==============================] - 1s 679us/step - loss: 18471.1135 - mean_absolute_percentage_error: 10.1100\n",
      "Epoch 5/50\n",
      "1460/1460 [==============================] - 1s 669us/step - loss: 18182.5778 - mean_absolute_percentage_error: 9.8074\n",
      "Epoch 6/50\n",
      "1460/1460 [==============================] - 1s 665us/step - loss: 18398.4188 - mean_absolute_percentage_error: 10.0279\n",
      "Epoch 7/50\n",
      "1460/1460 [==============================] - 1s 654us/step - loss: 18296.8659 - mean_absolute_percentage_error: 9.9112\n",
      "Epoch 8/50\n",
      "1460/1460 [==============================] - 1s 663us/step - loss: 18251.8623 - mean_absolute_percentage_error: 9.9814\n",
      "Epoch 9/50\n",
      "1460/1460 [==============================] - 1s 661us/step - loss: 18315.5288 - mean_absolute_percentage_error: 9.9288\n",
      "Epoch 10/50\n",
      "1460/1460 [==============================] - 1s 695us/step - loss: 18288.3309 - mean_absolute_percentage_error: 9.9319\n",
      "Epoch 11/50\n",
      "1460/1460 [==============================] - 1s 737us/step - loss: 18442.0909 - mean_absolute_percentage_error: 10.0759\n",
      "Epoch 12/50\n",
      "1460/1460 [==============================] - 1s 667us/step - loss: 18553.5774 - mean_absolute_percentage_error: 10.0544\n",
      "Epoch 13/50\n",
      "1460/1460 [==============================] - 1s 683us/step - loss: 18356.4489 - mean_absolute_percentage_error: 9.9988\n",
      "Epoch 14/50\n",
      "1460/1460 [==============================] - 1s 665us/step - loss: 18211.3060 - mean_absolute_percentage_error: 9.7986\n",
      "Epoch 15/50\n",
      "1460/1460 [==============================] - 1s 667us/step - loss: 18306.6687 - mean_absolute_percentage_error: 9.9319\n",
      "Epoch 16/50\n",
      "1460/1460 [==============================] - 1s 665us/step - loss: 18454.9159 - mean_absolute_percentage_error: 9.9797\n",
      "Epoch 17/50\n",
      "1460/1460 [==============================] - 1s 667us/step - loss: 18423.2069 - mean_absolute_percentage_error: 10.0429\n",
      "Epoch 18/50\n",
      "1460/1460 [==============================] - 1s 674us/step - loss: 18534.1119 - mean_absolute_percentage_error: 10.1614\n",
      "Epoch 19/50\n",
      "1460/1460 [==============================] - 1s 672us/step - loss: 18530.9717 - mean_absolute_percentage_error: 10.0617\n",
      "Epoch 20/50\n",
      "1460/1460 [==============================] - 1s 682us/step - loss: 17870.9456 - mean_absolute_percentage_error: 9.7240\n",
      "Epoch 21/50\n",
      "1460/1460 [==============================] - 1s 669us/step - loss: 18332.9933 - mean_absolute_percentage_error: 9.9747\n",
      "Epoch 22/50\n",
      "1460/1460 [==============================] - 1s 684us/step - loss: 18277.3305 - mean_absolute_percentage_error: 9.9230\n",
      "Epoch 23/50\n",
      "1460/1460 [==============================] - 1s 674us/step - loss: 18473.5053 - mean_absolute_percentage_error: 9.9521\n",
      "Epoch 24/50\n",
      "1460/1460 [==============================] - 1s 684us/step - loss: 18334.4478 - mean_absolute_percentage_error: 9.8736\n",
      "Epoch 25/50\n",
      "1460/1460 [==============================] - 1s 682us/step - loss: 18348.8794 - mean_absolute_percentage_error: 10.0358\n",
      "Epoch 26/50\n",
      "1460/1460 [==============================] - 1s 685us/step - loss: 18094.6857 - mean_absolute_percentage_error: 9.7790\n",
      "Epoch 27/50\n",
      "1460/1460 [==============================] - 1s 751us/step - loss: 18261.8653 - mean_absolute_percentage_error: 9.9516\n",
      "Epoch 28/50\n",
      "1460/1460 [==============================] - 1s 666us/step - loss: 17928.7706 - mean_absolute_percentage_error: 9.7977\n",
      "Epoch 29/50\n",
      "1460/1460 [==============================] - 1s 669us/step - loss: 18426.9908 - mean_absolute_percentage_error: 9.9478\n",
      "Epoch 30/50\n",
      "1460/1460 [==============================] - 1s 659us/step - loss: 18573.6717 - mean_absolute_percentage_error: 10.0666\n",
      "Epoch 31/50\n",
      "1460/1460 [==============================] - 1s 676us/step - loss: 18099.2758 - mean_absolute_percentage_error: 9.8818\n",
      "Epoch 32/50\n",
      "1460/1460 [==============================] - 1s 691us/step - loss: 18531.5210 - mean_absolute_percentage_error: 10.0184\n",
      "Epoch 33/50\n",
      "1460/1460 [==============================] - 1s 675us/step - loss: 18140.9736 - mean_absolute_percentage_error: 9.8988\n",
      "Epoch 34/50\n",
      "1460/1460 [==============================] - 1s 678us/step - loss: 18445.8450 - mean_absolute_percentage_error: 9.9866\n",
      "Epoch 35/50\n",
      "1460/1460 [==============================] - 1s 671us/step - loss: 18178.4351 - mean_absolute_percentage_error: 9.8036\n",
      "Epoch 36/50\n",
      "1460/1460 [==============================] - 1s 659us/step - loss: 18496.6650 - mean_absolute_percentage_error: 9.9711\n",
      "Epoch 37/50\n",
      "1460/1460 [==============================] - 1s 677us/step - loss: 18252.7009 - mean_absolute_percentage_error: 9.8504\n",
      "Epoch 38/50\n",
      "1460/1460 [==============================] - 1s 685us/step - loss: 18261.7566 - mean_absolute_percentage_error: 9.9638\n",
      "Epoch 39/50\n",
      "1460/1460 [==============================] - 1s 666us/step - loss: 18371.1966 - mean_absolute_percentage_error: 9.9333\n",
      "Epoch 40/50\n",
      "1460/1460 [==============================] - 1s 681us/step - loss: 18160.2168 - mean_absolute_percentage_error: 9.8668\n",
      "Epoch 41/50\n",
      "1460/1460 [==============================] - 1s 672us/step - loss: 18428.4221 - mean_absolute_percentage_error: 10.0650\n",
      "Epoch 42/50\n",
      "1460/1460 [==============================] - 1s 679us/step - loss: 18115.7505 - mean_absolute_percentage_error: 9.8218\n",
      "Epoch 43/50\n",
      "1460/1460 [==============================] - 1s 760us/step - loss: 18256.8805 - mean_absolute_percentage_error: 9.8521\n",
      "Epoch 44/50\n",
      "1460/1460 [==============================] - 1s 679us/step - loss: 18257.7760 - mean_absolute_percentage_error: 9.9200\n",
      "Epoch 45/50\n",
      "1460/1460 [==============================] - 1s 670us/step - loss: 18138.4331 - mean_absolute_percentage_error: 9.9105\n",
      "Epoch 46/50\n",
      "1460/1460 [==============================] - 1s 679us/step - loss: 18297.4456 - mean_absolute_percentage_error: 9.9064\n",
      "Epoch 47/50\n",
      "1460/1460 [==============================] - 1s 672us/step - loss: 18537.0304 - mean_absolute_percentage_error: 10.0329\n",
      "Epoch 48/50\n",
      "1460/1460 [==============================] - 1s 665us/step - loss: 18401.0388 - mean_absolute_percentage_error: 9.9105\n",
      "Epoch 49/50\n",
      "1460/1460 [==============================] - 1s 674us/step - loss: 18266.7362 - mean_absolute_percentage_error: 9.8461\n",
      "Epoch 50/50\n",
      "1460/1460 [==============================] - 1s 679us/step - loss: 18164.0542 - mean_absolute_percentage_error: 9.8561\n"
     ]
    },
    {
     "data": {
      "text/plain": [
       "array([[100322.16],\n",
       "       [136093.55],\n",
       "       [136354.64],\n",
       "       ...,\n",
       "       [124773.19],\n",
       "       [105530.24],\n",
       "       [185048.31]], dtype=float32)"
      ]
     },
     "execution_count": 191,
     "metadata": {},
     "output_type": "execute_result"
    }
   ],
   "source": [
    "#訓練模型\n",
    "model.fit(X_train, Y_train, epochs=50, batch_size=4)\n",
    "classes = model.predict(X_test, batch_size=4)\n",
    "classes"
   ]
  },
  {
   "cell_type": "code",
   "execution_count": 348,
   "metadata": {},
   "outputs": [],
   "source": [
    "#儲存權重\n",
    "model.get_weights()\n",
    "model.save_weights('weight8')"
   ]
  },
  {
   "cell_type": "code",
   "execution_count": 349,
   "metadata": {},
   "outputs": [],
   "source": [
    "price=classes.T"
   ]
  },
  {
   "cell_type": "code",
   "execution_count": 350,
   "metadata": {},
   "outputs": [],
   "source": [
    "submission = pd.DataFrame({\n",
    "        \"Id\": test_df[\"Id\"],\n",
    "        \"SalePrice\": price[0]\n",
    "    })\n",
    "submission.to_csv('submissionk7'\n",
    "                  +\".csv\", \n",
    "                  index=False)\n",
    "#files.download('submission.csv')"
   ]
  },
  {
   "cell_type": "code",
   "execution_count": 351,
   "metadata": {},
   "outputs": [],
   "source": [
    "#adam\n",
    "model = Sequential()\n",
    "model.add(Dense(68, input_dim=68, batch_size=4, activation='relu'))\n",
    "model.add(Dense(68, batch_size=4, activation='relu'))\n",
    "model.add(Dense(1, batch_size=2))\n",
    "model.compile(optimizer='adam',\n",
    "              loss= 'mae',\n",
    "              metrics=['mape'])"
   ]
  },
  {
   "cell_type": "code",
   "execution_count": 352,
   "metadata": {},
   "outputs": [],
   "source": [
    "#導入權重(如果存在)\n",
    "import os\n",
    "\n",
    "if os.path.exists('weight7'):\n",
    "    model.load_weights('weight7')"
   ]
  },
  {
   "cell_type": "code",
   "execution_count": 378,
   "metadata": {},
   "outputs": [
    {
     "name": "stdout",
     "output_type": "stream",
     "text": [
      "Epoch 1/1\n",
      "1460/1460 [==============================] - 1s 659us/step - loss: 17227.5587 - mean_absolute_percentage_error: 9.4249\n"
     ]
    },
    {
     "data": {
      "text/plain": [
       "array([[108344.94],\n",
       "       [148444.31],\n",
       "       [159735.52],\n",
       "       ...,\n",
       "       [145853.19],\n",
       "       [113266.6 ],\n",
       "       [209683.22]], dtype=float32)"
      ]
     },
     "execution_count": 378,
     "metadata": {},
     "output_type": "execute_result"
    }
   ],
   "source": [
    "#訓練模型\n",
    "model.fit(X_train, Y_train, epochs=1, batch_size=4)\n",
    "classes = model.predict(X_test, batch_size=4)\n",
    "classes"
   ]
  },
  {
   "cell_type": "code",
   "execution_count": 379,
   "metadata": {},
   "outputs": [],
   "source": [
    "#儲存權重\n",
    "model.get_weights()\n",
    "model.save_weights('weight7')"
   ]
  },
  {
   "cell_type": "code",
   "execution_count": 380,
   "metadata": {},
   "outputs": [],
   "source": [
    "price=classes.T"
   ]
  },
  {
   "cell_type": "code",
   "execution_count": 381,
   "metadata": {},
   "outputs": [],
   "source": [
    "submission = pd.DataFrame({\n",
    "        \"Id\": test_df[\"Id\"],\n",
    "        \"SalePrice\": price[0]\n",
    "    })\n",
    "submission.to_csv('submissionk6'\n",
    "                  +\".csv\", \n",
    "                  index=False)\n",
    "#files.download('submission.csv')"
   ]
  }
 ],
 "metadata": {
  "accelerator": "GPU",
  "colab": {
   "default_view": {},
   "name": "HousePrice.ipynb",
   "provenance": [],
   "version": "0.3.2",
   "views": {}
  },
  "kernelspec": {
   "display_name": "Python 3",
   "language": "python",
   "name": "python3"
  },
  "language_info": {
   "codemirror_mode": {
    "name": "ipython",
    "version": 3
   },
   "file_extension": ".py",
   "mimetype": "text/x-python",
   "name": "python",
   "nbconvert_exporter": "python",
   "pygments_lexer": "ipython3",
   "version": "3.6.6"
  }
 },
 "nbformat": 4,
 "nbformat_minor": 1
}
